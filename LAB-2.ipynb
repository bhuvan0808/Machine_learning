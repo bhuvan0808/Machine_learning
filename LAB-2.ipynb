{
 "cells": [
  {
   "cell_type": "markdown",
   "id": "3777583a",
   "metadata": {},
   "source": [
    "# LAB-2 (27/03/2023)"
   ]
  },
  {
   "cell_type": "markdown",
   "id": "f0749eda",
   "metadata": {},
   "source": [
    "# 1. write a program that accepts a sentence and calculate the number of letters and digits \n",
    "Sample input: hello world! 123\n",
    "Output:LETTERS-10, DIGITS-3\n",
    "NOTE:cannot use isupper, isalpha, isdigits, islower,upper,lower()"
   ]
  },
  {
   "cell_type": "code",
   "execution_count": 12,
   "id": "1c9314c4",
   "metadata": {},
   "outputs": [
    {
     "data": {
      "text/plain": [
       "'LETTERS: 10, DIGITS: 3'"
      ]
     },
     "execution_count": 12,
     "metadata": {},
     "output_type": "execute_result"
    }
   ],
   "source": [
    "import string\n",
    "def count_letters_digits(sentence):\n",
    "    letters = 0\n",
    "    digits = 0\n",
    "    for char in sentence:\n",
    "        if char in string.ascii_letters:\n",
    "            letters += 1\n",
    "        elif char in string.digits:\n",
    "            digits += 1\n",
    "    return f\"LETTERS: {letters}, DIGITS: {digits}\"\n",
    "sentence = \"hello world!123\"\n",
    "count_letters_digits(sentence) "
   ]
  },
  {
   "cell_type": "markdown",
   "id": "c13c65f4",
   "metadata": {},
   "source": [
    "# 2. Write a python program to add 'ing' at the end of a given string(length should be at least 3), if the given string already ends with 'ing' then add 'ly' instead. if the string length of given string is less than 3, leave it unchnged. "
   ]
  },
  {
   "cell_type": "code",
   "execution_count": 20,
   "id": "6eba6b4f",
   "metadata": {},
   "outputs": [
    {
     "name": "stdout",
     "output_type": "stream",
     "text": [
      "Enter a word to add 'ing' or 'ly': hj\n"
     ]
    },
    {
     "data": {
      "text/plain": [
       "'hj'"
      ]
     },
     "execution_count": 20,
     "metadata": {},
     "output_type": "execute_result"
    }
   ],
   "source": [
    "def add_suffix():\n",
    "    s = input(\"Enter a word to add 'ing' or 'ly': \")\n",
    "    if len(s) < 3:\n",
    "        return s\n",
    "    elif s[-3:] == 'ing':\n",
    "        return s + 'ly'\n",
    "    else:\n",
    "        return s + 'ing'\n",
    "add_suffix()"
   ]
  },
  {
   "cell_type": "markdown",
   "id": "1c06d1ab",
   "metadata": {},
   "source": [
    "# 3.write a python program that takes a list of words (user input one by one)use space to stop and returns the length of the longest one(hint:use isspace())"
   ]
  },
  {
   "cell_type": "code",
   "execution_count": null,
   "id": "e28b6a1c",
   "metadata": {},
   "outputs": [],
   "source": [
    "words[]\n",
    "word"
   ]
  },
  {
   "cell_type": "markdown",
   "id": "08bb7855",
   "metadata": {},
   "source": [
    "4. write a python program to check if a string contains all letters of the alphabet(uppercaseand lowercase both). Note; Can't use isupper or islower functions"
   ]
  },
  {
   "cell_type": "code",
   "execution_count": 24,
   "id": "dfe94f48",
   "metadata": {},
   "outputs": [
    {
     "data": {
      "text/plain": [
       "True"
      ]
     },
     "execution_count": 24,
     "metadata": {},
     "output_type": "execute_result"
    }
   ],
   "source": [
    "def contains_all_alphabet_letters(string):\n",
    "    lowercase_alphabets = set('abcdefghijklmnopqrstuvwxyz')\n",
    "    uppercase_alphabets = set('ABCDEFGHIJKLMNOPQRSTUVWXYZ')\n",
    "    lowercase_string = set(string.lower())\n",
    "    uppercase_string = set(string.upper())\n",
    "    return lowercase_alphabets.issubset(lowercase_string) and uppercase_alphabets.issubset(uppercase_string)\n",
    "contains_all_alphabet_letters('abcdefghijklmnopqrstuvwxyz')"
   ]
  },
  {
   "cell_type": "code",
   "execution_count": 26,
   "id": "bab8d8b8",
   "metadata": {},
   "outputs": [
    {
     "name": "stdout",
     "output_type": "stream",
     "text": [
      "enter the sentence to check if it contain all alphabets: hello im sai Vinil Reddy\n"
     ]
    },
    {
     "data": {
      "text/plain": [
       "False"
      ]
     },
     "execution_count": 26,
     "metadata": {},
     "output_type": "execute_result"
    }
   ],
   "source": [
    "def contains_all_alphabet_letters(string):\n",
    "    lowercase_alphabets = set('abcdefghijklmnopqrstuvwxyz')\n",
    "    uppercase_alphabets = set('ABCDEFGHIJKLMNOPQRSTUVWXYZ')\n",
    "    lowercase_string = set(string.lower())\n",
    "    uppercase_string = set(string.upper())\n",
    "    return lowercase_alphabets.issubset(lowercase_string) and uppercase_alphabets.issubset(uppercase_string)\n",
    "string=input('enter the sentence to check if it contain all alphabets: ')\n",
    "contains_all_alphabet_letters(string)"
   ]
  },
  {
   "cell_type": "markdown",
   "id": "779bd384",
   "metadata": {},
   "source": [
    "# 5. Write a Python program to count the number of charecters (charecter frequency) in a string \n",
    "Example: AAAABBBBBCC\n",
    "    Output:4A, 5B, 2C"
   ]
  },
  {
   "cell_type": "code",
   "execution_count": 6,
   "id": "aeba5a92",
   "metadata": {},
   "outputs": [
    {
     "name": "stdout",
     "output_type": "stream",
     "text": [
      "4A, 5B, 2C\n"
     ]
    }
   ],
   "source": [
    "def char_frequency(string):\n",
    "    freq = {}\n",
    "    for char in string:\n",
    "        if char in freq:\n",
    "            freq[char] += 1\n",
    "        else:\n",
    "            freq[char] = 1\n",
    "\n",
    "    freq_str = \"\"\n",
    "    for i in freq:\n",
    "        freq_str += str(freq[i]) + i + \", \"\n",
    "\n",
    "    return freq_str[:-2]\n",
    "string = \"AAAABBBBBCC\"\n",
    "print(char_frequency(string))\n",
    "\n",
    "\n"
   ]
  },
  {
   "cell_type": "markdown",
   "id": "e3c8076d",
   "metadata": {},
   "source": [
    "\n",
    "# non attempted"
   ]
  },
  {
   "cell_type": "markdown",
   "id": "c3664afe",
   "metadata": {},
   "source": [
    "# 7.write a programm to count and display the number of capital letters in a given string"
   ]
  }
 ],
 "metadata": {
  "kernelspec": {
   "display_name": "Python 3 (ipykernel)",
   "language": "python",
   "name": "python3"
  },
  "language_info": {
   "codemirror_mode": {
    "name": "ipython",
    "version": 3
   },
   "file_extension": ".py",
   "mimetype": "text/x-python",
   "name": "python",
   "nbconvert_exporter": "python",
   "pygments_lexer": "ipython3",
   "version": "3.10.9"
  }
 },
 "nbformat": 4,
 "nbformat_minor": 5
}
