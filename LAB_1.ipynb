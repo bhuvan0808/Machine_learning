{
 "cells": [
  {
   "cell_type": "markdown",
   "id": "2fe18dc0",
   "metadata": {},
   "source": [
    "# Lab-1 (24/03/2023)"
   ]
  },
  {
   "cell_type": "markdown",
   "id": "638b0ae6",
   "metadata": {},
   "source": [
    "# 1.find difference between 2 integers without using minus sign"
   ]
  },
  {
   "cell_type": "code",
   "execution_count": 1,
   "id": "70e113b4",
   "metadata": {},
   "outputs": [
    {
     "name": "stdout",
     "output_type": "stream",
     "text": [
      "enter a number between 0 and 10: 7\n",
      "enter a number between 0 and 10 which has to be subtracted: 5\n",
      "2\n"
     ]
    }
   ],
   "source": [
    "a= int(input('enter a number between 0 and 10: '))\n",
    "b= int(input('enter a number between 0 and 10 which has to be subtracted: '))\n",
    "min_b = ~b + 1 \n",
    "\n",
    "a_min_b = a + min_b \n",
    "print(a_min_b)"
   ]
  },
  {
   "cell_type": "markdown",
   "id": "dfb8d4e0",
   "metadata": {},
   "source": [
    "# 2. check whether a number is Armstrong"
   ]
  },
  {
   "cell_type": "code",
   "execution_count": 4,
   "id": "a953c0e8",
   "metadata": {},
   "outputs": [
    {
     "name": "stdout",
     "output_type": "stream",
     "text": [
      "Enter a number to check if it is amstrong or not: 123\n",
      "False\n"
     ]
    }
   ],
   "source": [
    "def length(x):\n",
    "\tn = 0\n",
    "\twhile (x != 0):\n",
    "\t\tn = n + 1\n",
    "\t\tx = x // 10\n",
    "\treturn n\n",
    "def Armstrong(x):\n",
    "\tn = length(x)\n",
    "\ttemp = x\n",
    "\tsum = 0\n",
    "\twhile (temp != 0):\n",
    "\t\ty = temp % 10\n",
    "\t\tsum = sum + y**n\n",
    "\t\ttemp = temp // 10\n",
    "\treturn (sum == x)\n",
    "x = int(input(\"Enter a number to check if it is amstrong or not: \"))\n",
    "print(Armstrong(x))\n",
    "\n"
   ]
  },
  {
   "cell_type": "markdown",
   "id": "28fe0629",
   "metadata": {},
   "source": [
    "<!-- write a program to print the following pattern:\n",
    "\n",
    "A\n",
    "B A\n",
    "C B A\n",
    "D C B A\n",
    "E D C B A -->\n"
   ]
  },
  {
   "cell_type": "markdown",
   "id": "c2cf6c2d",
   "metadata": {},
   "source": [
    "# 3. write a program to print the following\n",
    "A \n",
    "\n",
    "B A\n",
    "\n",
    "C B A\n",
    "\n",
    "D C B A\n",
    "\n",
    "E D C B A"
   ]
  },
  {
   "cell_type": "code",
   "execution_count": 15,
   "id": "b98bab8a",
   "metadata": {},
   "outputs": [
    {
     "name": "stdout",
     "output_type": "stream",
     "text": [
      "A \n",
      "B A \n",
      "C B A \n",
      "D C B A \n",
      "E D C B A \n"
     ]
    }
   ],
   "source": [
    "letters = ['A', 'B', 'C', 'D', 'E']\n",
    "\n",
    "for i in range(len(letters)):\n",
    "    for j in range(i+1):\n",
    "        print(letters[i-j], end=' ')\n",
    "    print()"
   ]
  },
  {
   "cell_type": "markdown",
   "id": "4ba3c321",
   "metadata": {},
   "source": [
    "# Un-Attempted"
   ]
  },
  {
   "cell_type": "markdown",
   "id": "18911ae3",
   "metadata": {},
   "source": [
    "# write a python program to find all the Strong numbers among the given list of numbers \n",
    "Example: N=145= 1!+4!+5!=1+24+120=145, Hint: list=[145, 375, 100, 2, 10]"
   ]
  },
  {
   "cell_type": "code",
   "execution_count": null,
   "id": "58b7ff0a",
   "metadata": {},
   "outputs": [],
   "source": [
    "list=[145, 375, 100, 2, 10]\n"
   ]
  }
 ],
 "metadata": {
  "kernelspec": {
   "display_name": "Python 3 (ipykernel)",
   "language": "python",
   "name": "python3"
  },
  "language_info": {
   "codemirror_mode": {
    "name": "ipython",
    "version": 3
   },
   "file_extension": ".py",
   "mimetype": "text/x-python",
   "name": "python",
   "nbconvert_exporter": "python",
   "pygments_lexer": "ipython3",
   "version": "3.10.9"
  }
 },
 "nbformat": 4,
 "nbformat_minor": 5
}
