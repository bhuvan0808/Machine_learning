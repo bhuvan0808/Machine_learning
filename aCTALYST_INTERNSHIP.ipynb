{
  "nbformat": 4,
  "nbformat_minor": 0,
  "metadata": {
    "colab": {
      "provenance": [],
      "authorship_tag": "ABX9TyN9TsAIXM+K/qmmR7VKbbff",
      "include_colab_link": true
    },
    "kernelspec": {
      "name": "python3",
      "display_name": "Python 3"
    },
    "language_info": {
      "name": "python"
    }
  },
  "cells": [
    {
      "cell_type": "markdown",
      "metadata": {
        "id": "view-in-github",
        "colab_type": "text"
      },
      "source": [
        "<a href=\"https://colab.research.google.com/github/bhuvan0808/Machine_learning/blob/main/aCTALYST_INTERNSHIP.ipynb\" target=\"_parent\"><img src=\"https://colab.research.google.com/assets/colab-badge.svg\" alt=\"Open In Colab\"/></a>"
      ]
    },
    {
      "cell_type": "markdown",
      "source": [
        "Importing libraries"
      ],
      "metadata": {
        "id": "XOfnL1TsbMXg"
      }
    },
    {
      "cell_type": "code",
      "execution_count": null,
      "metadata": {
        "id": "zDNPVxi_W52m"
      },
      "outputs": [],
      "source": [
        "import pandas as pd\n",
        "import matplotlib.pyplot as plt\n",
        "import seaborn as sns\n",
        "import pandas as pd\n",
        "import numpy as np\n",
        "import matplotlib.pyplot as plt\n",
        "import plotly.express as px\n",
        "import plotly.graph_objects as go\n"
      ]
    },
    {
      "cell_type": "markdown",
      "source": [
        "importing data set"
      ],
      "metadata": {
        "id": "i_UrBMykXIgT"
      }
    },
    {
      "cell_type": "code",
      "source": [
        "dataset1 = pd.read_excel(\"test.xlsx\")"
      ],
      "metadata": {
        "id": "xQtIK-bxXbaF"
      },
      "execution_count": null,
      "outputs": []
    },
    {
      "cell_type": "code",
      "source": [
        "# Printing first 5 records of the dataset\n",
        "print(dataset1.head(5))"
      ],
      "metadata": {
        "id": "BUliIe6yzCN-"
      },
      "execution_count": null,
      "outputs": []
    },
    {
      "cell_type": "code",
      "source": [
        "dataset1.shape"
      ],
      "metadata": {
        "id": "fNqtF2_WzASe"
      },
      "execution_count": null,
      "outputs": []
    },
    {
      "cell_type": "code",
      "source": [
        "#List all column names\n",
        "print(dataset1.columns)"
      ],
      "metadata": {
        "id": "MXPPQ-Jky8VA"
      },
      "execution_count": null,
      "outputs": []
    },
    {
      "cell_type": "code",
      "source": [
        "dataset2 = pd.read_excel(\"train.xlsx\")"
      ],
      "metadata": {
        "id": "nxBi2N-n153v"
      },
      "execution_count": null,
      "outputs": []
    },
    {
      "cell_type": "code",
      "source": [
        "# Printing first 5 records of the dataset\n",
        "print(dataset2.head(5))"
      ],
      "metadata": {
        "id": "HjmGtw4Sy6Fw"
      },
      "execution_count": null,
      "outputs": []
    },
    {
      "cell_type": "code",
      "source": [
        "dataset2.shape"
      ],
      "metadata": {
        "id": "8YIDCKiIy2ZR"
      },
      "execution_count": null,
      "outputs": []
    },
    {
      "cell_type": "code",
      "source": [
        "#List all column names\n",
        "print(dataset2.columns)"
      ],
      "metadata": {
        "id": "gebvfwepy0KE"
      },
      "execution_count": null,
      "outputs": []
    },
    {
      "cell_type": "code",
      "source": [
        "dataset3 = pd.read_excel(\"validate.xlsx\")"
      ],
      "metadata": {
        "id": "04vakjdG1-DO"
      },
      "execution_count": null,
      "outputs": []
    },
    {
      "cell_type": "code",
      "source": [
        "# Printing first 5 records of the dataset\n",
        "print(dataset3.head(5))"
      ],
      "metadata": {
        "id": "CKN-33UzyxRG"
      },
      "execution_count": null,
      "outputs": []
    },
    {
      "cell_type": "code",
      "source": [
        "dataset3.shape"
      ],
      "metadata": {
        "id": "B1iBYVJlyvTF"
      },
      "execution_count": null,
      "outputs": []
    },
    {
      "cell_type": "code",
      "source": [
        "#List all column names\n",
        "print(dataset3.columns)"
      ],
      "metadata": {
        "id": "M7QBWvQyyqpD"
      },
      "execution_count": null,
      "outputs": []
    },
    {
      "cell_type": "markdown",
      "source": [
        "test.xlsx"
      ],
      "metadata": {
        "id": "_yRKD1mBux22"
      }
    },
    {
      "cell_type": "code",
      "source": [
        "print(dataset1.describe())"
      ],
      "metadata": {
        "id": "A25EUhwzyoOo"
      },
      "execution_count": null,
      "outputs": []
    },
    {
      "cell_type": "markdown",
      "source": [
        "data pre prossesing for test.xlsx"
      ],
      "metadata": {
        "id": "fZJN6jgObcnG"
      }
    },
    {
      "cell_type": "markdown",
      "source": [
        "data pre processing for test.xlsx"
      ],
      "metadata": {
        "id": "SQ5ebTa41kxj"
      }
    },
    {
      "cell_type": "code",
      "source": [
        "obj = (dataset1.dtypes == 'object')\n",
        "object_cols = list(obj[obj].index)\n",
        "print(\"Categorical variables:\",len(object_cols))\n",
        "\n",
        "int_ = (dataset1.dtypes == 'int')\n",
        "num_cols = list(int_[int_].index)\n",
        "print(\"Integer variables:\",len(num_cols))\n",
        "\n",
        "fl = (dataset1.dtypes == 'float')\n",
        "fl_cols = list(fl[fl].index)\n",
        "print(\"Float variables:\",len(fl_cols))"
      ],
      "metadata": {
        "id": "z0V_r8mNykbo"
      },
      "execution_count": null,
      "outputs": []
    },
    {
      "cell_type": "markdown",
      "source": [
        "Exploratory Data Analysis"
      ],
      "metadata": {
        "id": "Ccbv4r3rbn_f"
      }
    },
    {
      "cell_type": "code",
      "source": [
        "figure = px.bar(dataset1, x=dataset1[\"Locality\"],\n",
        "                y = dataset1[\"Price\"],\n",
        "                color = dataset1[\"Bedrooms\"],\n",
        "            title=\"Rent in Different Cities According to BHK\")\n",
        "figure.show()"
      ],
      "metadata": {
        "id": "DVIWIW-eyg9H"
      },
      "execution_count": null,
      "outputs": []
    },
    {
      "cell_type": "code",
      "source": [
        "sns.pairplot(dataset1)"
      ],
      "metadata": {
        "id": "UbGibJAnydhX"
      },
      "execution_count": null,
      "outputs": []
    },
    {
      "cell_type": "code",
      "source": [
        "\n",
        "\n",
        "sns.heatmap(dataset1.corr(),\n",
        "            annot = True)"
      ],
      "metadata": {
        "id": "bxPVWNFHbox8"
      },
      "execution_count": null,
      "outputs": []
    },
    {
      "cell_type": "code",
      "source": [
        "unique_values = []\n",
        "for col in object_cols:\n",
        "  unique_values.append(dataset1[col].unique().size)\n",
        "plt.figure(figsize=(10,6))\n",
        "plt.title('No. Unique values of Categorical Features')\n",
        "plt.xticks(rotation=90)\n",
        "sns.barplot(x=object_cols,y=unique_values)"
      ],
      "metadata": {
        "id": "9WFs00fhgNTa"
      },
      "execution_count": null,
      "outputs": []
    },
    {
      "cell_type": "code",
      "source": [
        "plt.figure(figsize=(100, 360))\n",
        "plt.title('Categorical Features: Distribution')\n",
        "plt.xticks(rotation=90)\n",
        "index = 1\n",
        "\n",
        "for col in object_cols:\n",
        "    y = dataset1[col].value_counts()\n",
        "    plt.subplot(11, 4, index)\n",
        "    plt.xticks(rotation=90)\n",
        "    sns.barplot(x=list(y.index), y=y)\n",
        "    index += 1"
      ],
      "metadata": {
        "id": "aDM-NMBXgShZ"
      },
      "execution_count": null,
      "outputs": []
    },
    {
      "cell_type": "markdown",
      "source": [
        "train.xlsx"
      ],
      "metadata": {
        "id": "vY0_BGwewQNv"
      }
    },
    {
      "cell_type": "code",
      "source": [
        "obj = (dataset2.dtypes == 'object')\n",
        "object_cols = list(obj[obj].index)\n",
        "print(\"Categorical variables:\",len(object_cols))\n",
        "\n",
        "int_ = (dataset2.dtypes == 'int')\n",
        "num_cols = list(int_[int_].index)\n",
        "print(\"Integer variables:\",len(num_cols))\n",
        "\n",
        "fl = (dataset2.dtypes == 'float')\n",
        "fl_cols = list(fl[fl].index)\n",
        "print(\"Float variables:\",len(fl_cols))"
      ],
      "metadata": {
        "id": "_l5Ma4BR4KwI"
      },
      "execution_count": null,
      "outputs": []
    },
    {
      "cell_type": "code",
      "source": [
        "plt.figure(figsize=(174, 9))\n",
        "sns.heatmap(dataset2.corr(),\n",
        "            cmap = 'BrBG',\n",
        "            fmt = '.2f',\n",
        "            linewidths = 2,\n",
        "            annot = True)"
      ],
      "metadata": {
        "id": "Nl-7Wdfm4YZd"
      },
      "execution_count": null,
      "outputs": []
    },
    {
      "cell_type": "code",
      "source": [
        "unique_values = []\n",
        "for col in object_cols:\n",
        "  unique_values.append(dataset2[col].unique().size)\n",
        "plt.figure(figsize=(10,6))\n",
        "plt.title('No. Unique values of Categorical Features')\n",
        "plt.xticks(rotation=90)\n",
        "sns.barplot(x=object_cols,y=unique_values)"
      ],
      "metadata": {
        "id": "8x5b8yfc4cQe"
      },
      "execution_count": null,
      "outputs": []
    },
    {
      "cell_type": "code",
      "source": [
        "plt.figure(figsize=(100, 460))\n",
        "plt.title('Categorical Features: Distribution')\n",
        "plt.xticks(rotation=90)\n",
        "index = 1\n",
        "\n",
        "for col in object_cols:\n",
        "    y = dataset2[col].value_counts()\n",
        "    plt.subplot(11, 4, index)\n",
        "    plt.xticks(rotation=90)\n",
        "    sns.barplot(x=list(y.index), y=y)\n",
        "    index += 1"
      ],
      "metadata": {
        "id": "EaXXhkDL4hwV"
      },
      "execution_count": null,
      "outputs": []
    },
    {
      "cell_type": "markdown",
      "source": [
        "data pre processing for validate.xlsx"
      ],
      "metadata": {
        "id": "Ndg8HddF5PfP"
      }
    },
    {
      "cell_type": "code",
      "source": [
        "obj = (dataset3.dtypes == 'object')\n",
        "object_cols = list(obj[obj].index)\n",
        "print(\"Categorical variables:\",len(object_cols))\n",
        "\n",
        "int_ = (dataset3.dtypes == 'int')\n",
        "num_cols = list(int_[int_].index)\n",
        "print(\"Integer variables:\",len(num_cols))\n",
        "\n",
        "fl = (dataset3.dtypes == 'float')\n",
        "fl_cols = list(fl[fl].index)\n",
        "print(\"Float variables:\",len(fl_cols))"
      ],
      "metadata": {
        "id": "Eg5-19M25TJN"
      },
      "execution_count": null,
      "outputs": []
    },
    {
      "cell_type": "code",
      "source": [
        "figure = px.bar(dataset2, x=dataset2[\"Locality\"],\n",
        "                y = dataset2[\"Price\"],\n",
        "                color = dataset2[\"Bedrooms\"],\n",
        "            title=\"Rent in Different Cities According to BHK\")\n",
        "figure.show()"
      ],
      "metadata": {
        "id": "Qz_YXHKQdU5n"
      },
      "execution_count": null,
      "outputs": []
    },
    {
      "cell_type": "code",
      "source": [
        "plt.figure(figsize=(174, 9))\n",
        "sns.heatmap(dataset3.corr(),\n",
        "            cmap = 'BrBG',\n",
        "            fmt = '.2f',\n",
        "            linewidths = 2,\n",
        "            annot = True)"
      ],
      "metadata": {
        "id": "Ks--Zhze5jwM"
      },
      "execution_count": null,
      "outputs": []
    },
    {
      "cell_type": "code",
      "source": [
        "unique_values = []\n",
        "for col in object_cols:\n",
        "  unique_values.append(dataset3[col].unique().size)\n",
        "plt.figure(figsize=(10,6))\n",
        "plt.title('No. Unique values of Categorical Features')\n",
        "plt.xticks(rotation=90)\n",
        "sns.barplot(x=object_cols,y=unique_values)"
      ],
      "metadata": {
        "id": "Ykpxy0QW5qOt"
      },
      "execution_count": null,
      "outputs": []
    },
    {
      "cell_type": "code",
      "source": [
        "plt.figure(figsize=(100, 460))\n",
        "plt.title('Categorical Features: Distribution')\n",
        "plt.xticks(rotation=90)\n",
        "index = 1\n",
        "\n",
        "for col in object_cols:\n",
        "    y = dataset3[col].value_counts()\n",
        "    plt.subplot(11, 4, index)\n",
        "    plt.xticks(rotation=90)\n",
        "    sns.barplot(x=list(y.index), y=y)\n",
        "    index += 1"
      ],
      "metadata": {
        "id": "eGwGIsaO50eX"
      },
      "execution_count": null,
      "outputs": []
    },
    {
      "cell_type": "markdown",
      "source": [
        "DATA CLEANING"
      ],
      "metadata": {
        "id": "ZaecTv20dZSH"
      }
    },
    {
      "cell_type": "code",
      "source": [
        "\n",
        "dataset1.drop(['Facing'],\n",
        "             axis=1,\n",
        "             inplace=True)"
      ],
      "metadata": {
        "id": "d4lhk76udbN9"
      },
      "execution_count": null,
      "outputs": []
    },
    {
      "cell_type": "code",
      "source": [
        "dataset1['Price'] = dataset1['Price'].fillna(\n",
        "dataset1['Price'].mean())\n"
      ],
      "metadata": {
        "id": "pp5mWbI4jQQ5"
      },
      "execution_count": null,
      "outputs": []
    },
    {
      "cell_type": "code",
      "source": [
        "dataset1['Price'].mean()"
      ],
      "metadata": {
        "id": "JbVntNcSl976"
      },
      "execution_count": null,
      "outputs": []
    },
    {
      "cell_type": "code",
      "source": [
        "new_dataset = dataset1.dropna()"
      ],
      "metadata": {
        "id": "gr2SNszymJZ3"
      },
      "execution_count": null,
      "outputs": []
    },
    {
      "cell_type": "code",
      "source": [
        "\n",
        "new_dataset.isnull().sum()"
      ],
      "metadata": {
        "id": "XHFlx2twmNI-"
      },
      "execution_count": null,
      "outputs": []
    },
    {
      "cell_type": "markdown",
      "source": [
        "OneHotEncoder – For Label categorical features"
      ],
      "metadata": {
        "id": "yB79fw6wme2P"
      }
    },
    {
      "cell_type": "code",
      "source": [
        "from sklearn.preprocessing import OneHotEncoder\n",
        "\n",
        "s = (new_dataset.dtypes == 'object')\n",
        "object_cols = list(s[s].index)\n",
        "print(\"Categorical variables:\")\n",
        "print(object_cols)\n",
        "print('No. of. categorical features: ',\n",
        "      len(object_cols))"
      ],
      "metadata": {
        "id": "P15Ab85xmfu9"
      },
      "execution_count": null,
      "outputs": []
    },
    {
      "cell_type": "code",
      "source": [
        "OH_encoder = OneHotEncoder(sparse=False)\n",
        "OH_cols = pd.DataFrame(OH_encoder.fit_transform(new_dataset1[object_cols]))\n",
        "OH_cols.index = new_dataset1.index\n",
        "OH_cols.columns = OH_encoder.get_feature_names()\n",
        "df_final = new_dataset1.drop(object_cols, axis=1)\n",
        "df_final = pd.concat([df_final, OH_cols], axis=1)"
      ],
      "metadata": {
        "id": "JXF8Gsremmdw"
      },
      "execution_count": null,
      "outputs": []
    },
    {
      "cell_type": "markdown",
      "source": [
        "Splitting Dataset into Training and Testing"
      ],
      "metadata": {
        "id": "csIRjBKSnduU"
      }
    },
    {
      "cell_type": "code",
      "source": [
        "from sklearn.metrics import mean_absolute_error\n",
        "from sklearn.model_selection import train_test_split\n",
        "\n",
        "X = dataset1_final.drop(['Price'], axis=1)\n",
        "Y = dataset1_final['Price']\n",
        "\n",
        "# Split the training set into\n",
        "# training and validation set\n",
        "X_train, X_valid, Y_train, Y_valid = train_test_split(\n",
        "    X, Y, train_size=0.8, test_size=0.2, random_state=0)"
      ],
      "metadata": {
        "id": "Xk8XPEEGnez2"
      },
      "execution_count": null,
      "outputs": []
    },
    {
      "cell_type": "markdown",
      "source": [
        "Model and Accuracy"
      ],
      "metadata": {
        "id": "36iCyBv0oM0a"
      }
    },
    {
      "cell_type": "markdown",
      "source": [
        "SVM – Support vector Machine"
      ],
      "metadata": {
        "id": "W6mCaUR6oR7l"
      }
    },
    {
      "cell_type": "code",
      "source": [
        "\n",
        "from sklearn import svm\n",
        "from sklearn.svm import SVC\n",
        "from sklearn.metrics import mean_absolute_percentage_error\n",
        "\n",
        "model_SVR = svm.SVR()\n",
        "model_SVR.fit(X_train,Y_train)\n",
        "Y_pred = model_SVR.predict(X_valid)\n",
        "\n",
        "print(mean_absolute_percentage_error(Y_valid, Y_pred))"
      ],
      "metadata": {
        "id": "pu56K4b9oXA8"
      },
      "execution_count": null,
      "outputs": []
    },
    {
      "cell_type": "markdown",
      "source": [
        "Random Forest Regression"
      ],
      "metadata": {
        "id": "8V7kIGMdoc0Q"
      }
    },
    {
      "cell_type": "code",
      "source": [
        "\n",
        "from sklearn.ensemble import RandomForestRegressor\n",
        "\n",
        "model_RFR = RandomForestRegressor(n_estimators=10)\n",
        "model_RFR.fit(X_train, Y_train)\n",
        "Y_pred = model_RFR.predict(X_valid)\n",
        "\n",
        "mean_absolute_percentage_error(Y_valid, Y_pred)"
      ],
      "metadata": {
        "id": "VDV7T_TnofSG"
      },
      "execution_count": null,
      "outputs": []
    },
    {
      "cell_type": "markdown",
      "source": [
        "Linear Regression"
      ],
      "metadata": {
        "id": "VxBaHS60oiBj"
      }
    },
    {
      "cell_type": "code",
      "source": [
        "\n",
        "from sklearn.linear_model import LinearRegression\n",
        "\n",
        "model_LR = LinearRegression()\n",
        "model_LR.fit(X_train, Y_train)\n",
        "Y_pred = model_LR.predict(X_valid)\n",
        "\n",
        "print(mean_absolute_percentage_error(Y_valid, Y_pred))"
      ],
      "metadata": {
        "id": "hss6ts2YoitD"
      },
      "execution_count": null,
      "outputs": []
    },
    {
      "cell_type": "markdown",
      "source": [
        "linear regression for train.xlsx"
      ],
      "metadata": {
        "id": "jArK6xhlvPlQ"
      }
    },
    {
      "cell_type": "code",
      "source": [
        "X = ['Bedrooms', 'Bathrooms', 'Furnishing', 'Tennants', 'Area',\n",
        "        'Location']\n",
        "       y = ['Price']"
      ],
      "metadata": {
        "id": "cUS8eNwEvVg_"
      },
      "execution_count": null,
      "outputs": []
    },
    {
      "cell_type": "code",
      "source": [
        "from sklearn.model_selection import train train_test_split"
      ],
      "metadata": {
        "id": "n4okvTu4vhJQ"
      },
      "execution_count": null,
      "outputs": []
    },
    {
      "cell_type": "code",
      "source": [
        "X_train, X_test, y_train, y_test = train_test_split(X,y,test_size=0,40, random_state=101)"
      ],
      "metadata": {
        "id": "5IWJjXKrvoji"
      },
      "execution_count": null,
      "outputs": []
    },
    {
      "cell_type": "code",
      "source": [
        "from sklearn.linear_model import linearRegression"
      ],
      "metadata": {
        "id": "x6P0YvXHvpfy"
      },
      "execution_count": null,
      "outputs": []
    },
    {
      "cell_type": "code",
      "source": [
        "ln = linearRegression()"
      ],
      "metadata": {
        "id": "vBIcmOjdvtJA"
      },
      "execution_count": null,
      "outputs": []
    },
    {
      "cell_type": "code",
      "source": [
        "ln.fit(X_train, y_train)"
      ],
      "metadata": {
        "id": "BaVRQNNTvxMs"
      },
      "execution_count": null,
      "outputs": []
    },
    {
      "cell_type": "code",
      "source": [
        "coeff_dataset1 = pd.dataset1(ln.coeff_,X.coloumns,coloumns{'coefficient'})"
      ],
      "metadata": {
        "id": "BtMiQqAsv64h"
      },
      "execution_count": null,
      "outputs": []
    },
    {
      "cell_type": "code",
      "source": [
        "coeff_df"
      ],
      "metadata": {
        "id": "tG7Fjadmv7ke"
      },
      "execution_count": null,
      "outputs": []
    },
    {
      "cell_type": "code",
      "source": [
        "plt.scatter(y_test, predictions)"
      ],
      "metadata": {
        "id": "xAKrLJeJwBNz"
      },
      "execution_count": null,
      "outputs": []
    },
    {
      "cell_type": "code",
      "source": [
        "sns.distplot((y_test-predictions),bins=50);"
      ],
      "metadata": {
        "id": "hw1TBVYfwEsm"
      },
      "execution_count": null,
      "outputs": []
    },
    {
      "cell_type": "code",
      "source": [
        "Predictions = ln.predict(X_test)"
      ],
      "metadata": {
        "id": "ITDMearRwFUs"
      },
      "execution_count": null,
      "outputs": []
    }
  ]
}