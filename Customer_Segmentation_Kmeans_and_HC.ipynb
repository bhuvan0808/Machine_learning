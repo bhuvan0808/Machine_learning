{
  "metadata": {
    "kernelspec": {
      "display_name": "Python 3",
      "language": "python",
      "name": "python3"
    },
    "language_info": {
      "codemirror_mode": {
        "name": "ipython",
        "version": 3
      },
      "file_extension": ".py",
      "mimetype": "text/x-python",
      "name": "python",
      "nbconvert_exporter": "python",
      "pygments_lexer": "ipython3",
      "version": "3.10.12"
    },
    "papermill": {
      "default_parameters": {},
      "duration": 268.490936,
      "end_time": "2023-09-10T22:52:53.82441",
      "environment_variables": {},
      "exception": true,
      "input_path": "__notebook__.ipynb",
      "output_path": "__notebook__.ipynb",
      "parameters": {},
      "start_time": "2023-09-10T22:48:25.333474",
      "version": "2.4.0"
    },
    "kaggle": {
      "accelerator": "none",
      "dataSources": [
        {
          "sourceId": 2996440,
          "sourceType": "datasetVersion",
          "datasetId": 1835880
        }
      ],
      "dockerImageVersionId": 30558,
      "isInternetEnabled": false,
      "language": "python",
      "sourceType": "notebook",
      "isGpuEnabled": false
    },
    "colab": {
      "provenance": [],
      "include_colab_link": true
    }
  },
  "nbformat_minor": 0,
  "nbformat": 4,
  "cells": [
    {
      "cell_type": "markdown",
      "metadata": {
        "id": "view-in-github",
        "colab_type": "text"
      },
      "source": [
        "<a href=\"https://colab.research.google.com/github/bhuvan0808/Machine_learning/blob/main/Customer_Segmentation_Kmeans_and_HC.ipynb\" target=\"_parent\"><img src=\"https://colab.research.google.com/assets/colab-badge.svg\" alt=\"Open In Colab\"/></a>"
      ]
    },
    {
      "source": [
        "\n",
        "# IMPORTANT: RUN THIS CELL IN ORDER TO IMPORT YOUR KAGGLE DATA SOURCES\n",
        "# TO THE CORRECT LOCATION (/kaggle/input) IN YOUR NOTEBOOK,\n",
        "# THEN FEEL FREE TO DELETE THIS CELL.\n",
        "# NOTE: THIS NOTEBOOK ENVIRONMENT DIFFERS FROM KAGGLE'S PYTHON\n",
        "# ENVIRONMENT SO THERE MAY BE MISSING LIBRARIES USED BY YOUR\n",
        "# NOTEBOOK.\n",
        "\n",
        "import os\n",
        "import sys\n",
        "from tempfile import NamedTemporaryFile\n",
        "from urllib.request import urlopen\n",
        "from urllib.parse import unquote, urlparse\n",
        "from urllib.error import HTTPError\n",
        "from zipfile import ZipFile\n",
        "import tarfile\n",
        "import shutil\n",
        "\n",
        "CHUNK_SIZE = 40960\n",
        "DATA_SOURCE_MAPPING = 'customer-segmentation-dataset:https%3A%2F%2Fstorage.googleapis.com%2Fkaggle-data-sets%2F1835880%2F2996440%2Fbundle%2Farchive.zip%3FX-Goog-Algorithm%3DGOOG4-RSA-SHA256%26X-Goog-Credential%3Dgcp-kaggle-com%2540kaggle-161607.iam.gserviceaccount.com%252F20240229%252Fauto%252Fstorage%252Fgoog4_request%26X-Goog-Date%3D20240229T004610Z%26X-Goog-Expires%3D259200%26X-Goog-SignedHeaders%3Dhost%26X-Goog-Signature%3Dac1e4f7e2679823c1a6df1fac8183ff14c86bb31e323bda9f0c9e14bf40553b2df692d7c2d5207d08a9f43e0cc2ad4cd12fae3297660763589e71083b2683f35c7b7209de52a549d3bdbdcd9791c296971839e577ed8cd74130ed047889d55124f5e51f2ce8dc6ff1ab2abf904358bf77a636eca2311628ffba3adcf1a5b50d50b905044411e479401e03bc8b7da278274dd961a9b7583baa19e2b7ee95e2fbaa3312c59ed926285fe1a6e01b2b295f8148b62ace314b61438d33d3e01ac25c33adea117fe4b5c8fcc35f43d2fb58158077eb3645e5a7d713d667cb82ee4d2a83ef5849d9ed48c62359b33b297f38bada05ccb5f8bebab0c6ff389bb47f8bca8'\n",
        "\n",
        "KAGGLE_INPUT_PATH='/kaggle/input'\n",
        "KAGGLE_WORKING_PATH='/kaggle/working'\n",
        "KAGGLE_SYMLINK='kaggle'\n",
        "\n",
        "!umount /kaggle/input/ 2> /dev/null\n",
        "shutil.rmtree('/kaggle/input', ignore_errors=True)\n",
        "os.makedirs(KAGGLE_INPUT_PATH, 0o777, exist_ok=True)\n",
        "os.makedirs(KAGGLE_WORKING_PATH, 0o777, exist_ok=True)\n",
        "\n",
        "try:\n",
        "  os.symlink(KAGGLE_INPUT_PATH, os.path.join(\"..\", 'input'), target_is_directory=True)\n",
        "except FileExistsError:\n",
        "  pass\n",
        "try:\n",
        "  os.symlink(KAGGLE_WORKING_PATH, os.path.join(\"..\", 'working'), target_is_directory=True)\n",
        "except FileExistsError:\n",
        "  pass\n",
        "\n",
        "for data_source_mapping in DATA_SOURCE_MAPPING.split(','):\n",
        "    directory, download_url_encoded = data_source_mapping.split(':')\n",
        "    download_url = unquote(download_url_encoded)\n",
        "    filename = urlparse(download_url).path\n",
        "    destination_path = os.path.join(KAGGLE_INPUT_PATH, directory)\n",
        "    try:\n",
        "        with urlopen(download_url) as fileres, NamedTemporaryFile() as tfile:\n",
        "            total_length = fileres.headers['content-length']\n",
        "            print(f'Downloading {directory}, {total_length} bytes compressed')\n",
        "            dl = 0\n",
        "            data = fileres.read(CHUNK_SIZE)\n",
        "            while len(data) > 0:\n",
        "                dl += len(data)\n",
        "                tfile.write(data)\n",
        "                done = int(50 * dl / int(total_length))\n",
        "                sys.stdout.write(f\"\\r[{'=' * done}{' ' * (50-done)}] {dl} bytes downloaded\")\n",
        "                sys.stdout.flush()\n",
        "                data = fileres.read(CHUNK_SIZE)\n",
        "            if filename.endswith('.zip'):\n",
        "              with ZipFile(tfile) as zfile:\n",
        "                zfile.extractall(destination_path)\n",
        "            else:\n",
        "              with tarfile.open(tfile.name) as tarfile:\n",
        "                tarfile.extractall(destination_path)\n",
        "            print(f'\\nDownloaded and uncompressed: {directory}')\n",
        "    except HTTPError as e:\n",
        "        print(f'Failed to load (likely expired) {download_url} to path {destination_path}')\n",
        "        continue\n",
        "    except OSError as e:\n",
        "        print(f'Failed to load {download_url} to path {destination_path}')\n",
        "        continue\n",
        "\n",
        "print('Data source import complete.')\n"
      ],
      "metadata": {
        "id": "17ErcWViKxqD"
      },
      "cell_type": "code",
      "outputs": [],
      "execution_count": null
    },
    {
      "cell_type": "markdown",
      "source": [
        "<center><img src=\"https://raw.githubusercontent.com/Masterx-AI/Project_Customer_Segmentation_/main/customer_segmentation.png\" style=\"width: 600px;\"/>"
      ],
      "metadata": {
        "papermill": {
          "duration": 0.014531,
          "end_time": "2023-09-10T22:48:28.023389",
          "exception": false,
          "start_time": "2023-09-10T22:48:28.008858",
          "status": "completed"
        },
        "tags": [],
        "id": "nWWyekfdKxqb"
      }
    },
    {
      "cell_type": "code",
      "source": [
        "# import required libraries for dataframe and visualization\n",
        "\n",
        "import numpy as np # linear algebra\n",
        "import pandas as pd # data processing, CSV file I/O (e.g. pd.read_csv)\n",
        "import matplotlib.pyplot as plt\n",
        "import seaborn as sns\n",
        "import datetime as dt\n",
        "import plotly.express as px\n",
        "\n",
        "\n",
        "# import required libraries for clustering\n",
        "import sklearn\n",
        "from sklearn.preprocessing import StandardScaler\n",
        "from sklearn.cluster import KMeans\n",
        "from sklearn.metrics import silhouette_score\n",
        "from scipy.cluster.hierarchy import linkage\n",
        "from scipy.cluster.hierarchy import dendrogram\n",
        "from scipy.cluster.hierarchy import cut_tree\n",
        "from sklearn.preprocessing import StandardScaler, LabelEncoder\n",
        "from sklearn.cluster import KMeans\n",
        "\n",
        "import warnings\n",
        "warnings.filterwarnings('ignore')\n",
        "\n",
        "# Input data files are available in the read-only \"../input/\" directory\n",
        "# For example, running this (by clicking run or pressing Shift+Enter) will list all files under the input directory\n",
        "\n",
        "import os\n",
        "for dirname, _, filenames in os.walk('/kaggle/input'):\n",
        "    for filename in filenames:\n",
        "        print(os.path.join(dirname, filename))\n"
      ],
      "metadata": {
        "papermill": {
          "duration": 2.683256,
          "end_time": "2023-09-10T22:48:30.720954",
          "exception": false,
          "start_time": "2023-09-10T22:48:28.037698",
          "status": "completed"
        },
        "tags": [],
        "execution": {
          "iopub.status.busy": "2023-09-10T23:01:00.468454Z",
          "iopub.execute_input": "2023-09-10T23:01:00.468801Z",
          "iopub.status.idle": "2023-09-10T23:01:03.969521Z",
          "shell.execute_reply.started": "2023-09-10T23:01:00.468771Z",
          "shell.execute_reply": "2023-09-10T23:01:03.967784Z"
        },
        "trusted": true,
        "id": "_SPrHnCNKxqo"
      },
      "execution_count": null,
      "outputs": []
    },
    {
      "cell_type": "code",
      "source": [
        "retail = pd.read_excel('/kaggle/input/customer-segmentation-dataset/Online Retail.xlsx')\n",
        "retail.head()"
      ],
      "metadata": {
        "papermill": {
          "duration": 62.14238,
          "end_time": "2023-09-10T22:49:32.877726",
          "exception": false,
          "start_time": "2023-09-10T22:48:30.735346",
          "status": "completed"
        },
        "tags": [],
        "execution": {
          "iopub.status.busy": "2023-09-10T23:01:03.971853Z",
          "iopub.execute_input": "2023-09-10T23:01:03.972536Z",
          "iopub.status.idle": "2023-09-10T23:02:11.632946Z",
          "shell.execute_reply.started": "2023-09-10T23:01:03.97249Z",
          "shell.execute_reply": "2023-09-10T23:02:11.631668Z"
        },
        "trusted": true,
        "id": "s5UgUrkyKxqq"
      },
      "execution_count": null,
      "outputs": []
    },
    {
      "cell_type": "code",
      "source": [
        "retail.shape\n"
      ],
      "metadata": {
        "papermill": {
          "duration": 0.023696,
          "end_time": "2023-09-10T22:49:32.9156",
          "exception": false,
          "start_time": "2023-09-10T22:49:32.891904",
          "status": "completed"
        },
        "tags": [],
        "execution": {
          "iopub.status.busy": "2023-09-10T23:02:11.634696Z",
          "iopub.execute_input": "2023-09-10T23:02:11.635184Z",
          "iopub.status.idle": "2023-09-10T23:02:11.643736Z",
          "shell.execute_reply.started": "2023-09-10T23:02:11.635157Z",
          "shell.execute_reply": "2023-09-10T23:02:11.641926Z"
        },
        "trusted": true,
        "id": "mIOvQMQrKxqs"
      },
      "execution_count": null,
      "outputs": []
    },
    {
      "cell_type": "markdown",
      "source": [
        "The \"Online Retail\" dataset likely contains information about online retail transactions. Let's go through the meaning of each column in the dataset:\n",
        "\n",
        "InvoiceNo: This column likely contains a unique identifier or code for each retail invoice or transaction. It helps in tracking and identifying individual sales transactions.\n",
        "\n",
        "StockCode: This column likely contains a code or identifier for the specific product or item being sold in each transaction. It allows the association of products with their respective transactions.\n",
        "\n",
        "Description: This column probably contains a textual description or name of the product or item being sold. It provides more detailed information about the product.\n",
        "\n",
        "Quantity: This column likely represents the quantity of the product or item that was sold in each transaction. It indicates how many units of the product were purchased.\n",
        "\n",
        "InvoiceDate: This column probably records the date and time when each retail invoice or transaction occurred. It provides a timestamp for when the sale took place.\n",
        "\n",
        "UnitPrice: This column contains the price per unit of the product or item being sold. It represents the cost of one unit of the product.\n",
        "\n",
        "CustomerID: This column likely contains a unique identifier or code for each customer who made a purchase. It allows tracking of customer-specific transactions.\n",
        "\n",
        "Country: This column contains the name or code of the country where the customer who made the purchase is located. It provides geographic information about the customers.\n",
        "\n",
        "This dataset appears to be a record of online retail transactions, including details about the products sold, quantities, prices, customer information, and transaction timestamps. It is commonly used for various types of retail analytics, such as customer segmentation, sales forecasting, and product performance analysis. The dataset can provide insights into customer behavior and sales patterns in the online retail business."
      ],
      "metadata": {
        "papermill": {
          "duration": 0.014665,
          "end_time": "2023-09-10T22:49:32.945313",
          "exception": false,
          "start_time": "2023-09-10T22:49:32.930648",
          "status": "completed"
        },
        "tags": [],
        "id": "rLBG9a6gKxqv"
      }
    },
    {
      "cell_type": "code",
      "source": [
        "retail.info()\n"
      ],
      "metadata": {
        "papermill": {
          "duration": 0.112986,
          "end_time": "2023-09-10T22:49:33.073134",
          "exception": false,
          "start_time": "2023-09-10T22:49:32.960148",
          "status": "completed"
        },
        "tags": [],
        "execution": {
          "iopub.status.busy": "2023-09-10T23:02:11.646723Z",
          "iopub.execute_input": "2023-09-10T23:02:11.647074Z",
          "iopub.status.idle": "2023-09-10T23:02:11.748225Z",
          "shell.execute_reply.started": "2023-09-10T23:02:11.64703Z",
          "shell.execute_reply": "2023-09-10T23:02:11.747031Z"
        },
        "trusted": true,
        "id": "FuhVyKyrKxqy"
      },
      "execution_count": null,
      "outputs": []
    },
    {
      "cell_type": "code",
      "source": [
        "retail.describe()\n"
      ],
      "metadata": {
        "papermill": {
          "duration": 0.089247,
          "end_time": "2023-09-10T22:49:33.17768",
          "exception": false,
          "start_time": "2023-09-10T22:49:33.088433",
          "status": "completed"
        },
        "tags": [],
        "execution": {
          "iopub.status.busy": "2023-09-10T23:02:11.750527Z",
          "iopub.execute_input": "2023-09-10T23:02:11.751321Z",
          "iopub.status.idle": "2023-09-10T23:02:11.82655Z",
          "shell.execute_reply.started": "2023-09-10T23:02:11.751282Z",
          "shell.execute_reply": "2023-09-10T23:02:11.825227Z"
        },
        "trusted": true,
        "id": "guXej9fdKxq0"
      },
      "execution_count": null,
      "outputs": []
    },
    {
      "cell_type": "markdown",
      "source": [
        "# Data Cleaning\n"
      ],
      "metadata": {
        "papermill": {
          "duration": 0.014476,
          "end_time": "2023-09-10T22:49:33.207256",
          "exception": false,
          "start_time": "2023-09-10T22:49:33.19278",
          "status": "completed"
        },
        "tags": [],
        "id": "l3eK8kreKxq3"
      }
    },
    {
      "cell_type": "code",
      "source": [
        "# Calculating the Missing Values % contribution in DF\n",
        "\n",
        "df_null = round(100*(retail.isnull().sum())/len(retail), 2)\n",
        "df_null"
      ],
      "metadata": {
        "papermill": {
          "duration": 0.095204,
          "end_time": "2023-09-10T22:49:33.317064",
          "exception": false,
          "start_time": "2023-09-10T22:49:33.22186",
          "status": "completed"
        },
        "tags": [],
        "execution": {
          "iopub.status.busy": "2023-09-10T23:02:11.828266Z",
          "iopub.execute_input": "2023-09-10T23:02:11.828686Z",
          "iopub.status.idle": "2023-09-10T23:02:11.908828Z",
          "shell.execute_reply.started": "2023-09-10T23:02:11.828651Z",
          "shell.execute_reply": "2023-09-10T23:02:11.907517Z"
        },
        "trusted": true,
        "id": "JqiIgSeVKxq5"
      },
      "execution_count": null,
      "outputs": []
    },
    {
      "cell_type": "code",
      "source": [
        "# Droping rows having missing values\n",
        "\n",
        "retail = retail.dropna()\n",
        "retail.shape"
      ],
      "metadata": {
        "papermill": {
          "duration": 0.124185,
          "end_time": "2023-09-10T22:49:33.508249",
          "exception": false,
          "start_time": "2023-09-10T22:49:33.384064",
          "status": "completed"
        },
        "tags": [],
        "execution": {
          "iopub.status.busy": "2023-09-10T23:02:11.910819Z",
          "iopub.execute_input": "2023-09-10T23:02:11.911834Z",
          "iopub.status.idle": "2023-09-10T23:02:12.021281Z",
          "shell.execute_reply.started": "2023-09-10T23:02:11.911792Z",
          "shell.execute_reply": "2023-09-10T23:02:12.019906Z"
        },
        "trusted": true,
        "id": "snDrPw71Kxq7"
      },
      "execution_count": null,
      "outputs": []
    },
    {
      "cell_type": "code",
      "source": [
        "# Changing the datatype of Customer Id as per Business understanding\n",
        "\n",
        "retail['CustomerID'] = retail['CustomerID'].astype(str)"
      ],
      "metadata": {
        "papermill": {
          "duration": 0.166265,
          "end_time": "2023-09-10T22:49:33.690644",
          "exception": false,
          "start_time": "2023-09-10T22:49:33.524379",
          "status": "completed"
        },
        "tags": [],
        "execution": {
          "iopub.status.busy": "2023-09-10T23:02:12.022789Z",
          "iopub.execute_input": "2023-09-10T23:02:12.023178Z",
          "iopub.status.idle": "2023-09-10T23:02:12.176504Z",
          "shell.execute_reply.started": "2023-09-10T23:02:12.023143Z",
          "shell.execute_reply": "2023-09-10T23:02:12.174915Z"
        },
        "trusted": true,
        "id": "UgiKJcC1Kxq9"
      },
      "execution_count": null,
      "outputs": []
    },
    {
      "cell_type": "markdown",
      "source": [
        "# Feature Engineering"
      ],
      "metadata": {
        "papermill": {
          "duration": 0.016045,
          "end_time": "2023-09-10T22:49:33.722529",
          "exception": false,
          "start_time": "2023-09-10T22:49:33.706484",
          "status": "completed"
        },
        "tags": [],
        "id": "z9IaxbuDKxrA"
      }
    },
    {
      "cell_type": "code",
      "source": [
        "# New Attribute : Monetary\n",
        "\n",
        "retail['Amount'] = retail['Quantity']*retail['UnitPrice']\n",
        "retail.head()"
      ],
      "metadata": {
        "papermill": {
          "duration": 0.030553,
          "end_time": "2023-09-10T22:49:33.768152",
          "exception": false,
          "start_time": "2023-09-10T22:49:33.737599",
          "status": "completed"
        },
        "tags": [],
        "execution": {
          "iopub.status.busy": "2023-09-10T23:02:12.178093Z",
          "iopub.execute_input": "2023-09-10T23:02:12.178478Z",
          "iopub.status.idle": "2023-09-10T23:02:12.199378Z",
          "shell.execute_reply.started": "2023-09-10T23:02:12.178444Z",
          "shell.execute_reply": "2023-09-10T23:02:12.197864Z"
        },
        "trusted": true,
        "id": "PF6drummKxrB"
      },
      "execution_count": null,
      "outputs": []
    },
    {
      "cell_type": "code",
      "source": [
        "# This step groups the data in the retail DataFrame by the 'CustomerID' column\n",
        "# to calculates the sum of the 'Amount' column for each customer.\n",
        "rfm_m = retail.groupby('CustomerID')['Amount'].sum().reset_index()\n",
        "rfm_m.head()\n"
      ],
      "metadata": {
        "papermill": {
          "duration": 0.086361,
          "end_time": "2023-09-10T22:49:33.869646",
          "exception": false,
          "start_time": "2023-09-10T22:49:33.783285",
          "status": "completed"
        },
        "tags": [],
        "execution": {
          "iopub.status.busy": "2023-09-10T23:02:12.203206Z",
          "iopub.execute_input": "2023-09-10T23:02:12.203535Z",
          "iopub.status.idle": "2023-09-10T23:02:12.27743Z",
          "shell.execute_reply.started": "2023-09-10T23:02:12.203511Z",
          "shell.execute_reply": "2023-09-10T23:02:12.275885Z"
        },
        "trusted": true,
        "id": "LwG0CivAKxrB"
      },
      "execution_count": null,
      "outputs": []
    },
    {
      "cell_type": "code",
      "source": [
        "# New Attribute : Frequency\n",
        "# count the number of unique invoice numbers for each customer\n",
        "rfm_f = retail.groupby('CustomerID')['InvoiceNo'].count().reset_index()\n",
        "rfm_f.head()"
      ],
      "metadata": {
        "papermill": {
          "duration": 0.085356,
          "end_time": "2023-09-10T22:49:33.9709",
          "exception": false,
          "start_time": "2023-09-10T22:49:33.885544",
          "status": "completed"
        },
        "tags": [],
        "execution": {
          "iopub.status.busy": "2023-09-10T23:02:12.278675Z",
          "iopub.execute_input": "2023-09-10T23:02:12.279035Z",
          "iopub.status.idle": "2023-09-10T23:02:12.359203Z",
          "shell.execute_reply.started": "2023-09-10T23:02:12.279006Z",
          "shell.execute_reply": "2023-09-10T23:02:12.357546Z"
        },
        "trusted": true,
        "id": "5m_V3dP5KxrC"
      },
      "execution_count": null,
      "outputs": []
    },
    {
      "cell_type": "code",
      "source": [
        "rfm_f.columns"
      ],
      "metadata": {
        "papermill": {
          "duration": 0.025146,
          "end_time": "2023-09-10T22:49:34.012982",
          "exception": false,
          "start_time": "2023-09-10T22:49:33.987836",
          "status": "completed"
        },
        "tags": [],
        "execution": {
          "iopub.status.busy": "2023-09-10T23:02:12.36043Z",
          "iopub.execute_input": "2023-09-10T23:02:12.361441Z",
          "iopub.status.idle": "2023-09-10T23:02:12.369339Z",
          "shell.execute_reply.started": "2023-09-10T23:02:12.361375Z",
          "shell.execute_reply": "2023-09-10T23:02:12.367628Z"
        },
        "trusted": true,
        "id": "FBOM585_KxrC"
      },
      "execution_count": null,
      "outputs": []
    },
    {
      "cell_type": "code",
      "source": [
        "rfm_f.rename(columns={'InvoiceNo': 'Frequency'}, inplace=True)\n",
        "rfm_f.head()"
      ],
      "metadata": {
        "papermill": {
          "duration": 0.026624,
          "end_time": "2023-09-10T22:49:34.055386",
          "exception": false,
          "start_time": "2023-09-10T22:49:34.028762",
          "status": "completed"
        },
        "tags": [],
        "execution": {
          "iopub.status.busy": "2023-09-10T23:02:12.371473Z",
          "iopub.execute_input": "2023-09-10T23:02:12.371917Z",
          "iopub.status.idle": "2023-09-10T23:02:12.387287Z",
          "shell.execute_reply.started": "2023-09-10T23:02:12.371885Z",
          "shell.execute_reply": "2023-09-10T23:02:12.385391Z"
        },
        "trusted": true,
        "id": "nwqdG-WqKxrD"
      },
      "execution_count": null,
      "outputs": []
    },
    {
      "cell_type": "code",
      "source": [
        "# Merging the two dfs\n",
        "\n",
        "merged_rfm = rfm_m.merge(rfm_f, on='CustomerID')\n",
        "# another way\n",
        "# rfm = pd.merge(rfm_m, rfm_f, on='CustomerID', how='inner')\n",
        "merged_rfm.head()"
      ],
      "metadata": {
        "papermill": {
          "duration": 0.039167,
          "end_time": "2023-09-10T22:49:34.111436",
          "exception": false,
          "start_time": "2023-09-10T22:49:34.072269",
          "status": "completed"
        },
        "tags": [],
        "execution": {
          "iopub.status.busy": "2023-09-10T23:02:12.389395Z",
          "iopub.execute_input": "2023-09-10T23:02:12.389829Z",
          "iopub.status.idle": "2023-09-10T23:02:12.417809Z",
          "shell.execute_reply.started": "2023-09-10T23:02:12.389797Z",
          "shell.execute_reply": "2023-09-10T23:02:12.416699Z"
        },
        "trusted": true,
        "id": "tsvCwMZDKxrE"
      },
      "execution_count": null,
      "outputs": []
    },
    {
      "cell_type": "code",
      "source": [
        "retail.info()"
      ],
      "metadata": {
        "papermill": {
          "duration": 0.100582,
          "end_time": "2023-09-10T22:49:34.228922",
          "exception": false,
          "start_time": "2023-09-10T22:49:34.12834",
          "status": "completed"
        },
        "tags": [],
        "execution": {
          "iopub.status.busy": "2023-09-10T23:02:12.418988Z",
          "iopub.execute_input": "2023-09-10T23:02:12.419252Z",
          "iopub.status.idle": "2023-09-10T23:02:12.510849Z",
          "shell.execute_reply.started": "2023-09-10T23:02:12.419228Z",
          "shell.execute_reply": "2023-09-10T23:02:12.509318Z"
        },
        "trusted": true,
        "id": "_9h_b9J3KxrE"
      },
      "execution_count": null,
      "outputs": []
    },
    {
      "cell_type": "code",
      "source": [
        "\n",
        "# Convert to datetime to proper datatype\n",
        "\n",
        "retail['InvoiceDate'] = pd.to_datetime(retail['InvoiceDate'],format='%d-%m-%Y %H:%M')\n",
        "retail.head()"
      ],
      "metadata": {
        "papermill": {
          "duration": 0.048586,
          "end_time": "2023-09-10T22:49:34.294193",
          "exception": false,
          "start_time": "2023-09-10T22:49:34.245607",
          "status": "completed"
        },
        "tags": [],
        "execution": {
          "iopub.status.busy": "2023-09-10T23:02:12.512127Z",
          "iopub.execute_input": "2023-09-10T23:02:12.512479Z",
          "iopub.status.idle": "2023-09-10T23:02:12.545221Z",
          "shell.execute_reply.started": "2023-09-10T23:02:12.512441Z",
          "shell.execute_reply": "2023-09-10T23:02:12.544133Z"
        },
        "trusted": true,
        "id": "uzseqePRKxrE"
      },
      "execution_count": null,
      "outputs": []
    },
    {
      "cell_type": "code",
      "source": [
        "# Compute the maximum date to know the last transaction date in our dataset\n",
        "\n",
        "max_date = max(retail['InvoiceDate'])\n",
        "max_date"
      ],
      "metadata": {
        "papermill": {
          "duration": 0.659799,
          "end_time": "2023-09-10T22:49:34.970272",
          "exception": false,
          "start_time": "2023-09-10T22:49:34.310473",
          "status": "completed"
        },
        "tags": [],
        "execution": {
          "iopub.status.busy": "2023-09-10T23:02:12.54719Z",
          "iopub.execute_input": "2023-09-10T23:02:12.54769Z",
          "iopub.status.idle": "2023-09-10T23:02:13.262297Z",
          "shell.execute_reply.started": "2023-09-10T23:02:12.54765Z",
          "shell.execute_reply": "2023-09-10T23:02:13.261183Z"
        },
        "trusted": true,
        "id": "jtRJVdgxKxrF"
      },
      "execution_count": null,
      "outputs": []
    },
    {
      "cell_type": "code",
      "source": [
        "# calculate the time difference between the maximum date in the dataset and the transaction date for each record\n",
        "\n",
        "retail['Diff'] = max_date - retail['InvoiceDate']\n",
        "retail.head()"
      ],
      "metadata": {
        "papermill": {
          "duration": 0.040578,
          "end_time": "2023-09-10T22:49:35.028027",
          "exception": false,
          "start_time": "2023-09-10T22:49:34.987449",
          "status": "completed"
        },
        "tags": [],
        "execution": {
          "iopub.status.busy": "2023-09-10T23:02:13.263228Z",
          "iopub.execute_input": "2023-09-10T23:02:13.26398Z",
          "iopub.status.idle": "2023-09-10T23:02:13.290424Z",
          "shell.execute_reply.started": "2023-09-10T23:02:13.263926Z",
          "shell.execute_reply": "2023-09-10T23:02:13.288702Z"
        },
        "trusted": true,
        "id": "kCEOGroZKxrF"
      },
      "execution_count": null,
      "outputs": []
    },
    {
      "cell_type": "code",
      "source": [
        "# Compute last transaction date to get the recency of customers\n",
        "# As each customer may have multiple invonces that has been purshsed\n",
        "# So we need to create a indicator that tells us when he made the last transaction to find wather he is active or not\n",
        "rfm_p = retail.groupby('CustomerID')['Diff'].min().reset_index()\n",
        "rfm_p.head()"
      ],
      "metadata": {
        "papermill": {
          "duration": 0.088374,
          "end_time": "2023-09-10T22:49:35.134334",
          "exception": false,
          "start_time": "2023-09-10T22:49:35.04596",
          "status": "completed"
        },
        "tags": [],
        "execution": {
          "iopub.status.busy": "2023-09-10T23:02:13.29201Z",
          "iopub.execute_input": "2023-09-10T23:02:13.292654Z",
          "iopub.status.idle": "2023-09-10T23:02:13.363147Z",
          "shell.execute_reply.started": "2023-09-10T23:02:13.292622Z",
          "shell.execute_reply": "2023-09-10T23:02:13.361599Z"
        },
        "trusted": true,
        "id": "KsaJJJT0KxrG"
      },
      "execution_count": null,
      "outputs": []
    },
    {
      "cell_type": "code",
      "source": [
        "# Extract number of days only\n",
        "\n",
        "rfm_p['Diff'] = rfm_p['Diff'].dt.days\n",
        "rfm_p.head()"
      ],
      "metadata": {
        "papermill": {
          "duration": 0.029213,
          "end_time": "2023-09-10T22:49:35.180909",
          "exception": false,
          "start_time": "2023-09-10T22:49:35.151696",
          "status": "completed"
        },
        "tags": [],
        "execution": {
          "iopub.status.busy": "2023-09-10T23:02:13.366781Z",
          "iopub.execute_input": "2023-09-10T23:02:13.367131Z",
          "iopub.status.idle": "2023-09-10T23:02:13.378688Z",
          "shell.execute_reply.started": "2023-09-10T23:02:13.367102Z",
          "shell.execute_reply": "2023-09-10T23:02:13.377531Z"
        },
        "trusted": true,
        "id": "swH18AuYKxrG"
      },
      "execution_count": null,
      "outputs": []
    },
    {
      "cell_type": "code",
      "source": [
        "merged_rfm.head()"
      ],
      "metadata": {
        "papermill": {
          "duration": 0.029242,
          "end_time": "2023-09-10T22:49:35.227068",
          "exception": false,
          "start_time": "2023-09-10T22:49:35.197826",
          "status": "completed"
        },
        "tags": [],
        "execution": {
          "iopub.status.busy": "2023-09-10T23:02:13.3803Z",
          "iopub.execute_input": "2023-09-10T23:02:13.380747Z",
          "iopub.status.idle": "2023-09-10T23:02:13.395143Z",
          "shell.execute_reply.started": "2023-09-10T23:02:13.380711Z",
          "shell.execute_reply": "2023-09-10T23:02:13.393918Z"
        },
        "trusted": true,
        "id": "bCSGHM_zKxrG"
      },
      "execution_count": null,
      "outputs": []
    },
    {
      "cell_type": "code",
      "source": [
        "# Merge tha dataframes to get the final RFM dataframe\n",
        "\n",
        "merged_rfm = merged_rfm.merge(rfm_p, on='CustomerID')\n",
        "\n",
        "merged_rfm.rename(columns={'Diff': 'Recency'}, inplace=True)\n",
        "merged_rfm.head()\n"
      ],
      "metadata": {
        "papermill": {
          "duration": 0.037134,
          "end_time": "2023-09-10T22:49:35.281238",
          "exception": false,
          "start_time": "2023-09-10T22:49:35.244104",
          "status": "completed"
        },
        "tags": [],
        "execution": {
          "iopub.status.busy": "2023-09-10T23:02:13.396623Z",
          "iopub.execute_input": "2023-09-10T23:02:13.39699Z",
          "iopub.status.idle": "2023-09-10T23:02:13.419602Z",
          "shell.execute_reply.started": "2023-09-10T23:02:13.396959Z",
          "shell.execute_reply": "2023-09-10T23:02:13.418376Z"
        },
        "trusted": true,
        "id": "VgA17Fs_KxrH"
      },
      "execution_count": null,
      "outputs": []
    },
    {
      "cell_type": "markdown",
      "source": [
        "There are 2 types of outliers and we will treat outliers as it can skew our dataset\n",
        "\n",
        "Statistical\n",
        "\n",
        "Domain specific"
      ],
      "metadata": {
        "papermill": {
          "duration": 0.023099,
          "end_time": "2023-09-10T22:49:35.326969",
          "exception": false,
          "start_time": "2023-09-10T22:49:35.30387",
          "status": "completed"
        },
        "tags": [],
        "id": "9r53mSnPKxrH"
      }
    },
    {
      "cell_type": "code",
      "source": [
        "\n",
        "# Create a DataFrame containing the selected attributes\n",
        "attributes = ['Amount', 'Frequency', 'Recency']\n",
        "data = merged_rfm[attributes]\n",
        "\n",
        "# Create a box plot with Plotly\n",
        "fig = px.box(data, y=attributes, labels={'variable': 'Attributes', 'value': 'Range'},\n",
        "             title=\"Outliers Variable Distribution\")\n",
        "fig.update_layout(\n",
        "    xaxis=dict(title=\"Attributes\"),\n",
        "    yaxis=dict(title=\"Range\"),\n",
        "    showlegend=False,\n",
        "    boxmode='group',  # Display box plots side by side\n",
        "    width=800, height=600\n",
        ")\n",
        "fig.show()\n"
      ],
      "metadata": {
        "papermill": {
          "duration": 1.554256,
          "end_time": "2023-09-10T22:49:36.903438",
          "exception": false,
          "start_time": "2023-09-10T22:49:35.349182",
          "status": "completed"
        },
        "tags": [],
        "execution": {
          "iopub.status.busy": "2023-09-10T23:02:13.42107Z",
          "iopub.execute_input": "2023-09-10T23:02:13.421429Z",
          "iopub.status.idle": "2023-09-10T23:02:15.314319Z",
          "shell.execute_reply.started": "2023-09-10T23:02:13.42137Z",
          "shell.execute_reply": "2023-09-10T23:02:15.312757Z"
        },
        "trusted": true,
        "id": "9w8qo5ZeKxrH"
      },
      "execution_count": null,
      "outputs": []
    },
    {
      "cell_type": "code",
      "source": [
        "\n",
        "# Removing (statistical) outliers for Amount\n",
        "Q1 = merged_rfm.Amount.quantile(0.05)\n",
        "Q3 = merged_rfm.Amount.quantile(0.95)\n",
        "IQR = Q3 - Q1\n",
        "merged_rfm = merged_rfm[(merged_rfm.Amount >= Q1 - 1.5*IQR) & (merged_rfm.Amount <= Q3 + 1.5*IQR)]\n",
        "\n",
        "\n",
        "\n",
        "# Removing (statistical) outliers for Recency\n",
        "Q1 = merged_rfm.Recency.quantile(0.05)\n",
        "Q3 = merged_rfm.Recency.quantile(0.95)\n",
        "IQR = Q3 - Q1\n",
        "merged_rfm = merged_rfm[(merged_rfm.Recency >= Q1 - 1.5*IQR) & (merged_rfm.Recency <= Q3 + 1.5*IQR)]\n",
        "\n",
        "# Removing (statistical) outliers for Frequency\n",
        "Q1 = merged_rfm.Frequency.quantile(0.05)\n",
        "Q3 = merged_rfm.Frequency.quantile(0.95)\n",
        "IQR = Q3 - Q1\n",
        "merged_rfm = merged_rfm[(merged_rfm.Frequency >= Q1 - 1.5*IQR) & (merged_rfm.Frequency <= Q3 + 1.5*IQR)]"
      ],
      "metadata": {
        "papermill": {
          "duration": 0.036856,
          "end_time": "2023-09-10T22:49:36.959333",
          "exception": false,
          "start_time": "2023-09-10T22:49:36.922477",
          "status": "completed"
        },
        "tags": [],
        "execution": {
          "iopub.status.busy": "2023-09-10T23:02:15.315779Z",
          "iopub.execute_input": "2023-09-10T23:02:15.316344Z",
          "iopub.status.idle": "2023-09-10T23:02:15.336223Z",
          "shell.execute_reply.started": "2023-09-10T23:02:15.316305Z",
          "shell.execute_reply": "2023-09-10T23:02:15.335019Z"
        },
        "trusted": true,
        "id": "WdT5NMeGKxrI"
      },
      "execution_count": null,
      "outputs": []
    },
    {
      "cell_type": "markdown",
      "source": [
        "#### Purpose of Outlier Removal:\n",
        "\n",
        "**Outliers can distort statistical analyses and models by introducing noise and skewing results.**\n",
        "\n",
        "**Removing outliers helps in obtaining a more representative view of the dataset and its underlying patterns.**\n",
        "\n",
        "**It can improve the accuracy and reliability of insights derived from the data.**\n",
        "\n",
        "**However, removing outliers should be done carefully, and the choice of the 1.5*IQR range is a common heuristic.**\n",
        "\n",
        "**It's essential to consider the context and business goals.**\n",
        "\n",
        "**In summary, the provided code removes statistical outliers from the \"Amount,\" \"Recency,\" and \"Frequency\" attributes to ensure that subsequent analyses and modeling are based on a cleaner and more representative dataset.**"
      ],
      "metadata": {
        "papermill": {
          "duration": 0.018179,
          "end_time": "2023-09-10T22:49:36.99639",
          "exception": false,
          "start_time": "2023-09-10T22:49:36.978211",
          "status": "completed"
        },
        "tags": [],
        "id": "C0EopSMOKxrJ"
      }
    },
    {
      "cell_type": "code",
      "source": [
        "\n",
        "attributes = ['Amount', 'Frequency', 'Recency']\n",
        "\n",
        "fig = px.box(merged_rfm, y=attributes, title=\"Outliers Variable Distribution\",\n",
        "             labels={'variable': 'Attributes', 'value': 'Range'},\n",
        "             boxmode='group', points='outliers')\n",
        "\n",
        "fig.update_layout(\n",
        "    xaxis=dict(title=\"Attributes\", title_font=dict(size=14)),\n",
        "    yaxis=dict(title=\"Range\", title_font=dict(size=14)),\n",
        "    showlegend=False,\n",
        "    width=800,\n",
        "    height=600\n",
        ")\n",
        "\n",
        "fig.show()\n"
      ],
      "metadata": {
        "papermill": {
          "duration": 0.123728,
          "end_time": "2023-09-10T22:49:37.138651",
          "exception": false,
          "start_time": "2023-09-10T22:49:37.014923",
          "status": "completed"
        },
        "tags": [],
        "execution": {
          "iopub.status.busy": "2023-09-10T23:02:15.337389Z",
          "iopub.execute_input": "2023-09-10T23:02:15.338103Z",
          "iopub.status.idle": "2023-09-10T23:02:15.458918Z",
          "shell.execute_reply.started": "2023-09-10T23:02:15.338058Z",
          "shell.execute_reply": "2023-09-10T23:02:15.457838Z"
        },
        "trusted": true,
        "id": "esB73OZvKxrK"
      },
      "execution_count": null,
      "outputs": []
    },
    {
      "cell_type": "markdown",
      "source": [
        "## Rescaling the Attributes\n",
        "#### It is extremely important to rescale the variables so that they have a comparable scale.| There are two common ways of rescaling:\n",
        "\n",
        "##### 1-Min-Max scaling\n",
        "##### 2-Standardisation (mean-0, sigma-1)\n",
        "\n",
        "Here, we will use Standardisation Scaling."
      ],
      "metadata": {
        "papermill": {
          "duration": 0.022132,
          "end_time": "2023-09-10T22:49:37.181765",
          "exception": false,
          "start_time": "2023-09-10T22:49:37.159633",
          "status": "completed"
        },
        "tags": [],
        "id": "-bwopwa3KxrM"
      }
    },
    {
      "cell_type": "code",
      "source": [
        "# Rescaling the attributes\n",
        "\n",
        "merged_rfm = merged_rfm[['Amount', 'Frequency', 'Recency']]\n",
        "\n",
        "# Instantiate\n",
        "scaler = StandardScaler()\n",
        "\n",
        "# fit_transform\n",
        "rfm_df_scaled = scaler.fit_transform(merged_rfm)\n",
        "rfm_df_scaled.shape"
      ],
      "metadata": {
        "papermill": {
          "duration": 0.034795,
          "end_time": "2023-09-10T22:49:37.238176",
          "exception": false,
          "start_time": "2023-09-10T22:49:37.203381",
          "status": "completed"
        },
        "tags": [],
        "execution": {
          "iopub.status.busy": "2023-09-10T23:02:15.460212Z",
          "iopub.execute_input": "2023-09-10T23:02:15.460558Z",
          "iopub.status.idle": "2023-09-10T23:02:15.474977Z",
          "shell.execute_reply.started": "2023-09-10T23:02:15.460529Z",
          "shell.execute_reply": "2023-09-10T23:02:15.473853Z"
        },
        "trusted": true,
        "id": "m2xKWvpXKxrN"
      },
      "execution_count": null,
      "outputs": []
    },
    {
      "cell_type": "code",
      "source": [
        "rfm_df_scaled = pd.DataFrame(rfm_df_scaled)\n",
        "rfm_df_scaled.columns = ['Amount', 'Frequency', 'Recency']\n",
        "rfm_df_scaled.head()"
      ],
      "metadata": {
        "papermill": {
          "duration": 0.034921,
          "end_time": "2023-09-10T22:49:37.293795",
          "exception": false,
          "start_time": "2023-09-10T22:49:37.258874",
          "status": "completed"
        },
        "tags": [],
        "execution": {
          "iopub.status.busy": "2023-09-10T23:02:15.476439Z",
          "iopub.execute_input": "2023-09-10T23:02:15.477222Z",
          "iopub.status.idle": "2023-09-10T23:02:15.493114Z",
          "shell.execute_reply.started": "2023-09-10T23:02:15.477184Z",
          "shell.execute_reply": "2023-09-10T23:02:15.491491Z"
        },
        "trusted": true,
        "id": "Igd9-A66KxrO"
      },
      "execution_count": null,
      "outputs": []
    },
    {
      "cell_type": "markdown",
      "source": [
        "# Building the Model\n"
      ],
      "metadata": {
        "papermill": {
          "duration": 0.021034,
          "end_time": "2023-09-10T22:49:37.336863",
          "exception": false,
          "start_time": "2023-09-10T22:49:37.315829",
          "status": "completed"
        },
        "tags": [],
        "id": "6HRKcQGVKxrP"
      }
    },
    {
      "cell_type": "markdown",
      "source": [
        "### K-Means Clustering\n",
        "\n",
        "##### K-means clustering is one of the simplest and popular unsupervised machine learning algorithms.\n",
        "\n",
        "**The algorithm works as follows:**\n",
        "\n",
        "1-First we initialize k points, called means, randomly.\n",
        "\n",
        "2-We categorize each item to its closest mean and we update the mean’s coordinates, which are the averages of the items categorized in that mean so far.\n",
        "\n",
        "3-We repeat the process for a given number of iterations and at the end, we have our clusters."
      ],
      "metadata": {
        "papermill": {
          "duration": 0.021272,
          "end_time": "2023-09-10T22:49:37.37964",
          "exception": false,
          "start_time": "2023-09-10T22:49:37.358368",
          "status": "completed"
        },
        "tags": [],
        "id": "79_PnjSKKxrQ"
      }
    },
    {
      "cell_type": "code",
      "source": [
        "# k-means with some arbitrary k\n",
        "\n",
        "kmeans = KMeans(n_clusters=4, max_iter=50)\n",
        "kmeans.fit(rfm_df_scaled)"
      ],
      "metadata": {
        "papermill": {
          "duration": 1.158774,
          "end_time": "2023-09-10T22:49:38.559517",
          "exception": false,
          "start_time": "2023-09-10T22:49:37.400743",
          "status": "completed"
        },
        "tags": [],
        "execution": {
          "iopub.status.busy": "2023-09-10T23:02:15.500788Z",
          "iopub.execute_input": "2023-09-10T23:02:15.501125Z",
          "iopub.status.idle": "2023-09-10T23:02:16.695071Z",
          "shell.execute_reply.started": "2023-09-10T23:02:15.501102Z",
          "shell.execute_reply": "2023-09-10T23:02:16.693958Z"
        },
        "trusted": true,
        "id": "FAecnI-sKxrR"
      },
      "execution_count": null,
      "outputs": []
    },
    {
      "cell_type": "code",
      "source": [
        "kmeans.labels_\n"
      ],
      "metadata": {
        "papermill": {
          "duration": 0.03236,
          "end_time": "2023-09-10T22:49:38.613221",
          "exception": false,
          "start_time": "2023-09-10T22:49:38.580861",
          "status": "completed"
        },
        "tags": [],
        "execution": {
          "iopub.status.busy": "2023-09-10T23:02:16.698906Z",
          "iopub.execute_input": "2023-09-10T23:02:16.700752Z",
          "iopub.status.idle": "2023-09-10T23:02:16.70913Z",
          "shell.execute_reply.started": "2023-09-10T23:02:16.700718Z",
          "shell.execute_reply": "2023-09-10T23:02:16.707486Z"
        },
        "trusted": true,
        "id": "ISuiPkDcKxrR"
      },
      "execution_count": null,
      "outputs": []
    },
    {
      "cell_type": "markdown",
      "source": [
        "### Finding the Optimal Number of Clusters\n",
        "\n",
        "\n",
        "#### Elbow Curve to get the right number of Clusters\n",
        "\n",
        "###### A fundamental step for any unsupervised algorithm is to determine the optimal number of clusters into which the data may be clustered. The Elbow Method is one of the most popular methods to determine this optimal value of k."
      ],
      "metadata": {
        "papermill": {
          "duration": 0.020704,
          "end_time": "2023-09-10T22:49:38.655138",
          "exception": false,
          "start_time": "2023-09-10T22:49:38.634434",
          "status": "completed"
        },
        "tags": [],
        "id": "-R279ngMKxre"
      }
    },
    {
      "cell_type": "code",
      "source": [
        "\n",
        "ssd = []\n",
        "range_n_clusters = [2, 3, 4, 5, 6, 7, 8]\n",
        "\n",
        "for num_clusters in range_n_clusters:\n",
        "    kmeans = KMeans(n_clusters=num_clusters, max_iter=50)\n",
        "    kmeans.fit(rfm_df_scaled)\n",
        "\n",
        "    ssd.append(kmeans.inertia_)\n",
        "    print(\"For n_clusters={0}, the Elbow score is {1}\".format(num_clusters, kmeans.inertia_))\n",
        "\n",
        "fig = px.line(x=range_n_clusters, y=ssd,\n",
        "              title=\"Elbow Curve for K-Means Clustering\",\n",
        "              labels={'x': 'Number of Clusters', 'y': 'Sum of Squared Distances (SSD)'})\n",
        "\n",
        "fig.update_layout(\n",
        "    xaxis=dict(title_font=dict(size=14)),\n",
        "    yaxis=dict(title_font=dict(size=14)),\n",
        "    showlegend=False,\n",
        "    width=800,\n",
        "    height=600\n",
        ")\n",
        "\n",
        "fig.show()\n"
      ],
      "metadata": {
        "papermill": {
          "duration": 8.942376,
          "end_time": "2023-09-10T22:49:47.618322",
          "exception": false,
          "start_time": "2023-09-10T22:49:38.675946",
          "status": "completed"
        },
        "tags": [],
        "execution": {
          "iopub.status.busy": "2023-09-10T23:02:16.71094Z",
          "iopub.execute_input": "2023-09-10T23:02:16.712698Z",
          "iopub.status.idle": "2023-09-10T23:02:25.276967Z",
          "shell.execute_reply.started": "2023-09-10T23:02:16.712659Z",
          "shell.execute_reply": "2023-09-10T23:02:25.275303Z"
        },
        "trusted": true,
        "id": "2KzCSDwUKxrf"
      },
      "execution_count": null,
      "outputs": []
    },
    {
      "cell_type": "code",
      "source": [
        "ssd"
      ],
      "metadata": {
        "papermill": {
          "duration": 0.03359,
          "end_time": "2023-09-10T22:49:47.674185",
          "exception": false,
          "start_time": "2023-09-10T22:49:47.640595",
          "status": "completed"
        },
        "tags": [],
        "execution": {
          "iopub.status.busy": "2023-09-10T23:02:25.279082Z",
          "iopub.execute_input": "2023-09-10T23:02:25.279537Z",
          "iopub.status.idle": "2023-09-10T23:02:25.286886Z",
          "shell.execute_reply.started": "2023-09-10T23:02:25.279501Z",
          "shell.execute_reply": "2023-09-10T23:02:25.285518Z"
        },
        "trusted": true,
        "id": "_obF1iKdKxrf"
      },
      "execution_count": null,
      "outputs": []
    },
    {
      "cell_type": "markdown",
      "source": [
        "## Silhouette Analysis\n",
        "\n",
        "####  silhouette score=p−q/max(p,q)\n",
        "\n",
        "1-**p**\n",
        "  \n",
        "  **is the mean distance to the points in the nearest cluster that the data point is not a part of**\n",
        "\n",
        "2-**q\n",
        "  is the mean intra-cluster distance to all the points in its own cluster.**\n",
        "\n",
        "\n",
        "3-**The value of the silhouette score range lies between -1 to 1.**\n",
        "\n",
        "**A score closer to 1 indicates that the data point is very similar to other data points in the cluster,**\n",
        "\n",
        "**A score closer to -1 indicates that the data point is not similar to the data points in its cluster.**"
      ],
      "metadata": {
        "papermill": {
          "duration": 0.020876,
          "end_time": "2023-09-10T22:49:47.716459",
          "exception": false,
          "start_time": "2023-09-10T22:49:47.695583",
          "status": "completed"
        },
        "tags": [],
        "id": "f68cnTo6Kxrg"
      }
    },
    {
      "cell_type": "markdown",
      "source": [
        "#### Silhouette analysis\n",
        "\n",
        "helps you assess the quality of clustering and find the number of clusters that best fits your data. Let's break down the code and understand its purpose:\n",
        "\n",
        "**Purpose of Silhouette Analysis:**\n",
        "\n",
        "Silhouette analysis helps you assess the quality of clustering for different numbers of clusters.\n",
        "\n",
        "\n",
        "The silhouette score ranges from -1 to 1, with higher values indicating better cluster separation and cohesion.\n",
        "\n",
        "\n",
        "By examining silhouette scores for various cluster numbers, you can determine the optimal number of clusters that best fit your data.\n",
        "\n",
        "\n",
        "In summary, this code performs silhouette analysis for a range of cluster numbers using K-Means clustering on the standardized RFM data. It helps you select the number of clusters that provides the best clustering quality for your data."
      ],
      "metadata": {
        "papermill": {
          "duration": 0.02202,
          "end_time": "2023-09-10T22:49:47.761447",
          "exception": false,
          "start_time": "2023-09-10T22:49:47.739427",
          "status": "completed"
        },
        "tags": [],
        "id": "aF6F4NuJKxrh"
      }
    },
    {
      "cell_type": "code",
      "source": [
        "# Silhouette analysis\n",
        "range_n_clusters = [2, 3, 4, 5, 6, 7, 8]\n",
        "\n",
        "for num_clusters in range_n_clusters:\n",
        "\n",
        "    # intialise kmeans\n",
        "    kmeans = KMeans(n_clusters=num_clusters, max_iter=50)\n",
        "    kmeans.fit(rfm_df_scaled)\n",
        "\n",
        "    cluster_labels = kmeans.labels_\n",
        "\n",
        "    # silhouette score\n",
        "    silhouette_avg = silhouette_score(rfm_df_scaled, cluster_labels)\n",
        "    print(\"For n_clusters={0}, the silhouette score is {1}\".format(num_clusters, silhouette_avg))\n"
      ],
      "metadata": {
        "papermill": {
          "duration": 10.328989,
          "end_time": "2023-09-10T22:49:58.112627",
          "exception": false,
          "start_time": "2023-09-10T22:49:47.783638",
          "status": "completed"
        },
        "tags": [],
        "execution": {
          "iopub.status.busy": "2023-09-10T23:02:25.290358Z",
          "iopub.execute_input": "2023-09-10T23:02:25.291178Z",
          "iopub.status.idle": "2023-09-10T23:02:35.161804Z",
          "shell.execute_reply.started": "2023-09-10T23:02:25.291151Z",
          "shell.execute_reply": "2023-09-10T23:02:35.16055Z"
        },
        "trusted": true,
        "id": "wisl61E9Kxrl"
      },
      "execution_count": null,
      "outputs": []
    },
    {
      "cell_type": "markdown",
      "source": [
        "#### In the context of clustering, when you have multiple options for the number of clusters, you typically aim to choose the number of clusters that maximizes the silhouette score. In your provided output, you have calculated silhouette scores for different numbers of clusters, and you want to select the best number.\n",
        "\n",
        "#### Here's a simplified explanation for why \"3\" was chosen from the provided silhouette scores:\n",
        "\n",
        "**Silhouette Score Meaning:** The silhouette score measures how similar each data point in a cluster is to the data points in the same cluster compared to other clusters. The score ranges from -1 to 1:**\n",
        "\n",
        "**A higher score indicates better cluster separation and cohesion.**\n",
        "\n",
        "**A score close to 0 suggests overlapping or ambiguous clusters.**\n",
        "\n",
        "**A negative score means that data points might be assigned to the wrong clusters.**\n",
        "\n",
        "Choosing the Best Number of Clusters: To determine the best number of clusters, you typically look for the number that gives the highest silhouette score.\n",
        "\n",
        "In your provided silhouette scores:\n",
        "\n",
        "For 2 clusters, the silhouette score is 0.5416.\n",
        "\n",
        "\n",
        "For 3 clusters, the silhouette score is 0.5085.\n",
        "\n",
        "For 4 clusters, the silhouette score is 0.4816.\n",
        "\n",
        "For 5 clusters, the silhouette score is 0.4646.\n",
        "\n",
        "For 6 clusters, the silhouette score is 0.4176.\n",
        "\n",
        "For 7 clusters, the silhouette score is 0.4148.\n",
        "\n",
        "For 8 clusters, the silhouette score is 0.4077.\n",
        "\n",
        "==> You chose \"3\" as the number of clusters because it has the second-highest silhouette score (0.5085),\n",
        "\n",
        "==> and it indicates reasonably good cluster separation and cohesion.\n",
        "\n",
        "==> While the silhouette score for 2 clusters is slightly higher, the difference is not substantial,\n",
        "\n",
        "==> and having 3 clusters may provide a more detailed and meaningful separation of your data.\n",
        "\n",
        "==> Keep in mind that the choice of the number of clusters may also depend on the specific problem and the insights you want to gain from the clustering analysis.\n",
        "\n",
        "It's often a balance between finding a simple model (few clusters) and capturing meaningful patterns (more clusters)."
      ],
      "metadata": {
        "papermill": {
          "duration": 0.022336,
          "end_time": "2023-09-10T22:49:58.158942",
          "exception": false,
          "start_time": "2023-09-10T22:49:58.136606",
          "status": "completed"
        },
        "tags": [],
        "id": "oeiBXkaVKxrm"
      }
    },
    {
      "cell_type": "markdown",
      "source": [
        "## Silhouette Analysis Vs Elbow:\n",
        "\n",
        "\n",
        "#### Imagine you have a group of friends, and you want to split them into different teams for a game. Silhouette analysis is like a way to see how well your friends fit into their teams.\n",
        "\n",
        "**Purpose:**\n",
        "\n",
        "Silhouette analysis helps you figure out how good the teams are. It looks at whether your friends are happy with their teams or if they should switch to another team to be even happier.**\n",
        "\n",
        "\n",
        "**Measurement:**\n",
        "\n",
        "It gives each friend a score from -1 to 1. If the score is close to 1, it means they're really happy in their team. If it's close to 0, it means they might be confused because their team is similar to other teams. And if it's negative, it means they're not in the right team.\n",
        "\n",
        "\n",
        "**Goal:**\n",
        "\n",
        "You want to find the number of teams that makes everyone as happy as possible, with the highest average (average means adding up all the scores and dividing by the number of friends).\n",
        "\n",
        "\n",
        "\n",
        "Elbow Method:\n",
        "\n",
        "Now, let's say you want to know how many teams to make for a different game with your friends. The elbow method helps you decide how many teams to create.\n",
        "\n",
        "**Purpose:**\n",
        "\n",
        "The elbow method helps you find the right number of teams for your game.\n",
        "\n",
        "You don't want too few teams, and you don't want too many. You want to strike a balance.\n",
        "\n",
        "\n",
        "**Measurement:**\n",
        "\n",
        "Imagine you have a graph that shows how good the teams are. On the graph, you have the number of teams on one side and how well they're organized on the other side. The graph looks like a bent arm with an elbow.\n",
        "\n",
        "\n",
        "\n",
        "**Goal:**\n",
        "\n",
        "You want to find the point where the graph starts to bend like an elbow. That point tells you the right number of teams. If you have too few or too many teams, it won't be a clear bend, and that's not what you want.\n",
        "\n",
        "\n",
        "**Summary:**\n",
        "\n",
        "**Silhouette analysis** checks **how happy your friends** are in their teams using scores from -1 to 1.\n",
        "\n",
        "You want the highest average score for the best number of teams.\n",
        "\n",
        "\n",
        "The elbow method looks at a graph and finds the point where it bends like an elbow. **That point tells you how many teams** to create for your game.\n",
        "\n",
        "Both methods help you figure out the best way to group things, whether it's friends or data, by considering how happy or organized they are.3"
      ],
      "metadata": {
        "papermill": {
          "duration": 0.022056,
          "end_time": "2023-09-10T22:49:58.203453",
          "exception": false,
          "start_time": "2023-09-10T22:49:58.181397",
          "status": "completed"
        },
        "tags": [],
        "id": "k-4eZZ8oKxrn"
      }
    },
    {
      "cell_type": "markdown",
      "source": [
        "## When choosing the number of clusters for a clustering problem, it's important to consider both the silhouette score and the elbow method results, as they provide complementary insights. Here's how to make the decision based on your provided results:\n",
        "\n",
        "### Silhouette Score:\n",
        "\n",
        "The silhouette score measures the quality of the clusters.\n",
        "\n",
        "Higher silhouette scores indicate better separation and cohesion of clusters.\n",
        "\n",
        "In your case, the highest silhouette score is for 2 clusters (0.5416), but the second-highest score is for 3 clusters (0.5085), which is still quite good.\n",
        "\n",
        "\n",
        "### Elbow Method:\n",
        "\n",
        "The elbow method looks at the reduction in error (WCSS) as you increase the number of clusters.\n",
        "\n",
        "The point where adding more clusters doesn't significantly reduce the error is often considered the \"elbow\" and a reasonable choice for the number of clusters.\n",
        "\n",
        "\n",
        "### Decision:\n",
        "\n",
        "**Silhouette Score:** The silhouette score suggests that 2 clusters or 3 clusters are both reasonable choices. Both options have good silhouette scores, with 2 clusters having a slightly higher score.\n",
        "\n",
        "**Elbow Method:** The elbow method suggests that the \"elbow\" point occurs at 3 clusters. This is where the reduction in error starts to slow down significantly.\n",
        "\n",
        "### Conclusion:\n",
        "\n",
        "Based on the silhouette score, you could choose either 2 or 3 clusters, and both are valid choices.\n",
        "\n",
        "However, considering the results from both methods and the fact that the elbow method indicates a clear point at 3 clusters, it may be a good idea to choose 3 clusters as the number of clusters for your clustering analysis.\n",
        "\n",
        "Ultimately, the choice between 2 and 3 clusters depends on your specific problem, the insights you want to gain, and your preference for having a more detailed or simplified grouping of your data.\n",
        "\n",
        "You can start with 3 clusters and, if needed, explore the results further to see if they make sense for your particular application.\n"
      ],
      "metadata": {
        "papermill": {
          "duration": 0.02137,
          "end_time": "2023-09-10T22:49:58.246876",
          "exception": false,
          "start_time": "2023-09-10T22:49:58.225506",
          "status": "completed"
        },
        "tags": [],
        "id": "VPm26R5DKxro"
      }
    },
    {
      "cell_type": "code",
      "source": [
        "# Final model with k=3\n",
        "kmeans = KMeans(n_clusters=3, max_iter=50)\n",
        "kmeans.fit(rfm_df_scaled)"
      ],
      "metadata": {
        "papermill": {
          "duration": 1.160661,
          "end_time": "2023-09-10T22:49:59.430546",
          "exception": false,
          "start_time": "2023-09-10T22:49:58.269885",
          "status": "completed"
        },
        "tags": [],
        "execution": {
          "iopub.status.busy": "2023-09-10T23:02:35.162945Z",
          "iopub.execute_input": "2023-09-10T23:02:35.163229Z",
          "iopub.status.idle": "2023-09-10T23:02:36.208271Z",
          "shell.execute_reply.started": "2023-09-10T23:02:35.163206Z",
          "shell.execute_reply": "2023-09-10T23:02:36.207155Z"
        },
        "trusted": true,
        "id": "FAKxYZ0vKxrp"
      },
      "execution_count": null,
      "outputs": []
    },
    {
      "cell_type": "code",
      "source": [
        " kmeans.labels_\n"
      ],
      "metadata": {
        "papermill": {
          "duration": 0.031426,
          "end_time": "2023-09-10T22:49:59.484354",
          "exception": false,
          "start_time": "2023-09-10T22:49:59.452928",
          "status": "completed"
        },
        "tags": [],
        "execution": {
          "iopub.status.busy": "2023-09-10T23:02:36.211914Z",
          "iopub.execute_input": "2023-09-10T23:02:36.212705Z",
          "iopub.status.idle": "2023-09-10T23:02:36.221982Z",
          "shell.execute_reply.started": "2023-09-10T23:02:36.212673Z",
          "shell.execute_reply": "2023-09-10T23:02:36.220545Z"
        },
        "trusted": true,
        "id": "aJc0ktDiKxrp"
      },
      "execution_count": null,
      "outputs": []
    },
    {
      "cell_type": "code",
      "source": [
        "# assign the label\n",
        "merged_rfm['Cluster_Id'] = kmeans.labels_\n",
        "merged_rfm.head()"
      ],
      "metadata": {
        "papermill": {
          "duration": 0.03566,
          "end_time": "2023-09-10T22:49:59.542624",
          "exception": false,
          "start_time": "2023-09-10T22:49:59.506964",
          "status": "completed"
        },
        "tags": [],
        "execution": {
          "iopub.status.busy": "2023-09-10T23:02:36.223252Z",
          "iopub.execute_input": "2023-09-10T23:02:36.223596Z",
          "iopub.status.idle": "2023-09-10T23:02:36.240446Z",
          "shell.execute_reply.started": "2023-09-10T23:02:36.223569Z",
          "shell.execute_reply": "2023-09-10T23:02:36.239048Z"
        },
        "trusted": true,
        "id": "zG8rWTSsKxrq"
      },
      "execution_count": null,
      "outputs": []
    },
    {
      "cell_type": "code",
      "source": [
        "\n",
        "fig = px.box(merged_rfm, x='Cluster_Id', y='Amount',\n",
        "             title=\"Cluster Id vs Amount Box Plot\",\n",
        "             labels={'Cluster_Id': 'Cluster ID', 'Amount': 'Amount'},\n",
        "             color='Cluster_Id')\n",
        "\n",
        "fig.update_layout(\n",
        "    xaxis=dict(title=\"Cluster ID\", title_font=dict(size=14)),\n",
        "    yaxis=dict(title=\"Amount\", title_font=dict(size=14)),\n",
        "    showlegend=False,\n",
        "    width=800,\n",
        "    height=600\n",
        ")\n",
        "\n",
        "fig.show()\n"
      ],
      "metadata": {
        "papermill": {
          "duration": 0.102488,
          "end_time": "2023-09-10T22:49:59.667893",
          "exception": false,
          "start_time": "2023-09-10T22:49:59.565405",
          "status": "completed"
        },
        "tags": [],
        "execution": {
          "iopub.status.busy": "2023-09-10T23:02:36.242086Z",
          "iopub.execute_input": "2023-09-10T23:02:36.242465Z",
          "iopub.status.idle": "2023-09-10T23:02:36.329043Z",
          "shell.execute_reply.started": "2023-09-10T23:02:36.242435Z",
          "shell.execute_reply": "2023-09-10T23:02:36.32784Z"
        },
        "trusted": true,
        "id": "2bmuuhWAKxrr"
      },
      "execution_count": null,
      "outputs": []
    },
    {
      "cell_type": "code",
      "source": [
        "\n",
        "fig = px.scatter(merged_rfm, x='Cluster_Id', y='Amount', color='Frequency',\n",
        "                 title='Cluster ID vs Amount (Color Encoded by Frequency)',\n",
        "                 labels={'Cluster_Id': 'Cluster ID', 'Amount': 'Amount', 'Frequency': 'Frequency'})\n",
        "\n",
        "fig.update_layout(\n",
        "    xaxis=dict(title=\"Cluster ID\", title_font=dict(size=14)),\n",
        "    yaxis=dict(title=\"Amount\", title_font=dict(size=14)),\n",
        "    showlegend=True,\n",
        "    width=800,\n",
        "    height=600\n",
        ")\n",
        "\n",
        "fig.show()\n"
      ],
      "metadata": {
        "papermill": {
          "duration": 0.116693,
          "end_time": "2023-09-10T22:49:59.807246",
          "exception": false,
          "start_time": "2023-09-10T22:49:59.690553",
          "status": "completed"
        },
        "tags": [],
        "execution": {
          "iopub.status.busy": "2023-09-10T23:02:36.330647Z",
          "iopub.execute_input": "2023-09-10T23:02:36.330988Z",
          "iopub.status.idle": "2023-09-10T23:02:36.43131Z",
          "shell.execute_reply.started": "2023-09-10T23:02:36.330957Z",
          "shell.execute_reply": "2023-09-10T23:02:36.429577Z"
        },
        "trusted": true,
        "id": "o-73th1UKxrr"
      },
      "execution_count": null,
      "outputs": []
    },
    {
      "cell_type": "code",
      "source": [
        "import seaborn as sns\n",
        "import matplotlib.pyplot as plt\n",
        "\n",
        "# Create a custom color palette with Red, Green, and Blue\n",
        "custom_palette = sns.color_palette([\"#FF0000\", \"#00FF00\", \"#0000FF\"])\n",
        "\n",
        "# Create a scatter plot matrix with separate plots for each cluster, custom palette, and a larger size\n",
        "sns.set(style=\"ticks\")\n",
        "sns.pairplot(merged_rfm, hue='Cluster_Id', vars=['Amount', 'Frequency'], palette=custom_palette, height=4, aspect=1.5)\n",
        "plt.suptitle('Cluster ID vs Amount & Frequency', y=1.02)\n",
        "plt.show()\n"
      ],
      "metadata": {
        "papermill": {
          "duration": 1.976958,
          "end_time": "2023-09-10T22:50:01.808363",
          "exception": false,
          "start_time": "2023-09-10T22:49:59.831405",
          "status": "completed"
        },
        "tags": [],
        "execution": {
          "iopub.status.busy": "2023-09-10T23:02:36.433504Z",
          "iopub.execute_input": "2023-09-10T23:02:36.43397Z",
          "iopub.status.idle": "2023-09-10T23:02:38.510387Z",
          "shell.execute_reply.started": "2023-09-10T23:02:36.433931Z",
          "shell.execute_reply": "2023-09-10T23:02:38.509327Z"
        },
        "trusted": true,
        "id": "BTKUK8RQKxrs"
      },
      "execution_count": null,
      "outputs": []
    },
    {
      "cell_type": "code",
      "source": [
        "\n",
        "fig = px.box(merged_rfm, x='Cluster_Id', y='Frequency',\n",
        "             title=\"Cluster Id vs Frequency Box Plot\",\n",
        "             labels={'Cluster_Id': 'Cluster ID', 'Frequency': 'Frequency'})\n",
        "\n",
        "fig.update_layout(\n",
        "    xaxis=dict(title=\"Cluster ID\", title_font=dict(size=14)),\n",
        "    yaxis=dict(title=\"Frequency\", title_font=dict(size=14)),\n",
        "    showlegend=False,\n",
        "    width=800,\n",
        "    height=600\n",
        ")\n",
        "\n",
        "fig.show()\n"
      ],
      "metadata": {
        "papermill": {
          "duration": 0.084719,
          "end_time": "2023-09-10T22:50:01.919898",
          "exception": false,
          "start_time": "2023-09-10T22:50:01.835179",
          "status": "completed"
        },
        "tags": [],
        "execution": {
          "iopub.status.busy": "2023-09-10T23:02:38.511609Z",
          "iopub.execute_input": "2023-09-10T23:02:38.511916Z",
          "iopub.status.idle": "2023-09-10T23:02:38.569949Z",
          "shell.execute_reply.started": "2023-09-10T23:02:38.511886Z",
          "shell.execute_reply": "2023-09-10T23:02:38.568824Z"
        },
        "trusted": true,
        "id": "5pjMIp4IKxru"
      },
      "execution_count": null,
      "outputs": []
    },
    {
      "cell_type": "markdown",
      "source": [
        "# Box plot to visualize Cluster Id vs Recency\n",
        "\n"
      ],
      "metadata": {
        "papermill": {
          "duration": 0.025952,
          "end_time": "2023-09-10T22:50:01.971827",
          "exception": false,
          "start_time": "2023-09-10T22:50:01.945875",
          "status": "completed"
        },
        "tags": [],
        "id": "TPTreJthKxrv"
      }
    },
    {
      "cell_type": "code",
      "source": [
        "\n",
        "fig = px.box(merged_rfm, x='Cluster_Id', y='Recency',\n",
        "             title=\"Cluster Id vs Recency Box Plot\",\n",
        "             labels={'Cluster_Id': 'Cluster ID', 'Recency': 'Recency'})\n",
        "\n",
        "fig.update_layout(\n",
        "    xaxis=dict(title=\"Cluster ID\", title_font=dict(size=14)),\n",
        "    yaxis=dict(title=\"Recency\", title_font=dict(size=14)),\n",
        "    showlegend=False,\n",
        "    width=800,\n",
        "    height=600\n",
        ")\n",
        "\n",
        "fig.show()\n"
      ],
      "metadata": {
        "papermill": {
          "duration": 0.084278,
          "end_time": "2023-09-10T22:50:02.082399",
          "exception": false,
          "start_time": "2023-09-10T22:50:01.998121",
          "status": "completed"
        },
        "tags": [],
        "execution": {
          "iopub.status.busy": "2023-09-10T23:02:38.571117Z",
          "iopub.execute_input": "2023-09-10T23:02:38.571463Z",
          "iopub.status.idle": "2023-09-10T23:02:38.637143Z",
          "shell.execute_reply.started": "2023-09-10T23:02:38.571438Z",
          "shell.execute_reply": "2023-09-10T23:02:38.636111Z"
        },
        "trusted": true,
        "id": "VHvIKss8Kxrw"
      },
      "execution_count": null,
      "outputs": []
    },
    {
      "cell_type": "code",
      "source": [
        "# Selecting the two features for clustering\n",
        "data_for_clustering = merged_rfm[['Amount', 'Frequency']]\n",
        "\n",
        "# Specify the number of clusters (e.g., 3)\n",
        "n_clusters = 3\n",
        "\n",
        "# Apply K-Means clustering\n",
        "kmeans = KMeans(n_clusters=n_clusters)\n",
        "merged_rfm['Cluster_2D'] = kmeans.fit_predict(data_for_clustering)\n",
        "\n",
        "# Create a scatter plot with Plotly\n",
        "fig = px.scatter(merged_rfm, x='Amount', y='Frequency', color='Cluster_2D',\n",
        "                 title='Clustering by Amount and Frequency',\n",
        "                 labels={'Amount': 'Amount', 'Frequency': 'Frequency', 'Cluster_2D': 'Cluster'})\n",
        "\n",
        "fig.update_layout(\n",
        "    xaxis=dict(title=\"Amount\", title_font=dict(size=14)),\n",
        "    yaxis=dict(title=\"Frequency\", title_font=dict(size=14)),\n",
        "    width=800,\n",
        "    height=600\n",
        ")\n",
        "\n",
        "fig.show()\n"
      ],
      "metadata": {
        "papermill": {
          "duration": 0.15217,
          "end_time": "2023-09-10T22:50:02.261466",
          "exception": false,
          "start_time": "2023-09-10T22:50:02.109296",
          "status": "completed"
        },
        "tags": [],
        "execution": {
          "iopub.status.busy": "2023-09-10T23:02:38.638505Z",
          "iopub.execute_input": "2023-09-10T23:02:38.638825Z",
          "iopub.status.idle": "2023-09-10T23:02:38.738815Z",
          "shell.execute_reply.started": "2023-09-10T23:02:38.638797Z",
          "shell.execute_reply": "2023-09-10T23:02:38.737578Z"
        },
        "trusted": true,
        "id": "J_xWGdcqKxrx"
      },
      "execution_count": null,
      "outputs": []
    },
    {
      "cell_type": "code",
      "source": [
        "# Selecting the three features for clustering\n",
        "data_for_clustering = merged_rfm[['Amount', 'Frequency', 'Recency']]\n",
        "\n",
        "# Apply K-Means clustering\n",
        "kmeans = KMeans(n_clusters=n_clusters)\n",
        "merged_rfm['Cluster_3D'] = kmeans.fit_predict(data_for_clustering)\n",
        "\n",
        "# Visualize the clusters (scatter plot matrix)\n",
        "sns.set(style=\"ticks\")\n",
        "sns.pairplot(merged_rfm, hue='Cluster_3D', vars=['Amount', 'Frequency', 'Recency'], palette='Set1')\n",
        "plt.suptitle('Clustering by Amount, Frequency, and Recency', y=1.02)\n",
        "plt.show()\n"
      ],
      "metadata": {
        "papermill": {
          "duration": 4.970417,
          "end_time": "2023-09-10T22:50:07.261584",
          "exception": false,
          "start_time": "2023-09-10T22:50:02.291167",
          "status": "completed"
        },
        "tags": [],
        "execution": {
          "iopub.status.busy": "2023-09-10T23:02:38.740135Z",
          "iopub.execute_input": "2023-09-10T23:02:38.740448Z",
          "iopub.status.idle": "2023-09-10T23:02:43.274962Z",
          "shell.execute_reply.started": "2023-09-10T23:02:38.740384Z",
          "shell.execute_reply": "2023-09-10T23:02:43.273236Z"
        },
        "trusted": true,
        "id": "Wwm2J39nKxry"
      },
      "execution_count": null,
      "outputs": []
    },
    {
      "cell_type": "code",
      "source": [
        "import plotly.express as px\n",
        "\n",
        "# Apply K-Means clustering\n",
        "kmeans = KMeans(n_clusters=n_clusters)\n",
        "merged_rfm['Cluster_3D'] = kmeans.fit_predict(data_for_clustering)\n",
        "\n",
        "# Create a 3D scatter plot matrix with Plotly\n",
        "fig = px.scatter_3d(merged_rfm, x='Amount', y='Frequency', z='Recency', color='Cluster_3D',\n",
        "                     labels={'Amount': 'Amount', 'Frequency': 'Frequency', 'Recency': 'Recency', 'Cluster_3D': 'Cluster'})\n",
        "\n",
        "fig.update_layout(\n",
        "    scene=dict(\n",
        "        xaxis_title='Amount',\n",
        "        yaxis_title='Frequency',\n",
        "        zaxis_title='Recency',\n",
        "    ),\n",
        "    title='Clustering by Amount, Frequency, and Recency',\n",
        "    width=800,\n",
        "    height=600\n",
        ")\n",
        "\n",
        "fig.show()\n"
      ],
      "metadata": {
        "papermill": {
          "duration": 1.211436,
          "end_time": "2023-09-10T22:50:08.503215",
          "exception": false,
          "start_time": "2023-09-10T22:50:07.291779",
          "status": "completed"
        },
        "tags": [],
        "execution": {
          "iopub.status.busy": "2023-09-10T23:02:43.276796Z",
          "iopub.execute_input": "2023-09-10T23:02:43.277173Z",
          "iopub.status.idle": "2023-09-10T23:02:44.693333Z",
          "shell.execute_reply.started": "2023-09-10T23:02:43.277143Z",
          "shell.execute_reply": "2023-09-10T23:02:44.691783Z"
        },
        "trusted": true,
        "id": "sclUpM5TKxrz"
      },
      "execution_count": null,
      "outputs": []
    },
    {
      "cell_type": "markdown",
      "source": [
        "## Hierarchical Clustering\n",
        "Hierarchical clustering involves creating clusters that have a predetermined ordering from top to bottom. For example, all files and folders on the hard disk are organized in a hierarchy. There are two types of hierarchical clustering,\n",
        "\n",
        "Divisive\n",
        "\n",
        "Agglomerative.\n",
        "\n",
        "**Single Linkage:**\n",
        "\n",
        "In single linkage hierarchical clustering, the distance between two clusters is defined as the shortest distance between two points in each cluster. For example, the distance between clusters “r” and “s” to the left is equal to the length of the arrow between their two closest points."
      ],
      "metadata": {
        "papermill": {
          "duration": 0.030395,
          "end_time": "2023-09-10T22:50:08.565022",
          "exception": false,
          "start_time": "2023-09-10T22:50:08.534627",
          "status": "completed"
        },
        "tags": [],
        "id": "gGR0SlXVKxrz"
      }
    },
    {
      "cell_type": "code",
      "source": [
        "# Single linkage:\n",
        "\n",
        "mergings = linkage(rfm_df_scaled, method=\"single\", metric='euclidean')\n",
        "dendrogram(mergings)\n",
        "plt.show()"
      ],
      "metadata": {
        "papermill": {
          "duration": 53.106899,
          "end_time": "2023-09-10T22:51:01.701997",
          "exception": false,
          "start_time": "2023-09-10T22:50:08.595098",
          "status": "completed"
        },
        "tags": [],
        "execution": {
          "iopub.status.busy": "2023-09-10T23:02:44.695012Z",
          "iopub.execute_input": "2023-09-10T23:02:44.695329Z",
          "iopub.status.idle": "2023-09-10T23:03:38.49328Z",
          "shell.execute_reply.started": "2023-09-10T23:02:44.695303Z",
          "shell.execute_reply": "2023-09-10T23:03:38.491824Z"
        },
        "trusted": true,
        "id": "a3BE7a85Kxr0"
      },
      "execution_count": null,
      "outputs": []
    },
    {
      "cell_type": "markdown",
      "source": [
        "**Complete Linkage**\n",
        "\n",
        "In complete linkage hierarchical clustering, the distance between two clusters is defined as the longest distance between two points in each cluster. For example, the distance between clusters “r” and “s” to the left is equal to the length of the arrow between their two furthest points."
      ],
      "metadata": {
        "papermill": {
          "duration": 0.034579,
          "end_time": "2023-09-10T22:51:01.770124",
          "exception": false,
          "start_time": "2023-09-10T22:51:01.735545",
          "status": "completed"
        },
        "tags": [],
        "id": "5FzweWIkKxr0"
      }
    },
    {
      "cell_type": "code",
      "source": [
        "# Complete linkage\n",
        "\n",
        "mergings = linkage(rfm_df_scaled, method=\"complete\", metric='euclidean')\n",
        "dendrogram(mergings)\n",
        "plt.show()"
      ],
      "metadata": {
        "papermill": {
          "duration": 54.168422,
          "end_time": "2023-09-10T22:51:55.971773",
          "exception": false,
          "start_time": "2023-09-10T22:51:01.803351",
          "status": "completed"
        },
        "tags": [],
        "execution": {
          "iopub.status.busy": "2023-09-10T23:03:38.495163Z",
          "iopub.execute_input": "2023-09-10T23:03:38.496295Z",
          "iopub.status.idle": "2023-09-10T23:04:31.925325Z",
          "shell.execute_reply.started": "2023-09-10T23:03:38.496253Z",
          "shell.execute_reply": "2023-09-10T23:04:31.923607Z"
        },
        "trusted": true,
        "id": "2VnnXTdNKxr0"
      },
      "execution_count": null,
      "outputs": []
    },
    {
      "cell_type": "markdown",
      "source": [
        "**Average Linkage:**\n",
        "\n",
        "In average linkage hierarchical clustering, the distance between two clusters is defined as the average distance between each point in one cluster to every point in the other cluster. For example, the distance between clusters “r” and “s” to the left is equal to the average length each arrow between connecting the points of one cluster to the other."
      ],
      "metadata": {
        "papermill": {
          "duration": 0.032127,
          "end_time": "2023-09-10T22:51:56.035955",
          "exception": false,
          "start_time": "2023-09-10T22:51:56.003828",
          "status": "completed"
        },
        "tags": [],
        "id": "jMAbZGN_Kxr1"
      }
    },
    {
      "cell_type": "code",
      "source": [
        "# Average linkage\n",
        "\n",
        "mergings = linkage(rfm_df_scaled, method=\"average\", metric='euclidean')\n",
        "dendrogram(mergings)\n",
        "plt.show()"
      ],
      "metadata": {
        "papermill": {
          "duration": 52.986562,
          "end_time": "2023-09-10T22:52:49.056994",
          "exception": false,
          "start_time": "2023-09-10T22:51:56.070432",
          "status": "completed"
        },
        "tags": [],
        "execution": {
          "iopub.status.busy": "2023-09-10T23:04:31.928309Z",
          "iopub.execute_input": "2023-09-10T23:04:31.928661Z",
          "iopub.status.idle": "2023-09-10T23:05:26.470848Z",
          "shell.execute_reply.started": "2023-09-10T23:04:31.928632Z",
          "shell.execute_reply": "2023-09-10T23:05:26.469557Z"
        },
        "trusted": true,
        "id": "7bSGk2QWKxr1"
      },
      "execution_count": null,
      "outputs": []
    },
    {
      "cell_type": "markdown",
      "source": [
        "#### Cutting the Dendrogram based on K\n"
      ],
      "metadata": {
        "papermill": {
          "duration": 0.030919,
          "end_time": "2023-09-10T22:52:49.1188",
          "exception": false,
          "start_time": "2023-09-10T22:52:49.087881",
          "status": "completed"
        },
        "tags": [],
        "id": "OuI7t8YlKxr1"
      }
    },
    {
      "cell_type": "code",
      "source": [
        "# 3 clusters\n",
        "cluster_labels = cut_tree(mergings, n_clusters=3).reshape(-1, )\n",
        "cluster_labels"
      ],
      "metadata": {
        "papermill": {
          "duration": 0.432346,
          "end_time": "2023-09-10T22:52:49.58295",
          "exception": false,
          "start_time": "2023-09-10T22:52:49.150604",
          "status": "completed"
        },
        "tags": [],
        "execution": {
          "iopub.status.busy": "2023-09-10T23:05:26.472333Z",
          "iopub.execute_input": "2023-09-10T23:05:26.472786Z",
          "iopub.status.idle": "2023-09-10T23:05:26.887604Z",
          "shell.execute_reply.started": "2023-09-10T23:05:26.472754Z",
          "shell.execute_reply": "2023-09-10T23:05:26.885734Z"
        },
        "trusted": true,
        "id": "EWYOJuBWKxr2"
      },
      "execution_count": null,
      "outputs": []
    },
    {
      "cell_type": "code",
      "source": [
        "# Assign cluster labels\n",
        "\n",
        "merged_rfm['Cluster_Labels'] = cluster_labels\n",
        "merged_rfm.head()"
      ],
      "metadata": {
        "papermill": {
          "duration": 0.0471,
          "end_time": "2023-09-10T22:52:49.661165",
          "exception": false,
          "start_time": "2023-09-10T22:52:49.614065",
          "status": "completed"
        },
        "tags": [],
        "execution": {
          "iopub.status.busy": "2023-09-10T23:05:26.889083Z",
          "iopub.execute_input": "2023-09-10T23:05:26.889455Z",
          "iopub.status.idle": "2023-09-10T23:05:26.902964Z",
          "shell.execute_reply.started": "2023-09-10T23:05:26.889397Z",
          "shell.execute_reply": "2023-09-10T23:05:26.90142Z"
        },
        "trusted": true,
        "id": "ZHE2rXRyKxr2"
      },
      "execution_count": null,
      "outputs": []
    },
    {
      "cell_type": "code",
      "source": [
        "\n",
        "fig = px.box(merged_rfm, x='Cluster_Labels', y='Amount',\n",
        "             title=\"Cluster Labels vs Amount Box Plot\",\n",
        "             labels={'Cluster_Labels': 'Cluster Labels', 'Amount': 'Amount'})\n",
        "\n",
        "fig.update_layout(\n",
        "    xaxis=dict(title=\"Cluster Labels\", title_font=dict(size=14)),\n",
        "    yaxis=dict(title=\"Amount\", title_font=dict(size=14)),\n",
        "    showlegend=False,\n",
        "    width=800,\n",
        "    height=600\n",
        ")\n",
        "\n",
        "fig.show()\n"
      ],
      "metadata": {
        "papermill": {
          "duration": 0.093174,
          "end_time": "2023-09-10T22:52:49.785797",
          "exception": false,
          "start_time": "2023-09-10T22:52:49.692623",
          "status": "completed"
        },
        "tags": [],
        "execution": {
          "iopub.status.busy": "2023-09-10T23:05:26.9051Z",
          "iopub.execute_input": "2023-09-10T23:05:26.905553Z",
          "iopub.status.idle": "2023-09-10T23:05:26.972977Z",
          "shell.execute_reply.started": "2023-09-10T23:05:26.905515Z",
          "shell.execute_reply": "2023-09-10T23:05:26.97162Z"
        },
        "trusted": true,
        "id": "yvhMnpwTKxr3"
      },
      "execution_count": null,
      "outputs": []
    },
    {
      "cell_type": "code",
      "source": [
        "\n",
        "fig = px.box(merged_rfm, x='Cluster_Labels', y='Frequency',\n",
        "             title=\"Cluster Labels vs Frequency Box Plot\",\n",
        "             labels={'Cluster_Labels': 'Cluster Labels', 'Frequency': 'Frequency'})\n",
        "\n",
        "fig.update_layout(\n",
        "    xaxis=dict(title=\"Cluster Labels\", title_font=dict(size=14)),\n",
        "    yaxis=dict(title=\"Frequency\", title_font=dict(size=14)),\n",
        "    showlegend=False,\n",
        "    width=800,\n",
        "    height=600\n",
        ")\n",
        "\n",
        "fig.show()\n"
      ],
      "metadata": {
        "papermill": {
          "duration": 0.089764,
          "end_time": "2023-09-10T22:52:49.908252",
          "exception": false,
          "start_time": "2023-09-10T22:52:49.818488",
          "status": "completed"
        },
        "tags": [],
        "execution": {
          "iopub.status.busy": "2023-09-10T23:05:26.974678Z",
          "iopub.execute_input": "2023-09-10T23:05:26.975058Z",
          "iopub.status.idle": "2023-09-10T23:05:27.036661Z",
          "shell.execute_reply.started": "2023-09-10T23:05:26.975029Z",
          "shell.execute_reply": "2023-09-10T23:05:27.035395Z"
        },
        "trusted": true,
        "id": "awaeHEJlKxr3"
      },
      "execution_count": null,
      "outputs": []
    },
    {
      "cell_type": "code",
      "source": [
        "\n",
        "fig = px.box(merged_rfm, x='Cluster_Labels', y='Recency',\n",
        "             title=\"Cluster Labels vs Recency Box Plot\",\n",
        "             labels={'Cluster_Labels': 'Cluster Labels', 'Recency': 'Recency'})\n",
        "\n",
        "fig.update_layout(\n",
        "    xaxis=dict(title=\"Cluster Labels\", title_font=dict(size=14)),\n",
        "    yaxis=dict(title=\"Recency\", title_font=dict(size=14)),\n",
        "    showlegend=False,\n",
        "    width=800,\n",
        "    height=600\n",
        ")\n",
        "\n",
        "fig.show()\n"
      ],
      "metadata": {
        "papermill": {
          "duration": 0.094525,
          "end_time": "2023-09-10T22:52:50.034411",
          "exception": false,
          "start_time": "2023-09-10T22:52:49.939886",
          "status": "completed"
        },
        "tags": [],
        "execution": {
          "iopub.status.busy": "2023-09-10T23:05:27.038538Z",
          "iopub.execute_input": "2023-09-10T23:05:27.039005Z",
          "iopub.status.idle": "2023-09-10T23:05:27.099747Z",
          "shell.execute_reply.started": "2023-09-10T23:05:27.038965Z",
          "shell.execute_reply": "2023-09-10T23:05:27.098903Z"
        },
        "trusted": true,
        "id": "EBWnUd0KKxr4"
      },
      "execution_count": null,
      "outputs": []
    },
    {
      "cell_type": "code",
      "source": [
        "# Pairwise scatter plots for clustering (2D)\n",
        "plt.figure(figsize=(15, 8))  # Adjust the figure size here\n",
        "\n",
        "# Amount vs. Frequency\n",
        "sns.scatterplot(x='Amount', y='Frequency', hue='Cluster_Labels', data=merged_rfm, palette='Set1')\n",
        "plt.title('Amount vs. Frequency');\n"
      ],
      "metadata": {
        "papermill": {
          "duration": 0.5669,
          "end_time": "2023-09-10T22:52:50.633839",
          "exception": false,
          "start_time": "2023-09-10T22:52:50.066939",
          "status": "completed"
        },
        "tags": [],
        "execution": {
          "iopub.status.busy": "2023-09-10T23:05:27.101035Z",
          "iopub.execute_input": "2023-09-10T23:05:27.101328Z",
          "iopub.status.idle": "2023-09-10T23:05:27.664388Z",
          "shell.execute_reply.started": "2023-09-10T23:05:27.101303Z",
          "shell.execute_reply": "2023-09-10T23:05:27.663493Z"
        },
        "trusted": true,
        "id": "yHLZRq-jKxr4"
      },
      "execution_count": null,
      "outputs": []
    },
    {
      "cell_type": "code",
      "source": [
        "plt.figure(figsize=(15, 8))  # Adjust the figure size here\n",
        "\n",
        "sns.scatterplot(x='Amount', y='Recency', hue='Cluster_Labels', data=merged_rfm, palette='Set1')\n",
        "plt.title('Amount vs. Recency');\n",
        "\n",
        "\n"
      ],
      "metadata": {
        "papermill": {
          "duration": 0.555229,
          "end_time": "2023-09-10T22:52:51.226867",
          "exception": false,
          "start_time": "2023-09-10T22:52:50.671638",
          "status": "completed"
        },
        "tags": [],
        "execution": {
          "iopub.status.busy": "2023-09-10T23:05:27.665776Z",
          "iopub.execute_input": "2023-09-10T23:05:27.666449Z",
          "iopub.status.idle": "2023-09-10T23:05:28.248905Z",
          "shell.execute_reply.started": "2023-09-10T23:05:27.666386Z",
          "shell.execute_reply": "2023-09-10T23:05:28.247592Z"
        },
        "trusted": true,
        "id": "X3nQ_9nIKxr5"
      },
      "execution_count": null,
      "outputs": []
    },
    {
      "cell_type": "code",
      "source": [
        "# Frequency vs. Recency\n",
        "plt.figure(figsize=(15, 8))  # Adjust the figure size here\n",
        "sns.scatterplot(x='Frequency', y='Recency', hue='Cluster_Labels', data=merged_rfm, palette='Set1')\n",
        "plt.title('Frequency vs. Recency')\n",
        "\n",
        "plt.tight_layout()\n",
        "plt.show()"
      ],
      "metadata": {
        "papermill": {
          "duration": 0.507802,
          "end_time": "2023-09-10T22:52:51.772504",
          "exception": false,
          "start_time": "2023-09-10T22:52:51.264702",
          "status": "completed"
        },
        "tags": [],
        "execution": {
          "iopub.status.busy": "2023-09-10T23:05:28.249985Z",
          "iopub.execute_input": "2023-09-10T23:05:28.250258Z",
          "iopub.status.idle": "2023-09-10T23:05:28.77409Z",
          "shell.execute_reply.started": "2023-09-10T23:05:28.250235Z",
          "shell.execute_reply": "2023-09-10T23:05:28.772787Z"
        },
        "trusted": true,
        "id": "B2Ri2EPIKxr5"
      },
      "execution_count": null,
      "outputs": []
    },
    {
      "cell_type": "code",
      "source": [
        "\n",
        "# Apply K-Means clustering\n",
        "kmeans = KMeans(n_clusters=n_clusters)\n",
        "merged_rfm['Cluster_3D'] = kmeans.fit_predict(data_for_clustering)\n",
        "\n",
        "# Create a 3D scatter plot matrix with Plotly\n",
        "fig = px.scatter_3d(merged_rfm, x='Amount', y='Frequency', z='Recency', color='Cluster_3D',\n",
        "                     labels={'Amount': 'Amount', 'Frequency': 'Frequency', 'Recency': 'Recency', 'Cluster_3D': 'Cluster'})\n",
        "\n",
        "fig.update_layout(\n",
        "    scene=dict(\n",
        "        xaxis_title='Amount',\n",
        "        yaxis_title='Frequency',\n",
        "        zaxis_title='Recency',\n",
        "    ),\n",
        "    title='Clustering by Amount, Frequency, and Recency',\n",
        "    width=800,\n",
        "    height=600\n",
        ")\n",
        "\n",
        "fig.show()\n"
      ],
      "metadata": {
        "execution": {
          "iopub.status.busy": "2023-09-10T23:05:40.7856Z",
          "iopub.execute_input": "2023-09-10T23:05:40.785992Z",
          "iopub.status.idle": "2023-09-10T23:05:41.832793Z",
          "shell.execute_reply.started": "2023-09-10T23:05:40.785961Z",
          "shell.execute_reply": "2023-09-10T23:05:41.831379Z"
        },
        "trusted": true,
        "id": "DNcBRKpuKxr6"
      },
      "execution_count": null,
      "outputs": []
    },
    {
      "cell_type": "markdown",
      "source": [
        "### Our Analytical results\n",
        "\n",
        "Inference:\n",
        "\n",
        "### K-Means Clustering with 3 Cluster Ids\n",
        "\n",
        "**Customers with Cluster Id 1 are the customers with high amount of transactions as compared to other customers.**\n",
        "\n",
        "**Customers with Cluster Id 1 are frequent buyers.**\n",
        "\n",
        "**Customers with Cluster Id 2 are not recent buyers and hence least of importance from business point of view.**\n",
        "\n",
        "**Hierarchical Clustering with 3 Cluster Labels**\n",
        "\n",
        "**Customers with Cluster_Labels 2 are the customers with high amount of transactions as compared to other customers.**\n",
        "\n",
        "**Customers with Cluster_Labels 2 are frequent buyers.**\n",
        "\n",
        "**Customers with Cluster_Labels 0 are not recent buyers and hence least of importance from business point of view.**"
      ],
      "metadata": {
        "papermill": {
          "duration": null,
          "end_time": null,
          "exception": null,
          "start_time": null,
          "status": "pending"
        },
        "tags": [],
        "id": "IdyaQ43lKxr6"
      }
    }
  ]
}