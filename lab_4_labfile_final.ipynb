{
  "nbformat": 4,
  "nbformat_minor": 0,
  "metadata": {
    "colab": {
      "provenance": []
    },
    "kernelspec": {
      "name": "python3",
      "display_name": "Python 3"
    },
    "language_info": {
      "name": "python"
    }
  },
  "cells": [
    {
      "cell_type": "code",
      "execution_count": null,
      "metadata": {
        "colab": {
          "base_uri": "https://localhost:8080/"
        },
        "id": "PY-rM2hu9ooj",
        "outputId": "82ea984a-47bd-47a1-8e7d-65779d840234"
      },
      "outputs": [
        {
          "output_type": "execute_result",
          "data": {
            "text/plain": [
              "array([[[ 1,  2,  3],\n",
              "        [ 4,  5,  6],\n",
              "        [ 7,  8,  9]],\n",
              "\n",
              "       [[10, 11, 12],\n",
              "        [13, 14, 15],\n",
              "        [16, 17, 18]],\n",
              "\n",
              "       [[19, 20, 21],\n",
              "        [22, 23, 24],\n",
              "        [25, 26, 27]]])"
            ]
          },
          "metadata": {},
          "execution_count": 1
        }
      ],
      "source": [
        "import numpy as np\n",
        "y=np.array([[[1,2,3],\n",
        "             [4,5,6],\n",
        "             [7,8,9]],\n",
        "            [[10, 11, 12],\n",
        "             [13,14,15],\n",
        "             [16,17,18]],\n",
        "            [[19,20,21],\n",
        "             [22,23,24],\n",
        "             [25,26,27]]])\n",
        "y"
      ]
    },
    {
      "cell_type": "code",
      "source": [
        "### 1. Create a nd array of size 3 x 3 x 3 and perform subtraction operation as per x axis, y axis and z axis.\n",
        "# x axis\n",
        "x_sub = np.diff(y,axis=0)\n",
        "print(x_sub)"
      ],
      "metadata": {
        "colab": {
          "base_uri": "https://localhost:8080/"
        },
        "id": "dkwwdL5eAHpx",
        "outputId": "5bbe6e35-4bf7-4729-94ba-232eb566ec0a"
      },
      "execution_count": null,
      "outputs": [
        {
          "output_type": "stream",
          "name": "stdout",
          "text": [
            "[[[9 9 9]\n",
            "  [9 9 9]\n",
            "  [9 9 9]]\n",
            "\n",
            " [[9 9 9]\n",
            "  [9 9 9]\n",
            "  [9 9 9]]]\n"
          ]
        }
      ]
    },
    {
      "cell_type": "code",
      "source": [
        "# y axis\n",
        "y_sub = np.diff(y, axis=1)\n",
        "print(y_sub)"
      ],
      "metadata": {
        "colab": {
          "base_uri": "https://localhost:8080/"
        },
        "id": "t7FmyFS5Ajki",
        "outputId": "94537a5b-2ab0-4a10-f0c8-9f9688d2898b"
      },
      "execution_count": null,
      "outputs": [
        {
          "output_type": "stream",
          "name": "stdout",
          "text": [
            "[[[3 3 3]\n",
            "  [3 3 3]]\n",
            "\n",
            " [[3 3 3]\n",
            "  [3 3 3]]\n",
            "\n",
            " [[3 3 3]\n",
            "  [3 3 3]]]\n"
          ]
        }
      ]
    },
    {
      "cell_type": "code",
      "source": [
        "# z axis\n",
        "z_sub =np.diff(y, axis=2)\n",
        "print(z_sub)"
      ],
      "metadata": {
        "colab": {
          "base_uri": "https://localhost:8080/"
        },
        "id": "Z7Ytu4DvA3Se",
        "outputId": "69fd65c7-81d8-4110-992d-2a1aed75ecec"
      },
      "execution_count": null,
      "outputs": [
        {
          "output_type": "stream",
          "name": "stdout",
          "text": [
            "[[[1 1]\n",
            "  [1 1]\n",
            "  [1 1]]\n",
            "\n",
            " [[1 1]\n",
            "  [1 1]\n",
            "  [1 1]]\n",
            "\n",
            " [[1 1]\n",
            "  [1 1]\n",
            "  [1 1]]]\n"
          ]
        }
      ]
    },
    {
      "cell_type": "markdown",
      "source": [
        "1. basic indexing"
      ],
      "metadata": {
        "id": "NSrbrL0-FAcz"
      }
    },
    {
      "cell_type": "code",
      "source": [
        "x=np.arange(15)\n",
        "#x.shape=(3,5)\n",
        "x"
      ],
      "metadata": {
        "colab": {
          "base_uri": "https://localhost:8080/"
        },
        "id": "M0iMotcSBMGi",
        "outputId": "18f58ae2-6fa1-44a8-e23e-30b705708f30"
      },
      "execution_count": null,
      "outputs": [
        {
          "output_type": "execute_result",
          "data": {
            "text/plain": [
              "array([[ 0,  1,  2,  3,  4],\n",
              "       [ 5,  6,  7,  8,  9],\n",
              "       [10, 11, 12, 13, 14]])"
            ]
          },
          "metadata": {},
          "execution_count": 17
        }
      ]
    },
    {
      "cell_type": "code",
      "source": [
        "x[2,-4]"
      ],
      "metadata": {
        "colab": {
          "base_uri": "https://localhost:8080/"
        },
        "id": "gt_15axl_GrL",
        "outputId": "95cb4780-0acc-49d3-c55f-b4f0b024e806"
      },
      "execution_count": null,
      "outputs": [
        {
          "output_type": "execute_result",
          "data": {
            "text/plain": [
              "11"
            ]
          },
          "metadata": {},
          "execution_count": 19
        }
      ]
    },
    {
      "cell_type": "code",
      "source": [
        "x[0]"
      ],
      "metadata": {
        "colab": {
          "base_uri": "https://localhost:8080/"
        },
        "id": "yierm4DPE3-j",
        "outputId": "a7ad6139-01de-4529-a8fe-70db4aab9b3a"
      },
      "execution_count": null,
      "outputs": [
        {
          "output_type": "execute_result",
          "data": {
            "text/plain": [
              "array([0, 1, 2, 3, 4])"
            ]
          },
          "metadata": {},
          "execution_count": 20
        }
      ]
    },
    {
      "cell_type": "code",
      "source": [
        "x[1][2]"
      ],
      "metadata": {
        "colab": {
          "base_uri": "https://localhost:8080/"
        },
        "id": "CTc61cCjE646",
        "outputId": "160bbb0f-aebf-43c6-9377-f2972115a7b2"
      },
      "execution_count": null,
      "outputs": [
        {
          "output_type": "execute_result",
          "data": {
            "text/plain": [
              "7"
            ]
          },
          "metadata": {},
          "execution_count": 21
        }
      ]
    },
    {
      "cell_type": "markdown",
      "source": [
        "2. Slicing"
      ],
      "metadata": {
        "id": "NvD93uk2FGST"
      }
    },
    {
      "cell_type": "code",
      "source": [
        "x=np.array([1,35,67,83,92,73,63,99,100])\n",
        "y=x[1:7:2]\n",
        "y"
      ],
      "metadata": {
        "colab": {
          "base_uri": "https://localhost:8080/"
        },
        "id": "jJKQ4rdNGIde",
        "outputId": "1e492ad7-0c85-4ab1-a103-caa4096f84ae"
      },
      "execution_count": null,
      "outputs": [
        {
          "output_type": "execute_result",
          "data": {
            "text/plain": [
              "array([35, 83, 73])"
            ]
          },
          "metadata": {},
          "execution_count": 36
        }
      ]
    },
    {
      "cell_type": "code",
      "source": [
        "x[2:6:2]"
      ],
      "metadata": {
        "colab": {
          "base_uri": "https://localhost:8080/"
        },
        "id": "TjGGdfGlHGwD",
        "outputId": "2eb55d7b-45f6-48a5-8960-bf4e04c18e0a"
      },
      "execution_count": null,
      "outputs": [
        {
          "output_type": "execute_result",
          "data": {
            "text/plain": [
              "array([67, 92])"
            ]
          },
          "metadata": {},
          "execution_count": 39
        }
      ]
    },
    {
      "cell_type": "code",
      "source": [
        "x[4:7]"
      ],
      "metadata": {
        "colab": {
          "base_uri": "https://localhost:8080/"
        },
        "id": "Kq_lhaesIVd8",
        "outputId": "2e381c48-e1f5-4791-c527-24292ba82adb"
      },
      "execution_count": null,
      "outputs": [
        {
          "output_type": "execute_result",
          "data": {
            "text/plain": [
              "array([92, 73, 63])"
            ]
          },
          "metadata": {},
          "execution_count": 40
        }
      ]
    },
    {
      "cell_type": "markdown",
      "source": [
        "3. Boolean indexing\n",
        "this is advanced indexing is used array as object of boolean type, such may use a comparitional operators. A common use case for this is filtering for desired value elements."
      ],
      "metadata": {
        "id": "1igzMoiPIfi5"
      }
    },
    {
      "cell_type": "code",
      "source": [
        "#For example, one may wish to select all entries from an array which are not NaN:\n",
        "x = np.array([[1., 2.], [np.nan, 3.], [np.nan, np.nan]])\n",
        "x[~np.isnan(x)]"
      ],
      "metadata": {
        "id": "JitabAwuIlpx",
        "colab": {
          "base_uri": "https://localhost:8080/"
        },
        "outputId": "11f76fb1-5b6d-4cb4-9a8b-859516179474"
      },
      "execution_count": null,
      "outputs": [
        {
          "output_type": "execute_result",
          "data": {
            "text/plain": [
              "array([1., 2., 3.])"
            ]
          },
          "metadata": {},
          "execution_count": 3
        }
      ]
    },
    {
      "cell_type": "markdown",
      "source": [
        "numpy. isnan() returns a Boolean array. It returns True if an element is NaN . It returns False otherwise."
      ],
      "metadata": {
        "id": "WHDCliO0Ry48"
      }
    },
    {
      "cell_type": "code",
      "source": [
        "import numpy as np\n",
        "t = np.array([[[1],[3],[5]], [[7],[9],[11]]])\n",
        "t.shape\n"
      ],
      "metadata": {
        "colab": {
          "base_uri": "https://localhost:8080/"
        },
        "id": "MrKhjXpdEKhV",
        "outputId": "6fb4e601-57ca-488c-8b2e-a62d3744ed2c"
      },
      "execution_count": null,
      "outputs": [
        {
          "output_type": "execute_result",
          "data": {
            "text/plain": [
              "(2, 3, 1)"
            ]
          },
          "metadata": {},
          "execution_count": 11
        }
      ]
    },
    {
      "cell_type": "code",
      "source": [
        "y=t[1:2]\n",
        "y"
      ],
      "metadata": {
        "colab": {
          "base_uri": "https://localhost:8080/"
        },
        "id": "N0LuN85rEiEU",
        "outputId": "96be27ba-b631-450e-d444-7445c0fc98d8"
      },
      "execution_count": null,
      "outputs": [
        {
          "output_type": "execute_result",
          "data": {
            "text/plain": [
              "array([[[ 7],\n",
              "        [ 9],\n",
              "        [11]]])"
            ]
          },
          "metadata": {},
          "execution_count": 10
        }
      ]
    },
    {
      "cell_type": "code",
      "source": [
        "x = np.arange(25).reshape(5, 5)\n",
        "b = x > 20\n",
        "b[:, 3]"
      ],
      "metadata": {
        "colab": {
          "base_uri": "https://localhost:8080/"
        },
        "id": "DnsT7VnpR_C_",
        "outputId": "40787d78-f6df-4a02-b1e3-9d2a06127e1a"
      },
      "execution_count": null,
      "outputs": [
        {
          "output_type": "execute_result",
          "data": {
            "text/plain": [
              "array([False, False, False, False,  True])"
            ]
          },
          "metadata": {},
          "execution_count": 6
        }
      ]
    },
    {
      "cell_type": "code",
      "source": [
        "#From an array, select all rows which sum up to less or equal two:\n",
        "x = np.array([[0, 1], [1, 1], [2, 2]])\n",
        "rowsum = x.sum(-1)\n",
        "x[rowsum <= 2, :]"
      ],
      "metadata": {
        "colab": {
          "base_uri": "https://localhost:8080/"
        },
        "id": "UQjjEV5DR-_4",
        "outputId": "53d11b4b-a6f4-44f6-ea72-b633a99dff24"
      },
      "execution_count": null,
      "outputs": [
        {
          "output_type": "execute_result",
          "data": {
            "text/plain": [
              "array([[0, 1],\n",
              "       [1, 1]])"
            ]
          },
          "metadata": {},
          "execution_count": 17
        }
      ]
    },
    {
      "cell_type": "markdown",
      "source": [
        "Fancy indexing is conceptually simple, it means a passing an array of indices together to access multiple array at once."
      ],
      "metadata": {
        "id": "z4yuvZw8T_E9"
      }
    },
    {
      "cell_type": "code",
      "source": [
        "rand = np.random.RandomState(42)\n",
        "#eturns a random integer value between the two lower and higher limits (including both limits) provided as two parameters\n",
        "x = rand.randint(300, size=10)\n",
        "print(x)"
      ],
      "metadata": {
        "colab": {
          "base_uri": "https://localhost:8080/"
        },
        "id": "FCy6efJTR-72",
        "outputId": "a4c6bd41-d7b4-4484-e7d0-4dcd5e52e3c1"
      },
      "execution_count": null,
      "outputs": [
        {
          "output_type": "stream",
          "name": "stdout",
          "text": [
            "[102 270 106  71 188  20 102 121 214  87]\n"
          ]
        }
      ]
    },
    {
      "cell_type": "code",
      "source": [
        "[x[5],x[2],x[4],x[3]]"
      ],
      "metadata": {
        "colab": {
          "base_uri": "https://localhost:8080/"
        },
        "id": "kfweEE3WR-x9",
        "outputId": "5e5e8b79-6a2d-4329-f32b-131a2ccc1969"
      },
      "execution_count": null,
      "outputs": [
        {
          "output_type": "execute_result",
          "data": {
            "text/plain": [
              "[20, 106, 188, 71]"
            ]
          },
          "metadata": {},
          "execution_count": 15
        }
      ]
    },
    {
      "cell_type": "markdown",
      "source": [
        "Trigonometric functions functions work on radians, so angles need to be converted to radians by multiplying by pi/180. Only then we can call trigonometric functions. They take an array as input arguments."
      ],
      "metadata": {
        "id": "vTFo_3r4WW4E"
      }
    },
    {
      "cell_type": "code",
      "source": [
        "# Python code to demonstrate trigonometric function\n",
        "import numpy as np\n",
        "\n",
        "# create an array of angles\n",
        "angles = np.array([0, 30, 45, 60, 90, 180])\n",
        "\n",
        "# conversion of degree into radians\n",
        "# using deg2rad function\n",
        "radians = np.deg2rad(angles)\n",
        "print(radians)"
      ],
      "metadata": {
        "colab": {
          "base_uri": "https://localhost:8080/"
        },
        "id": "LeTGRFuhWUVk",
        "outputId": "1abe21e5-8a0b-4d1e-d349-381517ed933c"
      },
      "execution_count": null,
      "outputs": [
        {
          "output_type": "stream",
          "name": "stdout",
          "text": [
            "[0.         0.52359878 0.78539816 1.04719755 1.57079633 3.14159265]\n"
          ]
        }
      ]
    },
    {
      "cell_type": "code",
      "source": [
        "# cosine of angles\n",
        "print('cosine of angles in the array:')\n",
        "cosine_value = np.cos(radians)\n",
        "print(np.cos(radians))"
      ],
      "metadata": {
        "colab": {
          "base_uri": "https://localhost:8080/"
        },
        "id": "8N8u4-Z6YBRM",
        "outputId": "c7711991-0027-4fbd-dbf1-1372b5ef461f"
      },
      "execution_count": null,
      "outputs": [
        {
          "output_type": "stream",
          "name": "stdout",
          "text": [
            "cosine of angles in the array:\n",
            "[ 1.00000000e+00  8.66025404e-01  7.07106781e-01  5.00000000e-01\n",
            "  6.12323400e-17 -1.00000000e+00]\n"
          ]
        }
      ]
    },
    {
      "cell_type": "code",
      "source": [
        "# inverse cosine of cosine values\n",
        "print('Inverse cosine of cosine values:')\n",
        "print(np.arccos(cosine_value))"
      ],
      "metadata": {
        "colab": {
          "base_uri": "https://localhost:8080/"
        },
        "id": "m78PFsJ2YWPS",
        "outputId": "6d47478a-f7bf-43db-930b-071730f3dc43"
      },
      "execution_count": null,
      "outputs": [
        {
          "output_type": "stream",
          "name": "stdout",
          "text": [
            "Inverse cosine of cosine values:\n",
            "[0.         0.52359878 0.78539816 1.04719755 1.57079633 3.14159265]\n"
          ]
        }
      ]
    },
    {
      "cell_type": "code",
      "source": [
        "# hypot function demonstration\n",
        "base = 67\n",
        "height = 56\n",
        "print('hypotenuse of right triangle is:')\n",
        "print(np.hypot(base, height))"
      ],
      "metadata": {
        "colab": {
          "base_uri": "https://localhost:8080/"
        },
        "id": "S7x9d4u5Y0o7",
        "outputId": "d7913838-9bf4-4588-fcd5-5ed54d549769"
      },
      "execution_count": null,
      "outputs": [
        {
          "output_type": "stream",
          "name": "stdout",
          "text": [
            "hypotenuse of right triangle is:\n",
            "87.32124598286491\n"
          ]
        }
      ]
    },
    {
      "cell_type": "markdown",
      "source": [
        "Statistical functions are used to calculate mean, median, variance, minimum of array elements.\n",
        "\n",
        "\n",
        "It includes functions like-\n",
        "\n",
        "amin, amax\t- returns minimum or maximum of an array or along an axis\n",
        "\n",
        "\n",
        "ptp\t- returns range of values (maximum-minimum) of an array or along an axis\n",
        "\n",
        "\n",
        "percentile(a, p, axis) -\tcalculate pth percentile of array or along specified axis"
      ],
      "metadata": {
        "id": "qAhh54o2ZUwz"
      }
    },
    {
      "cell_type": "code",
      "source": [
        "# Python code demonstrate statistical function\n",
        "import numpy as np\n",
        "\n",
        "# construct a weight array\n",
        "weight = np.arange(25)\n",
        "\n",
        "# minimum and maximum\n",
        "print('Minimum and maximum weight of the students: ')\n",
        "print(np.amin(weight), np.amax(weight))\n",
        "\n",
        "# range of weight i.e. max weight-min weight\n",
        "print('Range of the weight of the students: ')\n",
        "print(np.ptp(weight))\n",
        "\n",
        "# percentile\n",
        "print('Weight below which 70 % student fall: ')\n",
        "print(np.percentile(weight, 70))\n",
        "\n",
        "# variance\n",
        "print('variance weight of the students : ')\n",
        "print(np.var(weight))"
      ],
      "metadata": {
        "colab": {
          "base_uri": "https://localhost:8080/"
        },
        "id": "2Apmq-lCZZPj",
        "outputId": "80d94df6-7fa4-49ed-da81-ec25de609e55"
      },
      "execution_count": null,
      "outputs": [
        {
          "output_type": "stream",
          "name": "stdout",
          "text": [
            "Minimum and maximum weight of the students: \n",
            "0 24\n",
            "Range of the weight of the students: \n",
            "24\n",
            "Weight below which 70 % student fall: \n",
            "16.799999999999997\n",
            "variance weight of the students : \n",
            "52.0\n"
          ]
        }
      ]
    },
    {
      "cell_type": "markdown",
      "source": [
        "Bit-twiddling functions accept integer values as input arguments and perform bitwise operations on binary representations of those integers.\n",
        "\n",
        " It include functions like-\n",
        "\n",
        "bitwise_and\t- performs bitwise and operation on two array elements\n",
        "\n",
        "bitwies_or -\tperforms bitwise or operation on two array elements\n",
        "\n",
        "bitwise_xor\t- performs bitwise xor operation on two array elements"
      ],
      "metadata": {
        "id": "zck3iQpzaeVD"
      }
    },
    {
      "cell_type": "code",
      "source": [
        "even = np.array([0, 2, 4, 6, 8, 16, 32])\n",
        "odd = np.array([1, 3, 5, 7, 9, 17, 33])\n",
        "\n",
        "# bitwise_and\n",
        "print('bitwise_and of two arrays: ')\n",
        "print(np.bitwise_and(even, odd))\n",
        "\n",
        "# bitwise_or\n",
        "print('bitwise_or of two arrays: ')\n",
        "print(np.bitwise_or(even, odd))\n",
        "\n",
        "# bitwise_xor\n",
        "print('bitwise_xor of two arrays: ')\n",
        "print(np.bitwise_xor(even, odd))"
      ],
      "metadata": {
        "colab": {
          "base_uri": "https://localhost:8080/"
        },
        "id": "l0CjBvWnakJK",
        "outputId": "fe28d162-ba7f-46d7-db87-09615863cf83"
      },
      "execution_count": null,
      "outputs": [
        {
          "output_type": "stream",
          "name": "stdout",
          "text": [
            "bitwise_and of two arrays: \n",
            "[ 0  2  4  6  8 16 32]\n",
            "bitwise_or of two arrays: \n",
            "[ 1  3  5  7  9 17 33]\n",
            "bitwise_xor of two arrays: \n",
            "[1 1 1 1 1 1 1]\n"
          ]
        }
      ]
    },
    {
      "cell_type": "markdown",
      "source": [
        "### 4. Download the dataset of your choice and demonstrate the following operations on it:\n",
        "#### 1. Read the dataset in the form of array\n",
        "#### 2. Perform any 5 nd array operations on the above dataset (for ex. reshaping, ravel, transpose, vstack, concatenate etc.)"
      ],
      "metadata": {
        "id": "NxlcHMXpbYyj"
      }
    },
    {
      "cell_type": "code",
      "source": [
        "import pandas as pd\n",
        "df=pd.read_csv(\"/content/homelessness (1).csv\")\n",
        "arr=df.to_numpy()\n",
        "print(arr)"
      ],
      "metadata": {
        "colab": {
          "base_uri": "https://localhost:8080/"
        },
        "id": "vu-xRUUwblvV",
        "outputId": "03425c75-1fad-41c2-ee61-86dc741679cb"
      },
      "execution_count": null,
      "outputs": [
        {
          "output_type": "stream",
          "name": "stdout",
          "text": [
            "[[0 'East South Central' 'Alabama' 2570.0 864.0 4887681]\n",
            " [1 'Pacific' 'Alaska' 1434.0 582.0 735139]\n",
            " [2 'Mountain' 'Arizona' 7259.0 2606.0 7158024]\n",
            " [3 'West South Central' 'Arkansas' 2280.0 432.0 3009733]\n",
            " [4 'Pacific' 'California' 109008.0 20964.0 39461588]\n",
            " [5 'Mountain' 'Colorado' 7607.0 3250.0 5691287]\n",
            " [6 'New England' 'Connecticut' 2280.0 1696.0 3571520]\n",
            " [7 'South Atlantic' 'Delaware' 708.0 374.0 965479]\n",
            " [8 'South Atlantic' 'District of Columbia' 3770.0 3134.0 701547]\n",
            " [9 'South Atlantic' 'Florida' 21443.0 9587.0 21244317]\n",
            " [10 'South Atlantic' 'Georgia' 6943.0 2556.0 10511131]\n",
            " [11 'Pacific' 'Hawaii' 4131.0 2399.0 1420593]\n",
            " [12 'Mountain' 'Idaho' 1297.0 715.0 1750536]\n",
            " [13 'East North Central' 'Illinois' 6752.0 3891.0 12723071]\n",
            " [14 'East North Central' 'Indiana' 3776.0 1482.0 6695497]\n",
            " [15 'West North Central' 'Iowa' 1711.0 1038.0 3148618]\n",
            " [16 'West North Central' 'Kansas' 1443.0 773.0 2911359]\n",
            " [17 'East South Central' 'Kentucky' 2735.0 953.0 4461153]\n",
            " [18 'West South Central' 'Louisiana' 2540.0 519.0 4659690]\n",
            " [19 'New England' 'Maine' 1450.0 1066.0 1339057]\n",
            " [20 'South Atlantic' 'Maryland' 4914.0 2230.0 6035802]\n",
            " [21 'New England' 'Massachusetts' 6811.0 13257.0 6882635]\n",
            " [22 'East North Central' 'Michigan' 5209.0 3142.0 9984072]\n",
            " [23 'West North Central' 'Minnesota' 3993.0 3250.0 5606249]\n",
            " [24 'East South Central' 'Mississippi' 1024.0 328.0 2981020]\n",
            " [25 'West North Central' 'Missouri' 3776.0 2107.0 6121623]\n",
            " [26 'Mountain' 'Montana' 983.0 422.0 1060665]\n",
            " [27 'West North Central' 'Nebraska' 1745.0 676.0 1925614]\n",
            " [28 'Mountain' 'Nevada' 7058.0 486.0 3027341]\n",
            " [29 'New England' 'New Hampshire' 835.0 615.0 1353465]\n",
            " [30 'Mid-Atlantic' 'New Jersey' 6048.0 3350.0 8886025]\n",
            " [31 'Mountain' 'New Mexico' 1949.0 602.0 2092741]\n",
            " [32 'Mid-Atlantic' 'New York' 39827.0 52070.0 19530351]\n",
            " [33 'South Atlantic' 'North Carolina' 6451.0 2817.0 10381615]\n",
            " [34 'West North Central' 'North Dakota' 467.0 75.0 758080]\n",
            " [35 'East North Central' 'Ohio' 6929.0 3320.0 11676341]\n",
            " [36 'West South Central' 'Oklahoma' 2823.0 1048.0 3940235]\n",
            " [37 'Pacific' 'Oregon' 11139.0 3337.0 4181886]\n",
            " [38 'Mid-Atlantic' 'Pennsylvania' 8163.0 5349.0 12800922]\n",
            " [39 'New England' 'Rhode Island' 747.0 354.0 1058287]\n",
            " [40 'South Atlantic' 'South Carolina' 3082.0 851.0 5084156]\n",
            " [41 'West North Central' 'South Dakota' 836.0 323.0 878698]\n",
            " [42 'East South Central' 'Tennessee' 6139.0 1744.0 6771631]\n",
            " [43 'West South Central' 'Texas' 19199.0 6111.0 28628666]\n",
            " [44 'Mountain' 'Utah' 1904.0 972.0 3153550]\n",
            " [45 'New England' 'Vermont' 780.0 511.0 624358]\n",
            " [46 'South Atlantic' 'Virginia' 3928.0 2047.0 8501286]\n",
            " [47 'Pacific' 'Washington' 16424.0 5880.0 7523869]\n",
            " [48 'South Atlantic' 'West Virginia' 1021.0 222.0 1804291]\n",
            " [49 'East North Central' 'Wisconsin' 2740.0 2167.0 5807406]\n",
            " [50 'Mountain' 'Wyoming' 434.0 205.0 577601]]\n"
          ]
        }
      ]
    },
    {
      "cell_type": "code",
      "source": [
        "df.shape"
      ],
      "metadata": {
        "colab": {
          "base_uri": "https://localhost:8080/"
        },
        "id": "ebVFAvHlcDw6",
        "outputId": "069659ae-6908-40ce-a853-e9205615754a"
      },
      "execution_count": null,
      "outputs": [
        {
          "output_type": "execute_result",
          "data": {
            "text/plain": [
              "(51, 6)"
            ]
          },
          "metadata": {},
          "execution_count": 49
        }
      ]
    },
    {
      "cell_type": "code",
      "source": [
        "# .reshape() to make a copy with the desired shape.\n",
        "arr.reshape(1,306)\n",
        "print(arr)"
      ],
      "metadata": {
        "colab": {
          "base_uri": "https://localhost:8080/"
        },
        "id": "bdYZkk23b_-i",
        "outputId": "afdbd876-9cfd-4da4-8fda-d6d80411a733"
      },
      "execution_count": null,
      "outputs": [
        {
          "output_type": "stream",
          "name": "stdout",
          "text": [
            "[[0 'East South Central' 'Alabama' 2570.0 864.0 4887681]\n",
            " [1 'Pacific' 'Alaska' 1434.0 582.0 735139]\n",
            " [2 'Mountain' 'Arizona' 7259.0 2606.0 7158024]\n",
            " [3 'West South Central' 'Arkansas' 2280.0 432.0 3009733]\n",
            " [4 'Pacific' 'California' 109008.0 20964.0 39461588]\n",
            " [5 'Mountain' 'Colorado' 7607.0 3250.0 5691287]\n",
            " [6 'New England' 'Connecticut' 2280.0 1696.0 3571520]\n",
            " [7 'South Atlantic' 'Delaware' 708.0 374.0 965479]\n",
            " [8 'South Atlantic' 'District of Columbia' 3770.0 3134.0 701547]\n",
            " [9 'South Atlantic' 'Florida' 21443.0 9587.0 21244317]\n",
            " [10 'South Atlantic' 'Georgia' 6943.0 2556.0 10511131]\n",
            " [11 'Pacific' 'Hawaii' 4131.0 2399.0 1420593]\n",
            " [12 'Mountain' 'Idaho' 1297.0 715.0 1750536]\n",
            " [13 'East North Central' 'Illinois' 6752.0 3891.0 12723071]\n",
            " [14 'East North Central' 'Indiana' 3776.0 1482.0 6695497]\n",
            " [15 'West North Central' 'Iowa' 1711.0 1038.0 3148618]\n",
            " [16 'West North Central' 'Kansas' 1443.0 773.0 2911359]\n",
            " [17 'East South Central' 'Kentucky' 2735.0 953.0 4461153]\n",
            " [18 'West South Central' 'Louisiana' 2540.0 519.0 4659690]\n",
            " [19 'New England' 'Maine' 1450.0 1066.0 1339057]\n",
            " [20 'South Atlantic' 'Maryland' 4914.0 2230.0 6035802]\n",
            " [21 'New England' 'Massachusetts' 6811.0 13257.0 6882635]\n",
            " [22 'East North Central' 'Michigan' 5209.0 3142.0 9984072]\n",
            " [23 'West North Central' 'Minnesota' 3993.0 3250.0 5606249]\n",
            " [24 'East South Central' 'Mississippi' 1024.0 328.0 2981020]\n",
            " [25 'West North Central' 'Missouri' 3776.0 2107.0 6121623]\n",
            " [26 'Mountain' 'Montana' 983.0 422.0 1060665]\n",
            " [27 'West North Central' 'Nebraska' 1745.0 676.0 1925614]\n",
            " [28 'Mountain' 'Nevada' 7058.0 486.0 3027341]\n",
            " [29 'New England' 'New Hampshire' 835.0 615.0 1353465]\n",
            " [30 'Mid-Atlantic' 'New Jersey' 6048.0 3350.0 8886025]\n",
            " [31 'Mountain' 'New Mexico' 1949.0 602.0 2092741]\n",
            " [32 'Mid-Atlantic' 'New York' 39827.0 52070.0 19530351]\n",
            " [33 'South Atlantic' 'North Carolina' 6451.0 2817.0 10381615]\n",
            " [34 'West North Central' 'North Dakota' 467.0 75.0 758080]\n",
            " [35 'East North Central' 'Ohio' 6929.0 3320.0 11676341]\n",
            " [36 'West South Central' 'Oklahoma' 2823.0 1048.0 3940235]\n",
            " [37 'Pacific' 'Oregon' 11139.0 3337.0 4181886]\n",
            " [38 'Mid-Atlantic' 'Pennsylvania' 8163.0 5349.0 12800922]\n",
            " [39 'New England' 'Rhode Island' 747.0 354.0 1058287]\n",
            " [40 'South Atlantic' 'South Carolina' 3082.0 851.0 5084156]\n",
            " [41 'West North Central' 'South Dakota' 836.0 323.0 878698]\n",
            " [42 'East South Central' 'Tennessee' 6139.0 1744.0 6771631]\n",
            " [43 'West South Central' 'Texas' 19199.0 6111.0 28628666]\n",
            " [44 'Mountain' 'Utah' 1904.0 972.0 3153550]\n",
            " [45 'New England' 'Vermont' 780.0 511.0 624358]\n",
            " [46 'South Atlantic' 'Virginia' 3928.0 2047.0 8501286]\n",
            " [47 'Pacific' 'Washington' 16424.0 5880.0 7523869]\n",
            " [48 'South Atlantic' 'West Virginia' 1021.0 222.0 1804291]\n",
            " [49 'East North Central' 'Wisconsin' 2740.0 2167.0 5807406]\n",
            " [50 'Mountain' 'Wyoming' 434.0 205.0 577601]]\n"
          ]
        }
      ]
    },
    {
      "cell_type": "code",
      "source": [
        "#ravel\n",
        "arr.ravel\n",
        "print(arr)"
      ],
      "metadata": {
        "colab": {
          "base_uri": "https://localhost:8080/"
        },
        "id": "Ar-nsNz2dBHw",
        "outputId": "5a7f71af-206b-4a21-910e-f4e0318098a3"
      },
      "execution_count": null,
      "outputs": [
        {
          "output_type": "stream",
          "name": "stdout",
          "text": [
            "[[0 'East South Central' 'Alabama' 2570.0 864.0 4887681]\n",
            " [1 'Pacific' 'Alaska' 1434.0 582.0 735139]\n",
            " [2 'Mountain' 'Arizona' 7259.0 2606.0 7158024]\n",
            " [3 'West South Central' 'Arkansas' 2280.0 432.0 3009733]\n",
            " [4 'Pacific' 'California' 109008.0 20964.0 39461588]\n",
            " [5 'Mountain' 'Colorado' 7607.0 3250.0 5691287]\n",
            " [6 'New England' 'Connecticut' 2280.0 1696.0 3571520]\n",
            " [7 'South Atlantic' 'Delaware' 708.0 374.0 965479]\n",
            " [8 'South Atlantic' 'District of Columbia' 3770.0 3134.0 701547]\n",
            " [9 'South Atlantic' 'Florida' 21443.0 9587.0 21244317]\n",
            " [10 'South Atlantic' 'Georgia' 6943.0 2556.0 10511131]\n",
            " [11 'Pacific' 'Hawaii' 4131.0 2399.0 1420593]\n",
            " [12 'Mountain' 'Idaho' 1297.0 715.0 1750536]\n",
            " [13 'East North Central' 'Illinois' 6752.0 3891.0 12723071]\n",
            " [14 'East North Central' 'Indiana' 3776.0 1482.0 6695497]\n",
            " [15 'West North Central' 'Iowa' 1711.0 1038.0 3148618]\n",
            " [16 'West North Central' 'Kansas' 1443.0 773.0 2911359]\n",
            " [17 'East South Central' 'Kentucky' 2735.0 953.0 4461153]\n",
            " [18 'West South Central' 'Louisiana' 2540.0 519.0 4659690]\n",
            " [19 'New England' 'Maine' 1450.0 1066.0 1339057]\n",
            " [20 'South Atlantic' 'Maryland' 4914.0 2230.0 6035802]\n",
            " [21 'New England' 'Massachusetts' 6811.0 13257.0 6882635]\n",
            " [22 'East North Central' 'Michigan' 5209.0 3142.0 9984072]\n",
            " [23 'West North Central' 'Minnesota' 3993.0 3250.0 5606249]\n",
            " [24 'East South Central' 'Mississippi' 1024.0 328.0 2981020]\n",
            " [25 'West North Central' 'Missouri' 3776.0 2107.0 6121623]\n",
            " [26 'Mountain' 'Montana' 983.0 422.0 1060665]\n",
            " [27 'West North Central' 'Nebraska' 1745.0 676.0 1925614]\n",
            " [28 'Mountain' 'Nevada' 7058.0 486.0 3027341]\n",
            " [29 'New England' 'New Hampshire' 835.0 615.0 1353465]\n",
            " [30 'Mid-Atlantic' 'New Jersey' 6048.0 3350.0 8886025]\n",
            " [31 'Mountain' 'New Mexico' 1949.0 602.0 2092741]\n",
            " [32 'Mid-Atlantic' 'New York' 39827.0 52070.0 19530351]\n",
            " [33 'South Atlantic' 'North Carolina' 6451.0 2817.0 10381615]\n",
            " [34 'West North Central' 'North Dakota' 467.0 75.0 758080]\n",
            " [35 'East North Central' 'Ohio' 6929.0 3320.0 11676341]\n",
            " [36 'West South Central' 'Oklahoma' 2823.0 1048.0 3940235]\n",
            " [37 'Pacific' 'Oregon' 11139.0 3337.0 4181886]\n",
            " [38 'Mid-Atlantic' 'Pennsylvania' 8163.0 5349.0 12800922]\n",
            " [39 'New England' 'Rhode Island' 747.0 354.0 1058287]\n",
            " [40 'South Atlantic' 'South Carolina' 3082.0 851.0 5084156]\n",
            " [41 'West North Central' 'South Dakota' 836.0 323.0 878698]\n",
            " [42 'East South Central' 'Tennessee' 6139.0 1744.0 6771631]\n",
            " [43 'West South Central' 'Texas' 19199.0 6111.0 28628666]\n",
            " [44 'Mountain' 'Utah' 1904.0 972.0 3153550]\n",
            " [45 'New England' 'Vermont' 780.0 511.0 624358]\n",
            " [46 'South Atlantic' 'Virginia' 3928.0 2047.0 8501286]\n",
            " [47 'Pacific' 'Washington' 16424.0 5880.0 7523869]\n",
            " [48 'South Atlantic' 'West Virginia' 1021.0 222.0 1804291]\n",
            " [49 'East North Central' 'Wisconsin' 2740.0 2167.0 5807406]\n",
            " [50 'Mountain' 'Wyoming' 434.0 205.0 577601]]\n"
          ]
        }
      ]
    },
    {
      "cell_type": "code",
      "source": [
        "#ravel function is used to return a contiguous array. This function returns a 1D array that contains the input elements.\n",
        "arr.ravel\n",
        "print(arr)"
      ],
      "metadata": {
        "colab": {
          "base_uri": "https://localhost:8080/"
        },
        "id": "SBlXfsgBdEcp",
        "outputId": "da0dfbf9-628a-408e-8455-f7b310e999c1"
      },
      "execution_count": null,
      "outputs": [
        {
          "output_type": "stream",
          "name": "stdout",
          "text": [
            "[[0 'East South Central' 'Alabama' 2570.0 864.0 4887681]\n",
            " [1 'Pacific' 'Alaska' 1434.0 582.0 735139]\n",
            " [2 'Mountain' 'Arizona' 7259.0 2606.0 7158024]\n",
            " [3 'West South Central' 'Arkansas' 2280.0 432.0 3009733]\n",
            " [4 'Pacific' 'California' 109008.0 20964.0 39461588]\n",
            " [5 'Mountain' 'Colorado' 7607.0 3250.0 5691287]\n",
            " [6 'New England' 'Connecticut' 2280.0 1696.0 3571520]\n",
            " [7 'South Atlantic' 'Delaware' 708.0 374.0 965479]\n",
            " [8 'South Atlantic' 'District of Columbia' 3770.0 3134.0 701547]\n",
            " [9 'South Atlantic' 'Florida' 21443.0 9587.0 21244317]\n",
            " [10 'South Atlantic' 'Georgia' 6943.0 2556.0 10511131]\n",
            " [11 'Pacific' 'Hawaii' 4131.0 2399.0 1420593]\n",
            " [12 'Mountain' 'Idaho' 1297.0 715.0 1750536]\n",
            " [13 'East North Central' 'Illinois' 6752.0 3891.0 12723071]\n",
            " [14 'East North Central' 'Indiana' 3776.0 1482.0 6695497]\n",
            " [15 'West North Central' 'Iowa' 1711.0 1038.0 3148618]\n",
            " [16 'West North Central' 'Kansas' 1443.0 773.0 2911359]\n",
            " [17 'East South Central' 'Kentucky' 2735.0 953.0 4461153]\n",
            " [18 'West South Central' 'Louisiana' 2540.0 519.0 4659690]\n",
            " [19 'New England' 'Maine' 1450.0 1066.0 1339057]\n",
            " [20 'South Atlantic' 'Maryland' 4914.0 2230.0 6035802]\n",
            " [21 'New England' 'Massachusetts' 6811.0 13257.0 6882635]\n",
            " [22 'East North Central' 'Michigan' 5209.0 3142.0 9984072]\n",
            " [23 'West North Central' 'Minnesota' 3993.0 3250.0 5606249]\n",
            " [24 'East South Central' 'Mississippi' 1024.0 328.0 2981020]\n",
            " [25 'West North Central' 'Missouri' 3776.0 2107.0 6121623]\n",
            " [26 'Mountain' 'Montana' 983.0 422.0 1060665]\n",
            " [27 'West North Central' 'Nebraska' 1745.0 676.0 1925614]\n",
            " [28 'Mountain' 'Nevada' 7058.0 486.0 3027341]\n",
            " [29 'New England' 'New Hampshire' 835.0 615.0 1353465]\n",
            " [30 'Mid-Atlantic' 'New Jersey' 6048.0 3350.0 8886025]\n",
            " [31 'Mountain' 'New Mexico' 1949.0 602.0 2092741]\n",
            " [32 'Mid-Atlantic' 'New York' 39827.0 52070.0 19530351]\n",
            " [33 'South Atlantic' 'North Carolina' 6451.0 2817.0 10381615]\n",
            " [34 'West North Central' 'North Dakota' 467.0 75.0 758080]\n",
            " [35 'East North Central' 'Ohio' 6929.0 3320.0 11676341]\n",
            " [36 'West South Central' 'Oklahoma' 2823.0 1048.0 3940235]\n",
            " [37 'Pacific' 'Oregon' 11139.0 3337.0 4181886]\n",
            " [38 'Mid-Atlantic' 'Pennsylvania' 8163.0 5349.0 12800922]\n",
            " [39 'New England' 'Rhode Island' 747.0 354.0 1058287]\n",
            " [40 'South Atlantic' 'South Carolina' 3082.0 851.0 5084156]\n",
            " [41 'West North Central' 'South Dakota' 836.0 323.0 878698]\n",
            " [42 'East South Central' 'Tennessee' 6139.0 1744.0 6771631]\n",
            " [43 'West South Central' 'Texas' 19199.0 6111.0 28628666]\n",
            " [44 'Mountain' 'Utah' 1904.0 972.0 3153550]\n",
            " [45 'New England' 'Vermont' 780.0 511.0 624358]\n",
            " [46 'South Atlantic' 'Virginia' 3928.0 2047.0 8501286]\n",
            " [47 'Pacific' 'Washington' 16424.0 5880.0 7523869]\n",
            " [48 'South Atlantic' 'West Virginia' 1021.0 222.0 1804291]\n",
            " [49 'East North Central' 'Wisconsin' 2740.0 2167.0 5807406]\n",
            " [50 'Mountain' 'Wyoming' 434.0 205.0 577601]]\n"
          ]
        }
      ]
    },
    {
      "cell_type": "code",
      "source": [
        "#transpose\n",
        "np.transpose(arr).shape"
      ],
      "metadata": {
        "colab": {
          "base_uri": "https://localhost:8080/"
        },
        "id": "HY9L4oPndEWx",
        "outputId": "9f07c7d8-9c47-4388-bb9a-b173ac5980b8"
      },
      "execution_count": null,
      "outputs": [
        {
          "output_type": "execute_result",
          "data": {
            "text/plain": [
              "(6, 51)"
            ]
          },
          "metadata": {},
          "execution_count": 55
        }
      ]
    },
    {
      "cell_type": "code",
      "source": [
        "#vstack sequence of NumPy arrays vertically and return the single array\n",
        "stacked_data = np.vstack((df, df))\n",
        "stacked_data"
      ],
      "metadata": {
        "colab": {
          "base_uri": "https://localhost:8080/"
        },
        "id": "yHkXQEhGdETI",
        "outputId": "54556e86-f7a2-426b-c177-2cc9101860ba"
      },
      "execution_count": null,
      "outputs": [
        {
          "output_type": "execute_result",
          "data": {
            "text/plain": [
              "array([[0, 'East South Central', 'Alabama', 2570.0, 864.0, 4887681],\n",
              "       [1, 'Pacific', 'Alaska', 1434.0, 582.0, 735139],\n",
              "       [2, 'Mountain', 'Arizona', 7259.0, 2606.0, 7158024],\n",
              "       [3, 'West South Central', 'Arkansas', 2280.0, 432.0, 3009733],\n",
              "       [4, 'Pacific', 'California', 109008.0, 20964.0, 39461588],\n",
              "       [5, 'Mountain', 'Colorado', 7607.0, 3250.0, 5691287],\n",
              "       [6, 'New England', 'Connecticut', 2280.0, 1696.0, 3571520],\n",
              "       [7, 'South Atlantic', 'Delaware', 708.0, 374.0, 965479],\n",
              "       [8, 'South Atlantic', 'District of Columbia', 3770.0, 3134.0,\n",
              "        701547],\n",
              "       [9, 'South Atlantic', 'Florida', 21443.0, 9587.0, 21244317],\n",
              "       [10, 'South Atlantic', 'Georgia', 6943.0, 2556.0, 10511131],\n",
              "       [11, 'Pacific', 'Hawaii', 4131.0, 2399.0, 1420593],\n",
              "       [12, 'Mountain', 'Idaho', 1297.0, 715.0, 1750536],\n",
              "       [13, 'East North Central', 'Illinois', 6752.0, 3891.0, 12723071],\n",
              "       [14, 'East North Central', 'Indiana', 3776.0, 1482.0, 6695497],\n",
              "       [15, 'West North Central', 'Iowa', 1711.0, 1038.0, 3148618],\n",
              "       [16, 'West North Central', 'Kansas', 1443.0, 773.0, 2911359],\n",
              "       [17, 'East South Central', 'Kentucky', 2735.0, 953.0, 4461153],\n",
              "       [18, 'West South Central', 'Louisiana', 2540.0, 519.0, 4659690],\n",
              "       [19, 'New England', 'Maine', 1450.0, 1066.0, 1339057],\n",
              "       [20, 'South Atlantic', 'Maryland', 4914.0, 2230.0, 6035802],\n",
              "       [21, 'New England', 'Massachusetts', 6811.0, 13257.0, 6882635],\n",
              "       [22, 'East North Central', 'Michigan', 5209.0, 3142.0, 9984072],\n",
              "       [23, 'West North Central', 'Minnesota', 3993.0, 3250.0, 5606249],\n",
              "       [24, 'East South Central', 'Mississippi', 1024.0, 328.0, 2981020],\n",
              "       [25, 'West North Central', 'Missouri', 3776.0, 2107.0, 6121623],\n",
              "       [26, 'Mountain', 'Montana', 983.0, 422.0, 1060665],\n",
              "       [27, 'West North Central', 'Nebraska', 1745.0, 676.0, 1925614],\n",
              "       [28, 'Mountain', 'Nevada', 7058.0, 486.0, 3027341],\n",
              "       [29, 'New England', 'New Hampshire', 835.0, 615.0, 1353465],\n",
              "       [30, 'Mid-Atlantic', 'New Jersey', 6048.0, 3350.0, 8886025],\n",
              "       [31, 'Mountain', 'New Mexico', 1949.0, 602.0, 2092741],\n",
              "       [32, 'Mid-Atlantic', 'New York', 39827.0, 52070.0, 19530351],\n",
              "       [33, 'South Atlantic', 'North Carolina', 6451.0, 2817.0, 10381615],\n",
              "       [34, 'West North Central', 'North Dakota', 467.0, 75.0, 758080],\n",
              "       [35, 'East North Central', 'Ohio', 6929.0, 3320.0, 11676341],\n",
              "       [36, 'West South Central', 'Oklahoma', 2823.0, 1048.0, 3940235],\n",
              "       [37, 'Pacific', 'Oregon', 11139.0, 3337.0, 4181886],\n",
              "       [38, 'Mid-Atlantic', 'Pennsylvania', 8163.0, 5349.0, 12800922],\n",
              "       [39, 'New England', 'Rhode Island', 747.0, 354.0, 1058287],\n",
              "       [40, 'South Atlantic', 'South Carolina', 3082.0, 851.0, 5084156],\n",
              "       [41, 'West North Central', 'South Dakota', 836.0, 323.0, 878698],\n",
              "       [42, 'East South Central', 'Tennessee', 6139.0, 1744.0, 6771631],\n",
              "       [43, 'West South Central', 'Texas', 19199.0, 6111.0, 28628666],\n",
              "       [44, 'Mountain', 'Utah', 1904.0, 972.0, 3153550],\n",
              "       [45, 'New England', 'Vermont', 780.0, 511.0, 624358],\n",
              "       [46, 'South Atlantic', 'Virginia', 3928.0, 2047.0, 8501286],\n",
              "       [47, 'Pacific', 'Washington', 16424.0, 5880.0, 7523869],\n",
              "       [48, 'South Atlantic', 'West Virginia', 1021.0, 222.0, 1804291],\n",
              "       [49, 'East North Central', 'Wisconsin', 2740.0, 2167.0, 5807406],\n",
              "       [50, 'Mountain', 'Wyoming', 434.0, 205.0, 577601],\n",
              "       [0, 'East South Central', 'Alabama', 2570.0, 864.0, 4887681],\n",
              "       [1, 'Pacific', 'Alaska', 1434.0, 582.0, 735139],\n",
              "       [2, 'Mountain', 'Arizona', 7259.0, 2606.0, 7158024],\n",
              "       [3, 'West South Central', 'Arkansas', 2280.0, 432.0, 3009733],\n",
              "       [4, 'Pacific', 'California', 109008.0, 20964.0, 39461588],\n",
              "       [5, 'Mountain', 'Colorado', 7607.0, 3250.0, 5691287],\n",
              "       [6, 'New England', 'Connecticut', 2280.0, 1696.0, 3571520],\n",
              "       [7, 'South Atlantic', 'Delaware', 708.0, 374.0, 965479],\n",
              "       [8, 'South Atlantic', 'District of Columbia', 3770.0, 3134.0,\n",
              "        701547],\n",
              "       [9, 'South Atlantic', 'Florida', 21443.0, 9587.0, 21244317],\n",
              "       [10, 'South Atlantic', 'Georgia', 6943.0, 2556.0, 10511131],\n",
              "       [11, 'Pacific', 'Hawaii', 4131.0, 2399.0, 1420593],\n",
              "       [12, 'Mountain', 'Idaho', 1297.0, 715.0, 1750536],\n",
              "       [13, 'East North Central', 'Illinois', 6752.0, 3891.0, 12723071],\n",
              "       [14, 'East North Central', 'Indiana', 3776.0, 1482.0, 6695497],\n",
              "       [15, 'West North Central', 'Iowa', 1711.0, 1038.0, 3148618],\n",
              "       [16, 'West North Central', 'Kansas', 1443.0, 773.0, 2911359],\n",
              "       [17, 'East South Central', 'Kentucky', 2735.0, 953.0, 4461153],\n",
              "       [18, 'West South Central', 'Louisiana', 2540.0, 519.0, 4659690],\n",
              "       [19, 'New England', 'Maine', 1450.0, 1066.0, 1339057],\n",
              "       [20, 'South Atlantic', 'Maryland', 4914.0, 2230.0, 6035802],\n",
              "       [21, 'New England', 'Massachusetts', 6811.0, 13257.0, 6882635],\n",
              "       [22, 'East North Central', 'Michigan', 5209.0, 3142.0, 9984072],\n",
              "       [23, 'West North Central', 'Minnesota', 3993.0, 3250.0, 5606249],\n",
              "       [24, 'East South Central', 'Mississippi', 1024.0, 328.0, 2981020],\n",
              "       [25, 'West North Central', 'Missouri', 3776.0, 2107.0, 6121623],\n",
              "       [26, 'Mountain', 'Montana', 983.0, 422.0, 1060665],\n",
              "       [27, 'West North Central', 'Nebraska', 1745.0, 676.0, 1925614],\n",
              "       [28, 'Mountain', 'Nevada', 7058.0, 486.0, 3027341],\n",
              "       [29, 'New England', 'New Hampshire', 835.0, 615.0, 1353465],\n",
              "       [30, 'Mid-Atlantic', 'New Jersey', 6048.0, 3350.0, 8886025],\n",
              "       [31, 'Mountain', 'New Mexico', 1949.0, 602.0, 2092741],\n",
              "       [32, 'Mid-Atlantic', 'New York', 39827.0, 52070.0, 19530351],\n",
              "       [33, 'South Atlantic', 'North Carolina', 6451.0, 2817.0, 10381615],\n",
              "       [34, 'West North Central', 'North Dakota', 467.0, 75.0, 758080],\n",
              "       [35, 'East North Central', 'Ohio', 6929.0, 3320.0, 11676341],\n",
              "       [36, 'West South Central', 'Oklahoma', 2823.0, 1048.0, 3940235],\n",
              "       [37, 'Pacific', 'Oregon', 11139.0, 3337.0, 4181886],\n",
              "       [38, 'Mid-Atlantic', 'Pennsylvania', 8163.0, 5349.0, 12800922],\n",
              "       [39, 'New England', 'Rhode Island', 747.0, 354.0, 1058287],\n",
              "       [40, 'South Atlantic', 'South Carolina', 3082.0, 851.0, 5084156],\n",
              "       [41, 'West North Central', 'South Dakota', 836.0, 323.0, 878698],\n",
              "       [42, 'East South Central', 'Tennessee', 6139.0, 1744.0, 6771631],\n",
              "       [43, 'West South Central', 'Texas', 19199.0, 6111.0, 28628666],\n",
              "       [44, 'Mountain', 'Utah', 1904.0, 972.0, 3153550],\n",
              "       [45, 'New England', 'Vermont', 780.0, 511.0, 624358],\n",
              "       [46, 'South Atlantic', 'Virginia', 3928.0, 2047.0, 8501286],\n",
              "       [47, 'Pacific', 'Washington', 16424.0, 5880.0, 7523869],\n",
              "       [48, 'South Atlantic', 'West Virginia', 1021.0, 222.0, 1804291],\n",
              "       [49, 'East North Central', 'Wisconsin', 2740.0, 2167.0, 5807406],\n",
              "       [50, 'Mountain', 'Wyoming', 434.0, 205.0, 577601]], dtype=object)"
            ]
          },
          "metadata": {},
          "execution_count": 56
        }
      ]
    },
    {
      "cell_type": "code",
      "source": [
        "#concatenate\n",
        "concatenated_data = np.concatenate((df, df), axis=1)\n",
        "concatenated_data"
      ],
      "metadata": {
        "colab": {
          "base_uri": "https://localhost:8080/"
        },
        "id": "sYUHevWkd6AC",
        "outputId": "d19d167d-cf11-4acb-b80f-899b0b6c00a2"
      },
      "execution_count": null,
      "outputs": [
        {
          "output_type": "execute_result",
          "data": {
            "text/plain": [
              "array([[0, 'East South Central', 'Alabama', 2570.0, 864.0, 4887681, 0,\n",
              "        'East South Central', 'Alabama', 2570.0, 864.0, 4887681],\n",
              "       [1, 'Pacific', 'Alaska', 1434.0, 582.0, 735139, 1, 'Pacific',\n",
              "        'Alaska', 1434.0, 582.0, 735139],\n",
              "       [2, 'Mountain', 'Arizona', 7259.0, 2606.0, 7158024, 2, 'Mountain',\n",
              "        'Arizona', 7259.0, 2606.0, 7158024],\n",
              "       [3, 'West South Central', 'Arkansas', 2280.0, 432.0, 3009733, 3,\n",
              "        'West South Central', 'Arkansas', 2280.0, 432.0, 3009733],\n",
              "       [4, 'Pacific', 'California', 109008.0, 20964.0, 39461588, 4,\n",
              "        'Pacific', 'California', 109008.0, 20964.0, 39461588],\n",
              "       [5, 'Mountain', 'Colorado', 7607.0, 3250.0, 5691287, 5,\n",
              "        'Mountain', 'Colorado', 7607.0, 3250.0, 5691287],\n",
              "       [6, 'New England', 'Connecticut', 2280.0, 1696.0, 3571520, 6,\n",
              "        'New England', 'Connecticut', 2280.0, 1696.0, 3571520],\n",
              "       [7, 'South Atlantic', 'Delaware', 708.0, 374.0, 965479, 7,\n",
              "        'South Atlantic', 'Delaware', 708.0, 374.0, 965479],\n",
              "       [8, 'South Atlantic', 'District of Columbia', 3770.0, 3134.0,\n",
              "        701547, 8, 'South Atlantic', 'District of Columbia', 3770.0,\n",
              "        3134.0, 701547],\n",
              "       [9, 'South Atlantic', 'Florida', 21443.0, 9587.0, 21244317, 9,\n",
              "        'South Atlantic', 'Florida', 21443.0, 9587.0, 21244317],\n",
              "       [10, 'South Atlantic', 'Georgia', 6943.0, 2556.0, 10511131, 10,\n",
              "        'South Atlantic', 'Georgia', 6943.0, 2556.0, 10511131],\n",
              "       [11, 'Pacific', 'Hawaii', 4131.0, 2399.0, 1420593, 11, 'Pacific',\n",
              "        'Hawaii', 4131.0, 2399.0, 1420593],\n",
              "       [12, 'Mountain', 'Idaho', 1297.0, 715.0, 1750536, 12, 'Mountain',\n",
              "        'Idaho', 1297.0, 715.0, 1750536],\n",
              "       [13, 'East North Central', 'Illinois', 6752.0, 3891.0, 12723071,\n",
              "        13, 'East North Central', 'Illinois', 6752.0, 3891.0, 12723071],\n",
              "       [14, 'East North Central', 'Indiana', 3776.0, 1482.0, 6695497, 14,\n",
              "        'East North Central', 'Indiana', 3776.0, 1482.0, 6695497],\n",
              "       [15, 'West North Central', 'Iowa', 1711.0, 1038.0, 3148618, 15,\n",
              "        'West North Central', 'Iowa', 1711.0, 1038.0, 3148618],\n",
              "       [16, 'West North Central', 'Kansas', 1443.0, 773.0, 2911359, 16,\n",
              "        'West North Central', 'Kansas', 1443.0, 773.0, 2911359],\n",
              "       [17, 'East South Central', 'Kentucky', 2735.0, 953.0, 4461153, 17,\n",
              "        'East South Central', 'Kentucky', 2735.0, 953.0, 4461153],\n",
              "       [18, 'West South Central', 'Louisiana', 2540.0, 519.0, 4659690,\n",
              "        18, 'West South Central', 'Louisiana', 2540.0, 519.0, 4659690],\n",
              "       [19, 'New England', 'Maine', 1450.0, 1066.0, 1339057, 19,\n",
              "        'New England', 'Maine', 1450.0, 1066.0, 1339057],\n",
              "       [20, 'South Atlantic', 'Maryland', 4914.0, 2230.0, 6035802, 20,\n",
              "        'South Atlantic', 'Maryland', 4914.0, 2230.0, 6035802],\n",
              "       [21, 'New England', 'Massachusetts', 6811.0, 13257.0, 6882635, 21,\n",
              "        'New England', 'Massachusetts', 6811.0, 13257.0, 6882635],\n",
              "       [22, 'East North Central', 'Michigan', 5209.0, 3142.0, 9984072,\n",
              "        22, 'East North Central', 'Michigan', 5209.0, 3142.0, 9984072],\n",
              "       [23, 'West North Central', 'Minnesota', 3993.0, 3250.0, 5606249,\n",
              "        23, 'West North Central', 'Minnesota', 3993.0, 3250.0, 5606249],\n",
              "       [24, 'East South Central', 'Mississippi', 1024.0, 328.0, 2981020,\n",
              "        24, 'East South Central', 'Mississippi', 1024.0, 328.0, 2981020],\n",
              "       [25, 'West North Central', 'Missouri', 3776.0, 2107.0, 6121623,\n",
              "        25, 'West North Central', 'Missouri', 3776.0, 2107.0, 6121623],\n",
              "       [26, 'Mountain', 'Montana', 983.0, 422.0, 1060665, 26, 'Mountain',\n",
              "        'Montana', 983.0, 422.0, 1060665],\n",
              "       [27, 'West North Central', 'Nebraska', 1745.0, 676.0, 1925614, 27,\n",
              "        'West North Central', 'Nebraska', 1745.0, 676.0, 1925614],\n",
              "       [28, 'Mountain', 'Nevada', 7058.0, 486.0, 3027341, 28, 'Mountain',\n",
              "        'Nevada', 7058.0, 486.0, 3027341],\n",
              "       [29, 'New England', 'New Hampshire', 835.0, 615.0, 1353465, 29,\n",
              "        'New England', 'New Hampshire', 835.0, 615.0, 1353465],\n",
              "       [30, 'Mid-Atlantic', 'New Jersey', 6048.0, 3350.0, 8886025, 30,\n",
              "        'Mid-Atlantic', 'New Jersey', 6048.0, 3350.0, 8886025],\n",
              "       [31, 'Mountain', 'New Mexico', 1949.0, 602.0, 2092741, 31,\n",
              "        'Mountain', 'New Mexico', 1949.0, 602.0, 2092741],\n",
              "       [32, 'Mid-Atlantic', 'New York', 39827.0, 52070.0, 19530351, 32,\n",
              "        'Mid-Atlantic', 'New York', 39827.0, 52070.0, 19530351],\n",
              "       [33, 'South Atlantic', 'North Carolina', 6451.0, 2817.0, 10381615,\n",
              "        33, 'South Atlantic', 'North Carolina', 6451.0, 2817.0, 10381615],\n",
              "       [34, 'West North Central', 'North Dakota', 467.0, 75.0, 758080,\n",
              "        34, 'West North Central', 'North Dakota', 467.0, 75.0, 758080],\n",
              "       [35, 'East North Central', 'Ohio', 6929.0, 3320.0, 11676341, 35,\n",
              "        'East North Central', 'Ohio', 6929.0, 3320.0, 11676341],\n",
              "       [36, 'West South Central', 'Oklahoma', 2823.0, 1048.0, 3940235,\n",
              "        36, 'West South Central', 'Oklahoma', 2823.0, 1048.0, 3940235],\n",
              "       [37, 'Pacific', 'Oregon', 11139.0, 3337.0, 4181886, 37, 'Pacific',\n",
              "        'Oregon', 11139.0, 3337.0, 4181886],\n",
              "       [38, 'Mid-Atlantic', 'Pennsylvania', 8163.0, 5349.0, 12800922, 38,\n",
              "        'Mid-Atlantic', 'Pennsylvania', 8163.0, 5349.0, 12800922],\n",
              "       [39, 'New England', 'Rhode Island', 747.0, 354.0, 1058287, 39,\n",
              "        'New England', 'Rhode Island', 747.0, 354.0, 1058287],\n",
              "       [40, 'South Atlantic', 'South Carolina', 3082.0, 851.0, 5084156,\n",
              "        40, 'South Atlantic', 'South Carolina', 3082.0, 851.0, 5084156],\n",
              "       [41, 'West North Central', 'South Dakota', 836.0, 323.0, 878698,\n",
              "        41, 'West North Central', 'South Dakota', 836.0, 323.0, 878698],\n",
              "       [42, 'East South Central', 'Tennessee', 6139.0, 1744.0, 6771631,\n",
              "        42, 'East South Central', 'Tennessee', 6139.0, 1744.0, 6771631],\n",
              "       [43, 'West South Central', 'Texas', 19199.0, 6111.0, 28628666, 43,\n",
              "        'West South Central', 'Texas', 19199.0, 6111.0, 28628666],\n",
              "       [44, 'Mountain', 'Utah', 1904.0, 972.0, 3153550, 44, 'Mountain',\n",
              "        'Utah', 1904.0, 972.0, 3153550],\n",
              "       [45, 'New England', 'Vermont', 780.0, 511.0, 624358, 45,\n",
              "        'New England', 'Vermont', 780.0, 511.0, 624358],\n",
              "       [46, 'South Atlantic', 'Virginia', 3928.0, 2047.0, 8501286, 46,\n",
              "        'South Atlantic', 'Virginia', 3928.0, 2047.0, 8501286],\n",
              "       [47, 'Pacific', 'Washington', 16424.0, 5880.0, 7523869, 47,\n",
              "        'Pacific', 'Washington', 16424.0, 5880.0, 7523869],\n",
              "       [48, 'South Atlantic', 'West Virginia', 1021.0, 222.0, 1804291,\n",
              "        48, 'South Atlantic', 'West Virginia', 1021.0, 222.0, 1804291],\n",
              "       [49, 'East North Central', 'Wisconsin', 2740.0, 2167.0, 5807406,\n",
              "        49, 'East North Central', 'Wisconsin', 2740.0, 2167.0, 5807406],\n",
              "       [50, 'Mountain', 'Wyoming', 434.0, 205.0, 577601, 50, 'Mountain',\n",
              "        'Wyoming', 434.0, 205.0, 577601]], dtype=object)"
            ]
          },
          "metadata": {},
          "execution_count": 57
        }
      ]
    },
    {
      "cell_type": "markdown",
      "source": [
        "### 5. Perform file input and output operations on nd array using save, load, savetxt and loadtxt methods."
      ],
      "metadata": {
        "id": "eo2lisoWeMH0"
      }
    },
    {
      "cell_type": "markdown",
      "source": [
        "The ndarray objects can be saved to and loaded from the disk files. The IO functions available are −\n",
        "\n",
        "load() and save() functions handle /numPy binary files (with npy extension)\n",
        "\n",
        "loadtxt() and savetxt() functions handle normal text files\n",
        "\n",
        "NumPy introduces a simple file format for ndarray objects. This .npy file stores data, shape, dtype and other information required to reconstruct the ndarray in a disk file such that the array is correctly retrieved even if the file is on another machine with different architecture.\n",
        "\n",
        "numpy.save()\n",
        "The numpy.save() file stores the input array in a disk file with npy extension."
      ],
      "metadata": {
        "id": "wrmBSqgNeYGq"
      }
    },
    {
      "cell_type": "code",
      "source": [
        "import numpy as np\n",
        "arr = np.array([[7,8,9], [4,5,6]])\n"
      ],
      "metadata": {
        "id": "A8QYEAbIeNLh"
      },
      "execution_count": null,
      "outputs": []
    },
    {
      "cell_type": "code",
      "source": [
        "#numpy.save() to save the array to a file\n",
        "np.save('array.npy',arr)\n",
        "arr"
      ],
      "metadata": {
        "colab": {
          "base_uri": "https://localhost:8080/"
        },
        "id": "QAicVnZKjCV_",
        "outputId": "6eb06839-e98e-4242-e569-118105942524"
      },
      "execution_count": null,
      "outputs": [
        {
          "output_type": "execute_result",
          "data": {
            "text/plain": [
              "array([[7, 8, 9],\n",
              "       [4, 5, 6]])"
            ]
          },
          "metadata": {},
          "execution_count": 8
        }
      ]
    },
    {
      "cell_type": "code",
      "source": [
        "# np.load() use to load the save array from file\n",
        "load_arr= np.load('array.npy')\n",
        "print(load_arr)"
      ],
      "metadata": {
        "colab": {
          "base_uri": "https://localhost:8080/"
        },
        "id": "5C18uNQNj2qU",
        "outputId": "0d81b80a-7bd9-4262-be3c-623bdbd93d64"
      },
      "execution_count": null,
      "outputs": [
        {
          "output_type": "stream",
          "name": "stdout",
          "text": [
            "[[7 8 9]\n",
            " [4 5 6]]\n"
          ]
        }
      ]
    },
    {
      "cell_type": "code",
      "source": [
        "np.savetxt('array.txt',arr,delimiter=',')"
      ],
      "metadata": {
        "id": "1NkXKQAJkc0-"
      },
      "execution_count": null,
      "outputs": []
    },
    {
      "cell_type": "code",
      "source": [
        "# Using numpy.loadtxt() to load the saved array from a text file\n",
        "loaded_arr_txt = np.loadtxt('array.txt', delimiter=',')\n",
        "print(loaded_arr_txt)"
      ],
      "metadata": {
        "colab": {
          "base_uri": "https://localhost:8080/"
        },
        "id": "XCalYmypk94P",
        "outputId": "6070fa39-3dc5-43f4-e014-c5050cda5801"
      },
      "execution_count": null,
      "outputs": [
        {
          "output_type": "stream",
          "name": "stdout",
          "text": [
            "[[7. 8. 9.]\n",
            " [4. 5. 6.]]\n"
          ]
        }
      ]
    }
  ]
}