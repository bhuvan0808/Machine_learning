{
 "cells": [
  {
   "cell_type": "markdown",
   "id": "d5d7f0b3",
   "metadata": {},
   "source": [
    "# LAB-4 (13/04/2023)"
   ]
  },
  {
   "cell_type": "markdown",
   "id": "114978db",
   "metadata": {},
   "source": [
    "# Design a website(app) for data collection where user first needs to register themselves, if not already registered, if registered proceed to login. Hence, design a login and registration page, based on user input.\n",
    "(1: Registration, 2:Input, 3:Exit).\n",
    "\n",
    "a. If user is a new user, take follwing input from user(Email-ID, Name, Password, City, Date_of_Birth) and dave in DB (Table: Costumer_details).\n",
    "\n",
    "    i. Check if email does not already exist in DB, also validate it.\n",
    "    \n",
    "    ii. Password should contain: 2 Upper case, 1 Lower case, 2 Special Characters and length must be min 6.\n",
    "    \n",
    "    iii.Password needs to be encrypted by some encoding scheme (should not saved in plain text).\n",
    "    \n",
    "b. If user is existing user, then ask for email_id and password, and if details match with information stored in CSV?JSON file, then display user details.\n",
    "\n",
    "c. if ther e are 3 failed login details, block user from further login for next 2 hours.\n",
    "(Create a log table (customer_log) of all login attempts, whether success or failed)"
   ]
  },
  {
   "cell_type": "code",
   "execution_count": 1,
   "id": "6202acd8",
   "metadata": {},
   "outputs": [
    {
     "name": "stdout",
     "output_type": "stream",
     "text": [
      "<mysql.connector.connection_cext.CMySQLConnection object at 0x106586200>\n"
     ]
    }
   ],
   "source": [
    "import mysql.connector\n",
    "import re\n",
    "\n",
    "# Connect to the MySQL server\n",
    "mydb = mysql.connector.connect(\n",
    "  host=\"localhost\",\n",
    "  user=\"root\",\n",
    "  password=\"Vinil@!123\",\n",
    "  database=\"demo1\"\n",
    ")\n",
    "\n",
    "print(mydb)"
   ]
  },
  {
   "cell_type": "code",
   "execution_count": 2,
   "id": "235797c8",
   "metadata": {},
   "outputs": [],
   "source": [
    "# Create a cursor object\n",
    "mycursor = mydb.cursor()"
   ]
  },
  {
   "cell_type": "code",
   "execution_count": 3,
   "id": "cc8078b4",
   "metadata": {},
   "outputs": [],
   "source": [
    "create_table_query = \"\"\"\n",
    "CREATE TABLE user_details (\n",
    "  id INT PRIMARY KEY AUTO_INCREMENT,\n",
    "  phone VARCHAR(255),\n",
    "  email VARCHAR(255),\n",
    "  name VARCHAR(255),\n",
    "  password VARCHAR(255),\n",
    "  location VARCHAR(255),\n",
    "  dob DATE\n",
    ")\n",
    "\"\"\"\n",
    "mycursor.execute(create_table_query)\n",
    "mydb.commit()"
   ]
  },
  {
   "cell_type": "code",
   "execution_count": 4,
   "id": "fc637589",
   "metadata": {},
   "outputs": [],
   "source": [
    "def validate_phone_number(phone):\n",
    "    pattern = re.compile(r'^\\d{3}-?\\d{3}-?\\d{4}$')\n",
    "    if pattern.match(phone):\n",
    "        return True\n",
    "    else:\n",
    "        return False\n"
   ]
  },
  {
   "cell_type": "code",
   "execution_count": 5,
   "id": "07dad3cb",
   "metadata": {},
   "outputs": [],
   "source": [
    "def validate_password(password):\n",
    "    pattern = re.compile(r'^(?=.*[a-z])(?=.*[A-Z]{2,})(?=.*[^\\w\\s]{2,})[a-zA-Z\\d^\\s]{6,}$')\n",
    "    if pattern.match(password):\n",
    "        return True\n",
    "    else:\n",
    "        return False\n",
    "\n"
   ]
  },
  {
   "cell_type": "code",
   "execution_count": 6,
   "id": "325664a8",
   "metadata": {},
   "outputs": [],
   "source": [
    "def validate_email(email):\n",
    "    \"\"\"Validate the given email address.\"\"\"\n",
    "    pattern = re.compile(r'^[a-zA-Z0-9._%+-]+@[a-zA-Z0-9.-]+\\.[a-zA-Z]{2,}$')\n",
    "    if pattern.match(email):\n",
    "        return True\n",
    "    else:\n",
    "        return False"
   ]
  },
  {
   "cell_type": "code",
   "execution_count": 7,
   "id": "e1a8d828",
   "metadata": {},
   "outputs": [],
   "source": [
    "def register():\n",
    "    phone_1 = input(\"Enter phone number: \")\n",
    "    name_1 = input(\"Enter name: \")\n",
    "    email_1= input(\"Enter email: \")\n",
    "    password_1 = input(\"Enter password: \")\n",
    "    location_1 = input(\"Enter location: \")\n",
    "    dob_1 = input(\"Enter date of birth (YYYY-MM-DD): \")\n",
    "\n",
    "    if not validate_phone_number(phone_1):\n",
    "        print(\"Invalid phone number format.\")\n",
    "        return\n",
    "    \n",
    "    # Check if user already exists\n",
    "    mycursor.execute(\"SELECT * FROM user_details WHERE Phone = %s\", (phone_1,))\n",
    "    result = mycursor.fetchone()\n",
    "    if result:\n",
    "        print(\"User already exists.\")\n",
    "    else:\n",
    "        # Encrypt password using SHA256\n",
    "        import hashlib\n",
    "        hash_object = hashlib.sha256(password_1.encode())\n",
    "        encrypted_password = hash_object.hexdigest()\n",
    "        \n",
    "        # Insert user data into the database\n",
    "        sql = \"INSERT INTO user_details (Phone, Name, Password, Location, DOB) VALUES (%s, %s, %s, %s, %s)\"\n",
    "        val = (phone_1, name_1, encrypted_password, location_1, dob_1)\n",
    "        mycursor.execute(sql, val)\n",
    "        mydb.commit()\n",
    "        print(\"User registered successfully.\")\n"
   ]
  },
  {
   "cell_type": "code",
   "execution_count": 8,
   "id": "bd7048db",
   "metadata": {},
   "outputs": [],
   "source": [
    "def login():\n",
    "    phone_no = input(\"Enter phone number: \")\n",
    "    password = input(\"Enter password: \")\n",
    "    mycursor.execute(\"SELECT * FROM user_details WHERE Phone = %s AND Password = %s\", (phone_no, encrypted_password))\n",
    "    result = mycursor.fetchone()\n",
    "    if result:\n",
    "        print(\"Login successful.\")\n",
    "    else:\n",
    "        print\n",
    "\n"
   ]
  },
  {
   "cell_type": "code",
   "execution_count": null,
   "id": "55f92293",
   "metadata": {},
   "outputs": [
    {
     "name": "stdout",
     "output_type": "stream",
     "text": [
      "1. Registration\n",
      "2. Login\n",
      "3. Exit\n",
      "Enter choice: 1\n",
      "Enter phone number: 7207059343\n",
      "Enter name: vinil\n",
      "Enter email: saivinil@gamil.com\n",
      "Enter password: vinil@123\n",
      "Enter location: hyd\n",
      "Enter date of birth (YYYY-MM-DD): 2003-03-06\n",
      "User registered successfully.\n",
      "1. Registration\n",
      "2. Login\n",
      "3. Exit\n"
     ]
    }
   ],
   "source": [
    "while True:\n",
    "    print(\"1. Registration\")\n",
    "    print(\"2. Login\")\n",
    "    print(\"3. Exit\")\n",
    "    choice = input(\"Enter choice: \")\n",
    "    if choice == '1':\n",
    "        register()\n",
    "    elif choice == '2':\n",
    "        login()\n",
    "    elif choice == '3':\n",
    "        break\n",
    "    else:\n",
    "        print(\"Invalid choice. Please try again.\")"
   ]
  },
  {
   "cell_type": "code",
   "execution_count": null,
   "id": "c6b76e25",
   "metadata": {},
   "outputs": [],
   "source": []
  }
 ],
 "metadata": {
  "kernelspec": {
   "display_name": "Python 3 (ipykernel)",
   "language": "python",
   "name": "python3"
  },
  "language_info": {
   "codemirror_mode": {
    "name": "ipython",
    "version": 3
   },
   "file_extension": ".py",
   "mimetype": "text/x-python",
   "name": "python",
   "nbconvert_exporter": "python",
   "pygments_lexer": "ipython3",
   "version": "3.10.9"
  }
 },
 "nbformat": 4,
 "nbformat_minor": 5
}
