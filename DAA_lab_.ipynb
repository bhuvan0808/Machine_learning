{
  "nbformat": 4,
  "nbformat_minor": 0,
  "metadata": {
    "colab": {
      "provenance": [],
      "authorship_tag": "ABX9TyMGpVtjzGQGDXdZg1SBJOJL",
      "include_colab_link": true
    },
    "kernelspec": {
      "name": "python3",
      "display_name": "Python 3"
    },
    "language_info": {
      "name": "python"
    }
  },
  "cells": [
    {
      "cell_type": "markdown",
      "metadata": {
        "id": "view-in-github",
        "colab_type": "text"
      },
      "source": [
        "<a href=\"https://colab.research.google.com/github/bhuvan0808/Machine_learning/blob/main/DAA_lab_.ipynb\" target=\"_parent\"><img src=\"https://colab.research.google.com/assets/colab-badge.svg\" alt=\"Open In Colab\"/></a>"
      ]
    },
    {
      "cell_type": "code",
      "execution_count": null,
      "metadata": {
        "colab": {
          "base_uri": "https://localhost:8080/"
        },
        "id": "7A61_TC7Fq_s",
        "outputId": "ed9dd58c-eaf9-4ff0-8515-580602521bb7"
      },
      "outputs": [
        {
          "output_type": "stream",
          "name": "stdout",
          "text": [
            "5\n"
          ]
        }
      ],
      "source": [
        "\"\"\"\n",
        "Min Heap Implementation in Python\n",
        "\"\"\"\n",
        "class MinHeap:\n",
        "    def __init__(self):\n",
        "        \"\"\"\n",
        "        On this implementation the heap list is initialized with a value\n",
        "        \"\"\"\n",
        "        self.heap_list = [0]\n",
        "        self.current_size = 0\n",
        "\n",
        "    def sift_up(self, i):\n",
        "        \"\"\"\n",
        "        Moves the value up in the tree to maintain the heap property.\n",
        "        \"\"\"\n",
        "        # While the element is not the root or the left element\n",
        "        Stop = False\n",
        "        while (i // 2 > 0) and Stop == False:\n",
        "            # If the element is less than its parent swap the elements\n",
        "            if self.heap_list[i] < self.heap_list[i // 2]:\n",
        "                self.heap_list[i], self.heap_list[i // 2] = self.heap_list[i // 2], self.heap_list[i]\n",
        "            else:\n",
        "                Stop = True\n",
        "            # Move the index to the parent to keep the properties\n",
        "            i = i // 2\n",
        "\n",
        "    def insert(self, k):\n",
        "        \"\"\"\n",
        "        Inserts a value into the heap\n",
        "        \"\"\"\n",
        "        # Append the element to the heap\n",
        "        self.heap_list.append(k)\n",
        "        # Increase the size of the heap.\n",
        "        self.current_size += 1\n",
        "        # Move the element to its position from bottom to the top\n",
        "        self.sift_up(self.current_size)\n",
        "\n",
        "    def sift_down(self, i):\n",
        "        # if the current node has at least one child\n",
        "        while (i * 2) <= self.current_size:\n",
        "            # Get the index of the min child of the current node\n",
        "            mc = self.min_child(i)\n",
        "            # Swap the values of the current element is greater than its min child\n",
        "            if self.heap_list[i] > self.heap_list[mc]:\n",
        "                self.heap_list[i], self.heap_list[mc] = self.heap_list[mc], self.heap_list[i]\n",
        "            i = mc\n",
        "\n",
        "    def min_child(self, i):\n",
        "        # If the current node has only one child, return the index of the unique child\n",
        "        if (i * 2)+1 > self.current_size:\n",
        "            return i * 2\n",
        "        else:\n",
        "            # Herein the current node has two children\n",
        "            # Return the index of the min child according to their values\n",
        "            if self.heap_list[i*2] < self.heap_list[(i*2)+1]:\n",
        "                return i * 2\n",
        "            else:\n",
        "                return (i * 2) + 1\n",
        "\n",
        "    def delete_min(self):\n",
        "        # Equal to 1 since the heap list was initialized with a value\n",
        "        if len(self.heap_list) == 1:\n",
        "            return 'Empty heap'\n",
        "\n",
        "        # Get root of the heap (The min value of the heap)\n",
        "        root = self.heap_list[1]\n",
        "\n",
        "        # Move the last value of the heap to the root\n",
        "        self.heap_list[1] = self.heap_list[self.current_size]\n",
        "\n",
        "        # Pop the last value since a copy was set on the root\n",
        "        *self.heap_list, _ = self.heap_list\n",
        "\n",
        "        # Decrease the size of the heap\n",
        "        self.current_size -= 1\n",
        "\n",
        "        # Move down the root (value at index 1) to keep the heap property\n",
        "        self.sift_down(1)\n",
        "\n",
        "        # Return the min value of the heap\n",
        "        return root\n",
        "\"\"\"\n",
        "Driver program\n",
        "\"\"\"\n",
        "# Same tree as above example.\n",
        "my_heap = MinHeap()\n",
        "my_heap.insert(5)\n",
        "my_heap.insert(6)\n",
        "my_heap.insert(7)\n",
        "my_heap.insert(9)\n",
        "my_heap.insert(13)\n",
        "my_heap.insert(11)\n",
        "my_heap.insert(10)\n",
        "\n",
        "print(my_heap.delete_min()) # removing min node i.e 5\n",
        "\n",
        ""
      ]
    }
  ]
}