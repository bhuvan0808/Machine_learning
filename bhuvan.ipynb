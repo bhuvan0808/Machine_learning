{
 "cells": [
  {
   "cell_type": "markdown",
   "id": "2c44aef7",
   "metadata": {},
   "source": [
    "Q1:"
   ]
  },
  {
   "cell_type": "code",
   "execution_count": 35,
   "id": "73c43a98",
   "metadata": {},
   "outputs": [],
   "source": [
    "file1 = open('sample_file.txt', 'r')\n",
    "file2 = open('numbers.txt', 'w')\n",
    "x = file1.readlines()\n",
    "for i in x:\n",
    "    i = i.strip()\n",
    "    if i.isdigit():\n",
    "        file2.write(i + \"\\n\")\n",
    "file1.close()\n"
   ]
  },
  {
   "cell_type": "markdown",
   "id": "70e45522",
   "metadata": {},
   "source": [
    "Q2:"
   ]
  },
  {
   "cell_type": "code",
   "execution_count": 42,
   "id": "80009e33",
   "metadata": {},
   "outputs": [],
   "source": [
    "def is_armstrong_number(num):\n",
    "    num_str = str(num)\n",
    "    num_digits = len(num_str)\n",
    "    sum_of_powers = sum(int(digit)**num_digits for digit in num_str)\n",
    "    return sum_of_powers == num\n",
    "with open('numbers.txt', 'r') as infile, open('armstrong_num.txt', 'w') as outfile:\n",
    "    for i in infile:\n",
    "        i = i.strip()\n",
    "        if i.isdigit():\n",
    "            num = int(i)\n",
    "            if is_armstrong_number(num):\n",
    "                outfile.write(str(num) + '\\n')\n"
   ]
  },
  {
   "cell_type": "markdown",
   "id": "c9945022",
   "metadata": {},
   "source": [
    "Q3:"
   ]
  },
  {
   "cell_type": "code",
   "execution_count": null,
   "id": "be6c7ed2",
   "metadata": {},
   "outputs": [],
   "source": []
  }
 ],
 "metadata": {
  "kernelspec": {
   "display_name": "Python 3 (ipykernel)",
   "language": "python",
   "name": "python3"
  },
  "language_info": {
   "codemirror_mode": {
    "name": "ipython",
    "version": 3
   },
   "file_extension": ".py",
   "mimetype": "text/x-python",
   "name": "python",
   "nbconvert_exporter": "python",
   "pygments_lexer": "ipython3",
   "version": "3.10.9"
  }
 },
 "nbformat": 4,
 "nbformat_minor": 5
}
